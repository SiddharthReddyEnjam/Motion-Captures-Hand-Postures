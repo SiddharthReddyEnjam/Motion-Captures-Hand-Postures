{
 "cells": [
  {
   "cell_type": "markdown",
   "id": "615f1640",
   "metadata": {},
   "source": [
    "# Group - 8"
   ]
  },
  {
   "cell_type": "markdown",
   "id": "72a6df47",
   "metadata": {},
   "source": [
    "# Motion Capture Hand Postures"
   ]
  },
  {
   "cell_type": "code",
   "execution_count": 1,
   "id": "3fd19a94",
   "metadata": {},
   "outputs": [],
   "source": [
    "#importing required libraries\n",
    "import pandas as pd\n",
    "import numpy as np\n",
    "import matplotlib.pyplot as plt\n",
    "from sklearn.model_selection import train_test_split, cross_val_score, GridSearchCV, KFold\n",
    "from sklearn.linear_model import SGDClassifier\n",
    "from sklearn.metrics import classification_report, accuracy_score, confusion_matrix\n",
    "from sklearn.preprocessing import MinMaxScaler\n",
    "import seaborn as sns\n",
    "from sklearn.pipeline import make_pipeline\n",
    "import warnings\n",
    "warnings.filterwarnings(\"ignore\")"
   ]
  },
  {
   "cell_type": "code",
   "execution_count": 2,
   "id": "f5dd65fc",
   "metadata": {},
   "outputs": [],
   "source": [
    "# Loading data to dataframe using pandas\n",
    "df = pd.read_csv('Group_8_data_cleaned.csv')"
   ]
  },
  {
   "cell_type": "code",
   "execution_count": 3,
   "id": "3ac57e74",
   "metadata": {},
   "outputs": [],
   "source": [
    "# Splitting the data to input data and output data\n",
    "X=df.drop(['Class', 'User'],axis=1)\n",
    "y=df['Class']"
   ]
  },
  {
   "cell_type": "code",
   "execution_count": 4,
   "id": "082cdc20",
   "metadata": {},
   "outputs": [],
   "source": [
    "X_train, X_test, y_train, y_test = train_test_split(X, y, test_size = 0.3, random_state = 42)"
   ]
  },
  {
   "cell_type": "markdown",
   "id": "95adfb30",
   "metadata": {},
   "source": [
    "# Scaling the data using MinMax Scaler"
   ]
  },
  {
   "cell_type": "code",
   "execution_count": 5,
   "id": "583483bf",
   "metadata": {},
   "outputs": [],
   "source": [
    "sc = MinMaxScaler()\n",
    "X_train_scaled = sc.fit_transform(X_train)\n",
    "X_test_scaled = sc.transform(X_test)"
   ]
  },
  {
   "cell_type": "markdown",
   "id": "f9004e64",
   "metadata": {},
   "source": [
    "# Training the model using linear classifier"
   ]
  },
  {
   "cell_type": "code",
   "execution_count": 6,
   "id": "3c87e242",
   "metadata": {},
   "outputs": [
    {
     "data": {
      "text/plain": [
       "SGDClassifier(random_state=0)"
      ]
     },
     "execution_count": 6,
     "metadata": {},
     "output_type": "execute_result"
    }
   ],
   "source": [
    "clf = SGDClassifier(loss='hinge', random_state=0)\n",
    "clf.fit(X_train_scaled, y_train)"
   ]
  },
  {
   "cell_type": "markdown",
   "id": "09d9deab",
   "metadata": {},
   "source": [
    "# Predicting the test results before getting the best hyper parameters"
   ]
  },
  {
   "cell_type": "code",
   "execution_count": 7,
   "id": "1a0cb437",
   "metadata": {},
   "outputs": [
    {
     "name": "stdout",
     "output_type": "stream",
     "text": [
      "0.9684152119168552\n"
     ]
    }
   ],
   "source": [
    "y_pred=clf.predict(X_test_scaled)\n",
    "print(accuracy_score(y_test, y_pred))"
   ]
  },
  {
   "cell_type": "code",
   "execution_count": 8,
   "id": "b4785edd",
   "metadata": {},
   "outputs": [
    {
     "name": "stdout",
     "output_type": "stream",
     "text": [
      "              precision    recall  f1-score   support\n",
      "\n",
      "           1       0.99      1.00      1.00      4898\n",
      "           2       0.94      0.96      0.95      4485\n",
      "           3       0.95      0.99      0.97      4854\n",
      "           4       0.98      0.99      0.99      4496\n",
      "           5       0.97      0.90      0.94      4696\n",
      "\n",
      "    accuracy                           0.97     23429\n",
      "   macro avg       0.97      0.97      0.97     23429\n",
      "weighted avg       0.97      0.97      0.97     23429\n",
      "\n"
     ]
    }
   ],
   "source": [
    "print(classification_report(y_test, y_pred))"
   ]
  },
  {
   "cell_type": "code",
   "execution_count": 9,
   "id": "fb6bbedf",
   "metadata": {},
   "outputs": [
    {
     "data": {
      "text/plain": [
       "KFold(n_splits=10, random_state=1, shuffle=True)"
      ]
     },
     "execution_count": 9,
     "metadata": {},
     "output_type": "execute_result"
    }
   ],
   "source": [
    "#defining the K-fold cross-validation method to use\n",
    "cv = KFold(n_splits=10, random_state=1, shuffle=True)\n",
    "cv"
   ]
  },
  {
   "cell_type": "markdown",
   "id": "1e456393",
   "metadata": {},
   "source": [
    "# Getting the best hyper parameters using grid search cross validation"
   ]
  },
  {
   "cell_type": "code",
   "execution_count": 10,
   "id": "2719d234",
   "metadata": {},
   "outputs": [],
   "source": [
    "param_grid = {\n",
    "    'learning_rate': ['constant', 'optimal', 'invscaling', 'adaptive'],\n",
    "    'alpha': [0.0001, 0.001, 0.01, 0.1]\n",
    "}"
   ]
  },
  {
   "cell_type": "code",
   "execution_count": 11,
   "id": "e1f8810e",
   "metadata": {},
   "outputs": [
    {
     "data": {
      "text/plain": [
       "GridSearchCV(cv=5, estimator=SGDClassifier(random_state=0),\n",
       "             param_grid={'alpha': [0.0001, 0.001, 0.01, 0.1],\n",
       "                         'learning_rate': ['constant', 'optimal', 'invscaling',\n",
       "                                           'adaptive']})"
      ]
     },
     "execution_count": 11,
     "metadata": {},
     "output_type": "execute_result"
    }
   ],
   "source": [
    "grid_search = GridSearchCV(clf, param_grid=param_grid, cv=5)\n",
    "grid_search.fit(X_train, y_train)"
   ]
  },
  {
   "cell_type": "markdown",
   "id": "6b80b1b3",
   "metadata": {},
   "source": [
    "# Best hyper parameters after tuning"
   ]
  },
  {
   "cell_type": "code",
   "execution_count": 12,
   "id": "1fba8967",
   "metadata": {},
   "outputs": [
    {
     "name": "stdout",
     "output_type": "stream",
     "text": [
      "Best parameters: {'alpha': 0.1, 'learning_rate': 'optimal'}\n"
     ]
    }
   ],
   "source": [
    "print(\"Best parameters:\", grid_search.best_params_)"
   ]
  },
  {
   "cell_type": "code",
   "execution_count": 18,
   "id": "a2a4938b",
   "metadata": {},
   "outputs": [
    {
     "name": "stdout",
     "output_type": "stream",
     "text": [
      "Accuracy of model for test data using Grid Search CV is 0.9427205599897562\n"
     ]
    }
   ],
   "source": [
    "# Test results accuracy using grid search cross validation\n",
    "CV_y_pred = grid_search.predict(X_test)\n",
    "acc = accuracy_score(y_test, CV_y_pred)\n",
    "print(\"Accuracy of model for test data using Grid Search CV is\", acc)"
   ]
  },
  {
   "cell_type": "markdown",
   "id": "5c8ea12f",
   "metadata": {},
   "source": [
    "# Plotting the accuracy according to alpha"
   ]
  },
  {
   "cell_type": "code",
   "execution_count": 14,
   "id": "eef9ca59",
   "metadata": {},
   "outputs": [
    {
     "data": {
      "image/png": "[encoded data removed]",
      "text/plain": [
       "<Figure size 432x288 with 1 Axes>"
      ]
     },
     "metadata": {
      "needs_background": "light"
     },
     "output_type": "display_data"
    }
   ],
   "source": [
    "# Vary alpha values and plot corresponding accuracy scores\n",
    "alphas = [0.0001, 0.001, 0.01, 0.1]\n",
    "scores = []\n",
    "\n",
    "for alpha in alphas:\n",
    "    clf = SGDClassifier(loss='hinge', random_state=0, alpha=alpha)\n",
    "    clf.fit(X_train, y_train)\n",
    "    y_pred = clf.predict(X_test)\n",
    "    scores.append(accuracy_score(y_test, y_pred))\n",
    "\n",
    "plt.plot(alphas, scores)\n",
    "plt.title('Accuracy vs. Alpha')\n",
    "plt.xlabel('Alpha')\n",
    "plt.ylabel('Accuracy')\n",
    "plt.xscale('log')\n",
    "plt.show()"
   ]
  },
  {
   "cell_type": "markdown",
   "id": "419ad0b6",
   "metadata": {},
   "source": [
    "# Classification report and confusion matrix on test results"
   ]
  },
  {
   "cell_type": "code",
   "execution_count": 15,
   "id": "52c673bc",
   "metadata": {},
   "outputs": [
    {
     "name": "stdout",
     "output_type": "stream",
     "text": [
      "              precision    recall  f1-score   support\n",
      "\n",
      "           1       0.99      1.00      0.99      4898\n",
      "           2       0.93      0.89      0.91      4485\n",
      "           3       0.94      0.97      0.95      4854\n",
      "           4       0.97      0.99      0.98      4496\n",
      "           5       0.89      0.86      0.87      4696\n",
      "\n",
      "    accuracy                           0.94     23429\n",
      "   macro avg       0.94      0.94      0.94     23429\n",
      "weighted avg       0.94      0.94      0.94     23429\n",
      "\n"
     ]
    }
   ],
   "source": [
    "print(classification_report(y_test, CV_y_pred))"
   ]
  },
  {
   "cell_type": "code",
   "execution_count": 16,
   "id": "4f4b90c7",
   "metadata": {},
   "outputs": [
    {
     "data": {
      "text/plain": [
       "array([[4882,   16,    0,    0,    0],\n",
       "       [  20, 4012,   66,   28,  359],\n",
       "       [   6,    9, 4691,    0,  148],\n",
       "       [   1,   12,   20, 4450,   13],\n",
       "       [  47,  282,  195,  120, 4052]], dtype=int64)"
      ]
     },
     "execution_count": 16,
     "metadata": {},
     "output_type": "execute_result"
    }
   ],
   "source": [
    "# getting the confusion matrix on test data based on true positive values\n",
    "conf_matrix = confusion_matrix(y_test, CV_y_pred)\n",
    "conf_matrix"
   ]
  },
  {
   "cell_type": "code",
   "execution_count": 17,
   "id": "9fa7601f",
   "metadata": {},
   "outputs": [
    {
     "data": {
      "image/png": "[encoded data removed]",
      "text/plain": [
       "<Figure size 576x432 with 2 Axes>"
      ]
     },
     "metadata": {
      "needs_background": "light"
     },
     "output_type": "display_data"
    }
   ],
   "source": [
    "# Confusion matrix heat map\n",
    "plt.figure(figsize = (8,6))\n",
    "\n",
    "sns.heatmap(conf_matrix, \n",
    "            annot=True, \n",
    "            cmap=\"Spectral\")\n",
    "plt.xlabel('Predicted', fontsize=15)\n",
    "plt.ylabel('Actual/Observed', fontsize=15);"
   ]
  },
  {
   "cell_type": "code",
   "execution_count": null,
   "id": "66ea3493",
   "metadata": {},
   "outputs": [],
   "source": []
  }
 ],
 "metadata": {
  "kernelspec": {
   "display_name": "Python 3 (ipykernel)",
   "language": "python",
   "name": "python3"
  },
  "language_info": {
   "codemirror_mode": {
    "name": "ipython",
    "version": 3
   },
   "file_extension": ".py",
   "mimetype": "text/x-python",
   "name": "python",
   "nbconvert_exporter": "python",
   "pygments_lexer": "ipython3",
   "version": "3.9.12"
  }
 },
 "nbformat": 4,
 "nbformat_minor": 5
}
