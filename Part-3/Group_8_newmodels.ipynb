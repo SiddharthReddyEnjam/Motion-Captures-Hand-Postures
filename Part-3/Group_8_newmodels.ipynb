{
 "cells": [
  {
   "cell_type": "code",
   "execution_count": 1,
   "id": "7bce1809",
   "metadata": {},
   "outputs": [],
   "source": [
    "#importing required libraries\n",
    "import pandas as pd\n",
    "import matplotlib.pyplot as plt\n",
    "import numpy as np\n",
    "from sklearn import datasets\n",
    "from sklearn import metrics\n",
    "from sklearn.preprocessing import StandardScaler\n",
    "from sklearn.metrics import confusion_matrix, classification_report, recall_score, accuracy_score\n",
    "from sklearn.metrics import f1_score\n",
    "from sklearn.metrics import roc_auc_score\n",
    "from sklearn.model_selection import train_test_split, cross_val_score, GridSearchCV, KFold\n",
    "import seaborn as sns\n",
    "import warnings\n",
    "warnings.filterwarnings(\"ignore\")"
   ]
  },
  {
   "cell_type": "code",
   "execution_count": 2,
   "id": "5ffa6e63",
   "metadata": {},
   "outputs": [],
   "source": [
    "# Loading data to dataframe using pandas\n",
    "df = pd.read_csv('Group_8_data_cleaned.csv')"
   ]
  },
  {
   "cell_type": "code",
   "execution_count": 3,
   "id": "fd4fba94",
   "metadata": {},
   "outputs": [
    {
     "data": {
      "text/plain": [
       "(78095, 35)"
      ]
     },
     "execution_count": 3,
     "metadata": {},
     "output_type": "execute_result"
    }
   ],
   "source": [
    "#shape of the data \n",
    "df.shape"
   ]
  },
  {
   "cell_type": "code",
   "execution_count": 4,
   "id": "900013cb",
   "metadata": {},
   "outputs": [
    {
     "data": {
      "text/html": [
       "<div>\n",
       "<style scoped>\n",
       "    .dataframe tbody tr th:only-of-type {\n",
       "        vertical-align: middle;\n",
       "    }\n",
       "\n",
       "    .dataframe tbody tr th {\n",
       "        vertical-align: top;\n",
       "    }\n",
       "\n",
       "    .dataframe thead th {\n",
       "        text-align: right;\n",
       "    }\n",
       "</style>\n",
       "<table border=\"1\" class=\"dataframe\">\n",
       "  <thead>\n",
       "    <tr style=\"text-align: right;\">\n",
       "      <th></th>\n",
       "      <th>Class</th>\n",
       "      <th>User</th>\n",
       "      <th>X0</th>\n",
       "      <th>Y0</th>\n",
       "      <th>Z0</th>\n",
       "      <th>X1</th>\n",
       "      <th>Y1</th>\n",
       "      <th>Z1</th>\n",
       "      <th>X2</th>\n",
       "      <th>Y2</th>\n",
       "      <th>...</th>\n",
       "      <th>Z7</th>\n",
       "      <th>X8</th>\n",
       "      <th>Y8</th>\n",
       "      <th>Z8</th>\n",
       "      <th>X9</th>\n",
       "      <th>Y9</th>\n",
       "      <th>Z9</th>\n",
       "      <th>X10</th>\n",
       "      <th>Y10</th>\n",
       "      <th>Z10</th>\n",
       "    </tr>\n",
       "  </thead>\n",
       "  <tbody>\n",
       "    <tr>\n",
       "      <th>count</th>\n",
       "      <td>78095.000000</td>\n",
       "      <td>78095.000000</td>\n",
       "      <td>78095.000000</td>\n",
       "      <td>78095.000000</td>\n",
       "      <td>78095.000000</td>\n",
       "      <td>78095.000000</td>\n",
       "      <td>78095.000000</td>\n",
       "      <td>78095.000000</td>\n",
       "      <td>78095.000000</td>\n",
       "      <td>78095.000000</td>\n",
       "      <td>...</td>\n",
       "      <td>78095.000000</td>\n",
       "      <td>78095.000000</td>\n",
       "      <td>78095.000000</td>\n",
       "      <td>78095.000000</td>\n",
       "      <td>78095.000000</td>\n",
       "      <td>78095.000000</td>\n",
       "      <td>78095.000000</td>\n",
       "      <td>78095.000000</td>\n",
       "      <td>78095.000000</td>\n",
       "      <td>78095.000000</td>\n",
       "    </tr>\n",
       "    <tr>\n",
       "      <th>mean</th>\n",
       "      <td>2.983776</td>\n",
       "      <td>7.959229</td>\n",
       "      <td>50.374640</td>\n",
       "      <td>85.892776</td>\n",
       "      <td>-29.991304</td>\n",
       "      <td>49.622910</td>\n",
       "      <td>86.245674</td>\n",
       "      <td>-29.512995</td>\n",
       "      <td>48.630439</td>\n",
       "      <td>83.821130</td>\n",
       "      <td>...</td>\n",
       "      <td>-18.461789</td>\n",
       "      <td>39.175811</td>\n",
       "      <td>84.912349</td>\n",
       "      <td>-16.233230</td>\n",
       "      <td>40.492317</td>\n",
       "      <td>76.139519</td>\n",
       "      <td>-21.675478</td>\n",
       "      <td>55.101724</td>\n",
       "      <td>77.067059</td>\n",
       "      <td>-29.510432</td>\n",
       "    </tr>\n",
       "    <tr>\n",
       "      <th>std</th>\n",
       "      <td>1.421152</td>\n",
       "      <td>4.697754</td>\n",
       "      <td>32.565248</td>\n",
       "      <td>39.976071</td>\n",
       "      <td>34.340173</td>\n",
       "      <td>32.356941</td>\n",
       "      <td>40.302889</td>\n",
       "      <td>34.750244</td>\n",
       "      <td>33.529044</td>\n",
       "      <td>40.883994</td>\n",
       "      <td>...</td>\n",
       "      <td>25.754448</td>\n",
       "      <td>13.136587</td>\n",
       "      <td>26.219305</td>\n",
       "      <td>21.875150</td>\n",
       "      <td>24.430996</td>\n",
       "      <td>26.250998</td>\n",
       "      <td>14.746789</td>\n",
       "      <td>2.782504</td>\n",
       "      <td>1.203050</td>\n",
       "      <td>2.191924</td>\n",
       "    </tr>\n",
       "    <tr>\n",
       "      <th>min</th>\n",
       "      <td>1.000000</td>\n",
       "      <td>0.000000</td>\n",
       "      <td>-35.495397</td>\n",
       "      <td>-10.918646</td>\n",
       "      <td>-126.770872</td>\n",
       "      <td>-35.755424</td>\n",
       "      <td>-13.952197</td>\n",
       "      <td>-142.848900</td>\n",
       "      <td>-44.409469</td>\n",
       "      <td>-14.858248</td>\n",
       "      <td>...</td>\n",
       "      <td>-79.784701</td>\n",
       "      <td>15.951786</td>\n",
       "      <td>25.722207</td>\n",
       "      <td>-64.272867</td>\n",
       "      <td>-33.485287</td>\n",
       "      <td>-1.484185</td>\n",
       "      <td>-48.713932</td>\n",
       "      <td>49.600755</td>\n",
       "      <td>74.892801</td>\n",
       "      <td>-32.567608</td>\n",
       "    </tr>\n",
       "    <tr>\n",
       "      <th>25%</th>\n",
       "      <td>2.000000</td>\n",
       "      <td>5.000000</td>\n",
       "      <td>29.295141</td>\n",
       "      <td>63.497746</td>\n",
       "      <td>-56.356593</td>\n",
       "      <td>28.755679</td>\n",
       "      <td>64.156450</td>\n",
       "      <td>-57.360408</td>\n",
       "      <td>25.173405</td>\n",
       "      <td>58.053733</td>\n",
       "      <td>...</td>\n",
       "      <td>-31.100188</td>\n",
       "      <td>33.041242</td>\n",
       "      <td>70.373271</td>\n",
       "      <td>-26.355574</td>\n",
       "      <td>17.081878</td>\n",
       "      <td>51.943822</td>\n",
       "      <td>-25.883805</td>\n",
       "      <td>54.057026</td>\n",
       "      <td>76.311915</td>\n",
       "      <td>-29.692614</td>\n",
       "    </tr>\n",
       "    <tr>\n",
       "      <th>50%</th>\n",
       "      <td>3.000000</td>\n",
       "      <td>9.000000</td>\n",
       "      <td>54.620245</td>\n",
       "      <td>86.526334</td>\n",
       "      <td>-30.864248</td>\n",
       "      <td>54.215714</td>\n",
       "      <td>87.543493</td>\n",
       "      <td>-30.185331</td>\n",
       "      <td>53.814592</td>\n",
       "      <td>86.459935</td>\n",
       "      <td>...</td>\n",
       "      <td>-26.419750</td>\n",
       "      <td>36.448317</td>\n",
       "      <td>75.621892</td>\n",
       "      <td>-10.499366</td>\n",
       "      <td>40.859625</td>\n",
       "      <td>76.333138</td>\n",
       "      <td>-23.045154</td>\n",
       "      <td>54.542435</td>\n",
       "      <td>77.257991</td>\n",
       "      <td>-29.692614</td>\n",
       "    </tr>\n",
       "    <tr>\n",
       "      <th>75%</th>\n",
       "      <td>4.000000</td>\n",
       "      <td>12.000000</td>\n",
       "      <td>72.488833</td>\n",
       "      <td>113.108673</td>\n",
       "      <td>-1.419462</td>\n",
       "      <td>71.763080</td>\n",
       "      <td>116.228881</td>\n",
       "      <td>-0.368080</td>\n",
       "      <td>71.561988</td>\n",
       "      <td>106.661720</td>\n",
       "      <td>...</td>\n",
       "      <td>1.356154</td>\n",
       "      <td>44.434212</td>\n",
       "      <td>100.140647</td>\n",
       "      <td>-1.077380</td>\n",
       "      <td>50.793322</td>\n",
       "      <td>87.562493</td>\n",
       "      <td>-10.663720</td>\n",
       "      <td>57.027873</td>\n",
       "      <td>77.257991</td>\n",
       "      <td>-27.775952</td>\n",
       "    </tr>\n",
       "    <tr>\n",
       "      <th>max</th>\n",
       "      <td>5.000000</td>\n",
       "      <td>14.000000</td>\n",
       "      <td>137.279372</td>\n",
       "      <td>169.175464</td>\n",
       "      <td>80.986235</td>\n",
       "      <td>136.274183</td>\n",
       "      <td>170.209350</td>\n",
       "      <td>85.120412</td>\n",
       "      <td>141.144862</td>\n",
       "      <td>168.186466</td>\n",
       "      <td>...</td>\n",
       "      <td>50.040667</td>\n",
       "      <td>61.523668</td>\n",
       "      <td>144.791711</td>\n",
       "      <td>36.839913</td>\n",
       "      <td>101.360486</td>\n",
       "      <td>140.990500</td>\n",
       "      <td>12.166408</td>\n",
       "      <td>61.484145</td>\n",
       "      <td>78.677105</td>\n",
       "      <td>-24.900958</td>\n",
       "    </tr>\n",
       "  </tbody>\n",
       "</table>\n",
       "<p>8 rows × 35 columns</p>\n",
       "</div>"
      ],
      "text/plain": [
       "              Class          User            X0            Y0            Z0  \\\n",
       "count  78095.000000  78095.000000  78095.000000  78095.000000  78095.000000   \n",
       "mean       2.983776      7.959229     50.374640     85.892776    -29.991304   \n",
       "std        1.421152      4.697754     32.565248     39.976071     34.340173   \n",
       "min        1.000000      0.000000    -35.495397    -10.918646   -126.770872   \n",
       "25%        2.000000      5.000000     29.295141     63.497746    -56.356593   \n",
       "50%        3.000000      9.000000     54.620245     86.526334    -30.864248   \n",
       "75%        4.000000     12.000000     72.488833    113.108673     -1.419462   \n",
       "max        5.000000     14.000000    137.279372    169.175464     80.986235   \n",
       "\n",
       "                 X1            Y1            Z1            X2            Y2  \\\n",
       "count  78095.000000  78095.000000  78095.000000  78095.000000  78095.000000   \n",
       "mean      49.622910     86.245674    -29.512995     48.630439     83.821130   \n",
       "std       32.356941     40.302889     34.750244     33.529044     40.883994   \n",
       "min      -35.755424    -13.952197   -142.848900    -44.409469    -14.858248   \n",
       "25%       28.755679     64.156450    -57.360408     25.173405     58.053733   \n",
       "50%       54.215714     87.543493    -30.185331     53.814592     86.459935   \n",
       "75%       71.763080    116.228881     -0.368080     71.561988    106.661720   \n",
       "max      136.274183    170.209350     85.120412    141.144862    168.186466   \n",
       "\n",
       "       ...            Z7            X8            Y8            Z8  \\\n",
       "count  ...  78095.000000  78095.000000  78095.000000  78095.000000   \n",
       "mean   ...    -18.461789     39.175811     84.912349    -16.233230   \n",
       "std    ...     25.754448     13.136587     26.219305     21.875150   \n",
       "min    ...    -79.784701     15.951786     25.722207    -64.272867   \n",
       "25%    ...    -31.100188     33.041242     70.373271    -26.355574   \n",
       "50%    ...    -26.419750     36.448317     75.621892    -10.499366   \n",
       "75%    ...      1.356154     44.434212    100.140647     -1.077380   \n",
       "max    ...     50.040667     61.523668    144.791711     36.839913   \n",
       "\n",
       "                 X9            Y9            Z9           X10           Y10  \\\n",
       "count  78095.000000  78095.000000  78095.000000  78095.000000  78095.000000   \n",
       "mean      40.492317     76.139519    -21.675478     55.101724     77.067059   \n",
       "std       24.430996     26.250998     14.746789      2.782504      1.203050   \n",
       "min      -33.485287     -1.484185    -48.713932     49.600755     74.892801   \n",
       "25%       17.081878     51.943822    -25.883805     54.057026     76.311915   \n",
       "50%       40.859625     76.333138    -23.045154     54.542435     77.257991   \n",
       "75%       50.793322     87.562493    -10.663720     57.027873     77.257991   \n",
       "max      101.360486    140.990500     12.166408     61.484145     78.677105   \n",
       "\n",
       "                Z10  \n",
       "count  78095.000000  \n",
       "mean     -29.510432  \n",
       "std        2.191924  \n",
       "min      -32.567608  \n",
       "25%      -29.692614  \n",
       "50%      -29.692614  \n",
       "75%      -27.775952  \n",
       "max      -24.900958  \n",
       "\n",
       "[8 rows x 35 columns]"
      ]
     },
     "execution_count": 4,
     "metadata": {},
     "output_type": "execute_result"
    }
   ],
   "source": [
    "# statistics of the data \n",
    "df.describe()"
   ]
  },
  {
   "cell_type": "code",
   "execution_count": 5,
   "id": "66117637",
   "metadata": {},
   "outputs": [
    {
     "data": {
      "text/plain": [
       "3    16344\n",
       "1    16265\n",
       "5    15733\n",
       "2    14978\n",
       "4    14775\n",
       "Name: Class, dtype: int64"
      ]
     },
     "execution_count": 5,
     "metadata": {},
     "output_type": "execute_result"
    }
   ],
   "source": [
    "# Checking for the number of each output class labels \n",
    "# It is a blanced multi class dataset with each class is having equal number of output labels \n",
    "df['Class'].value_counts()\n"
   ]
  },
  {
   "cell_type": "markdown",
   "id": "bb1e19a7",
   "metadata": {},
   "source": [
    "## classification with svm Linear kernel  "
   ]
  },
  {
   "cell_type": "code",
   "execution_count": 6,
   "id": "5687583a",
   "metadata": {},
   "outputs": [],
   "source": [
    "from sklearn.svm import LinearSVC"
   ]
  },
  {
   "cell_type": "code",
   "execution_count": 7,
   "id": "27b8842f",
   "metadata": {},
   "outputs": [],
   "source": [
    "# Splitting the data to input data and output data\n",
    "X=df.drop(['Class', 'User'],axis=1)\n",
    "y=df['Class']"
   ]
  },
  {
   "cell_type": "code",
   "execution_count": 8,
   "id": "f933e794",
   "metadata": {},
   "outputs": [],
   "source": [
    "X_train, X_test, y_train, y_test = train_test_split(X, y, test_size=0.3, random_state=42)"
   ]
  },
  {
   "cell_type": "code",
   "execution_count": 9,
   "id": "066267a6",
   "metadata": {},
   "outputs": [],
   "source": [
    "# Scaling the data using standard scaler\n",
    "scaler = StandardScaler()\n",
    "X_train_scaled = scaler.fit_transform(X_train)\n",
    "X_test_scaled= scaler.transform(X_test)"
   ]
  },
  {
   "cell_type": "code",
   "execution_count": 10,
   "id": "b0fa0e67",
   "metadata": {},
   "outputs": [
    {
     "data": {
      "text/plain": [
       "LinearSVC()"
      ]
     },
     "execution_count": 10,
     "metadata": {},
     "output_type": "execute_result"
    }
   ],
   "source": [
    "clf_svc_lin = LinearSVC()\n",
    "clf_svc_lin.fit(X_train_scaled, y_train)"
   ]
  },
  {
   "cell_type": "code",
   "execution_count": 11,
   "id": "31a7e1c1",
   "metadata": {},
   "outputs": [],
   "source": [
    "# Predict target values using testing data\n",
    "y_pred_svc_lin = clf_svc_lin.predict(X_test_scaled)"
   ]
  },
  {
   "cell_type": "code",
   "execution_count": 47,
   "id": "a63b3dc1",
   "metadata": {},
   "outputs": [
    {
     "name": "stdout",
     "output_type": "stream",
     "text": [
      "Accuracy for the linear support vector model before getting best hyper parameters is: 0.964744547355841\n"
     ]
    }
   ],
   "source": [
    "# Calculate accuracy of SVM classifier\n",
    "accuracy = accuracy_score(y_test, y_pred_svc_lin)\n",
    "print(\"Accuracy for the linear support vector model before getting best hyper parameters is:\", accuracy)"
   ]
  },
  {
   "cell_type": "code",
   "execution_count": 13,
   "id": "9ee4a6e5",
   "metadata": {},
   "outputs": [
    {
     "name": "stdout",
     "output_type": "stream",
     "text": [
      "              precision    recall  f1-score   support\n",
      "\n",
      "           1       0.99      1.00      0.99      4898\n",
      "           2       0.93      0.95      0.94      4485\n",
      "           3       0.96      0.98      0.97      4854\n",
      "           4       0.98      0.99      0.98      4496\n",
      "           5       0.97      0.91      0.94      4696\n",
      "\n",
      "    accuracy                           0.96     23429\n",
      "   macro avg       0.96      0.96      0.96     23429\n",
      "weighted avg       0.96      0.96      0.96     23429\n",
      "\n"
     ]
    }
   ],
   "source": [
    "print(classification_report(y_test, y_pred_svc_lin))"
   ]
  },
  {
   "cell_type": "code",
   "execution_count": 14,
   "id": "91690c91",
   "metadata": {},
   "outputs": [
    {
     "name": "stdout",
     "output_type": "stream",
     "text": [
      "[[4882   15    0    0    1]\n",
      " [  29 4253   56   33  114]\n",
      " [   6   54 4757    0   37]\n",
      " [   0   17   30 4449    0]\n",
      " [  16  221  124   73 4262]]\n"
     ]
    }
   ],
   "source": [
    "print(confusion_matrix(y_test, y_pred_svc_lin))"
   ]
  },
  {
   "cell_type": "markdown",
   "id": "cd93091c",
   "metadata": {},
   "source": [
    "# Tuning the hyper parameters"
   ]
  },
  {
   "cell_type": "code",
   "execution_count": 15,
   "id": "87cfea65",
   "metadata": {
    "scrolled": true
   },
   "outputs": [
    {
     "name": "stdout",
     "output_type": "stream",
     "text": [
      "Fitting 5 folds for each of 5 candidates, totalling 25 fits\n",
      "[CV 1/5] END ............................C=0.01;, score=0.963 total time=   1.4s\n",
      "[CV 2/5] END ............................C=0.01;, score=0.963 total time=   1.0s\n",
      "[CV 3/5] END ............................C=0.01;, score=0.968 total time=   0.8s\n",
      "[CV 4/5] END ............................C=0.01;, score=0.965 total time=   1.0s\n",
      "[CV 5/5] END ............................C=0.01;, score=0.964 total time=   0.9s\n",
      "[CV 1/5] END .............................C=0.1;, score=0.963 total time=   4.9s\n",
      "[CV 2/5] END .............................C=0.1;, score=0.963 total time=   4.2s\n",
      "[CV 3/5] END .............................C=0.1;, score=0.968 total time=   4.3s\n",
      "[CV 4/5] END .............................C=0.1;, score=0.965 total time=   4.1s\n",
      "[CV 5/5] END .............................C=0.1;, score=0.964 total time=   4.0s\n",
      "[CV 1/5] END ...............................C=1;, score=0.963 total time=  18.4s\n",
      "[CV 2/5] END ...............................C=1;, score=0.963 total time=  38.4s\n",
      "[CV 3/5] END ...............................C=1;, score=0.968 total time=  22.8s\n",
      "[CV 4/5] END ...............................C=1;, score=0.965 total time=  17.7s\n",
      "[CV 5/5] END ...............................C=1;, score=0.964 total time=  18.0s\n",
      "[CV 1/5] END ..............................C=10;, score=0.961 total time=  35.3s\n",
      "[CV 2/5] END ..............................C=10;, score=0.960 total time=  37.3s\n",
      "[CV 3/5] END ..............................C=10;, score=0.964 total time=  34.3s\n",
      "[CV 4/5] END ..............................C=10;, score=0.955 total time=  51.3s\n",
      "[CV 5/5] END ..............................C=10;, score=0.962 total time=  42.3s\n",
      "[CV 1/5] END .............................C=100;, score=0.949 total time=  46.8s\n",
      "[CV 2/5] END .............................C=100;, score=0.924 total time=  48.4s\n",
      "[CV 3/5] END .............................C=100;, score=0.952 total time=  39.6s\n",
      "[CV 4/5] END .............................C=100;, score=0.937 total time=  41.5s\n",
      "[CV 5/5] END .............................C=100;, score=0.933 total time=  38.9s\n"
     ]
    },
    {
     "data": {
      "text/plain": [
       "GridSearchCV(cv=5, estimator=LinearSVC(),\n",
       "             param_grid={'C': [0.01, 0.1, 1, 10, 100]}, verbose=3)"
      ]
     },
     "execution_count": 15,
     "metadata": {},
     "output_type": "execute_result"
    }
   ],
   "source": [
    "# defining parameter range\n",
    "param_grid = {'C': [0.01, 0.1, 1, 10, 100]}\n",
    "grid_svc_lin = GridSearchCV(clf_svc_lin, param_grid, cv=5, verbose = 3)\n",
    "\n",
    "# fitting the model for grid search\n",
    "grid_svc_lin.fit(X_train_scaled, y_train)"
   ]
  },
  {
   "cell_type": "code",
   "execution_count": 16,
   "id": "484df9ae",
   "metadata": {},
   "outputs": [
    {
     "name": "stdout",
     "output_type": "stream",
     "text": [
      "{'C': 0.01}\n",
      "LinearSVC(C=0.01)\n"
     ]
    }
   ],
   "source": [
    "# print best parameter after tuning\n",
    "print(grid_svc_lin.best_params_)\n",
    "\n",
    "# print how our model looks after hyper-parameter tuning\n",
    "print(grid_svc_lin.best_estimator_)"
   ]
  },
  {
   "cell_type": "code",
   "execution_count": 42,
   "id": "9b495b3e",
   "metadata": {},
   "outputs": [],
   "source": [
    "grid_predictions_svc_lin = grid_svc_lin.predict(X_test_scaled)"
   ]
  },
  {
   "cell_type": "code",
   "execution_count": 43,
   "id": "40dcdd88",
   "metadata": {},
   "outputs": [
    {
     "name": "stdout",
     "output_type": "stream",
     "text": [
      " The testing data accuracy for the SVC linear model using best params is 0.9646165009176662\n"
     ]
    }
   ],
   "source": [
    "print(f\" The testing data accuracy for the SVC linear model using best params is {accuracy_score(y_test, grid_predictions_svc_lin)}\")"
   ]
  },
  {
   "cell_type": "code",
   "execution_count": 17,
   "id": "da8010e5",
   "metadata": {},
   "outputs": [
    {
     "name": "stdout",
     "output_type": "stream",
     "text": [
      "              precision    recall  f1-score   support\n",
      "\n",
      "           1       0.99      1.00      0.99      4898\n",
      "           2       0.93      0.95      0.94      4485\n",
      "           3       0.96      0.98      0.97      4854\n",
      "           4       0.98      0.99      0.98      4496\n",
      "           5       0.97      0.91      0.94      4696\n",
      "\n",
      "    accuracy                           0.96     23429\n",
      "   macro avg       0.96      0.96      0.96     23429\n",
      "weighted avg       0.96      0.96      0.96     23429\n",
      "\n"
     ]
    }
   ],
   "source": [
    "# print classification report\n",
    "print(classification_report(y_test, grid_predictions_svc_lin))"
   ]
  },
  {
   "cell_type": "code",
   "execution_count": 18,
   "id": "f4d0edff",
   "metadata": {},
   "outputs": [
    {
     "data": {
      "text/plain": [
       "array([[4882,   15,    0,    0,    1],\n",
       "       [  25, 4253,   56,   35,  116],\n",
       "       [   6,   53, 4758,    0,   37],\n",
       "       [   0,   18,   31, 4447,    0],\n",
       "       [  16,  222,  123,   75, 4260]], dtype=int64)"
      ]
     },
     "execution_count": 18,
     "metadata": {},
     "output_type": "execute_result"
    }
   ],
   "source": [
    "# getting the confusion matrix on test data based on true positive values\n",
    "conf_matrix_svc_lin = confusion_matrix(y_test, grid_predictions_svc_lin)\n",
    "conf_matrix_svc_lin"
   ]
  },
  {
   "cell_type": "code",
   "execution_count": 19,
   "id": "8b89a9c2",
   "metadata": {},
   "outputs": [
    {
     "data": {
      "image/png": "[encoded data removed]",
      "text/plain": [
       "<Figure size 576x432 with 2 Axes>"
      ]
     },
     "metadata": {
      "needs_background": "light"
     },
     "output_type": "display_data"
    }
   ],
   "source": [
    "# Confusion matrix heat map\n",
    "plt.figure(figsize = (8,6))\n",
    "\n",
    "sns.heatmap(conf_matrix_svc_lin, \n",
    "            annot=True, \n",
    "            cmap=\"Spectral\",\n",
    "            fmt = \"g\")\n",
    "plt.title(\"Support Vector classification linear Confusion Matrix\")\n",
    "plt.xlabel('Predicted', fontsize=15)\n",
    "plt.ylabel('Actual/Observed', fontsize=15);"
   ]
  },
  {
   "cell_type": "markdown",
   "id": "9b891d79",
   "metadata": {},
   "source": [
    "# classification using Non Linear svm kernel"
   ]
  },
  {
   "cell_type": "code",
   "execution_count": 20,
   "id": "9ed2ac34",
   "metadata": {},
   "outputs": [],
   "source": [
    "from sklearn.svm import SVC"
   ]
  },
  {
   "cell_type": "code",
   "execution_count": 48,
   "id": "b34fd083",
   "metadata": {},
   "outputs": [
    {
     "data": {
      "text/plain": [
       "SVC()"
      ]
     },
     "execution_count": 48,
     "metadata": {},
     "output_type": "execute_result"
    }
   ],
   "source": [
    "clf_svc = SVC()\n",
    "clf_svc.fit(X_train_scaled, y_train)"
   ]
  },
  {
   "cell_type": "code",
   "execution_count": 49,
   "id": "942cddd7",
   "metadata": {},
   "outputs": [],
   "source": [
    "# Predict target values using testing data\n",
    "y_pred_svc = clf_svc.predict(X_test_scaled)"
   ]
  },
  {
   "cell_type": "code",
   "execution_count": 50,
   "id": "1d9aa637",
   "metadata": {},
   "outputs": [
    {
     "name": "stdout",
     "output_type": "stream",
     "text": [
      "Accuracy for the non-linear support vector model before getting best hyper parameters is: 0.9949208246190618\n"
     ]
    }
   ],
   "source": [
    "# Calculate accuracy of SVM classifier\n",
    "accuracy = accuracy_score(y_test, y_pred_svc)\n",
    "print(\"Accuracy for the non-linear support vector model before getting best hyper parameters is:\", accuracy)"
   ]
  },
  {
   "cell_type": "code",
   "execution_count": 51,
   "id": "3dabb1ad",
   "metadata": {},
   "outputs": [
    {
     "name": "stdout",
     "output_type": "stream",
     "text": [
      "              precision    recall  f1-score   support\n",
      "\n",
      "           1       1.00      1.00      1.00      4898\n",
      "           2       0.98      0.99      0.99      4485\n",
      "           3       1.00      1.00      1.00      4854\n",
      "           4       1.00      1.00      1.00      4496\n",
      "           5       0.99      0.98      0.99      4696\n",
      "\n",
      "    accuracy                           0.99     23429\n",
      "   macro avg       0.99      0.99      0.99     23429\n",
      "weighted avg       0.99      0.99      0.99     23429\n",
      "\n"
     ]
    }
   ],
   "source": [
    "print(classification_report(y_test,y_pred_svc))"
   ]
  },
  {
   "cell_type": "code",
   "execution_count": 52,
   "id": "d385d418",
   "metadata": {},
   "outputs": [
    {
     "name": "stdout",
     "output_type": "stream",
     "text": [
      "[[4881   16    0    0    1]\n",
      " [   0 4455    0    0   30]\n",
      " [   0    0 4854    0    0]\n",
      " [   0    0    0 4496    0]\n",
      " [   0   72    0    0 4624]]\n"
     ]
    }
   ],
   "source": [
    "print(confusion_matrix(y_test,y_pred_svc))"
   ]
  },
  {
   "cell_type": "markdown",
   "id": "52f23387",
   "metadata": {},
   "source": [
    "## Finding best model using Hyper parameter validation"
   ]
  },
  {
   "cell_type": "code",
   "execution_count": 26,
   "id": "6d0eb536",
   "metadata": {
    "scrolled": true
   },
   "outputs": [
    {
     "name": "stdout",
     "output_type": "stream",
     "text": [
      "Fitting 5 folds for each of 25 candidates, totalling 125 fits\n",
      "[CV] END ...................C=0.01, gamma=0.001, kernel=poly; total time= 7.1min\n",
      "[CV] END ...................C=0.01, gamma=0.001, kernel=poly; total time= 7.3min\n",
      "[CV] END ...................C=0.01, gamma=0.001, kernel=poly; total time= 7.0min\n",
      "[CV] END ...................C=0.01, gamma=0.001, kernel=poly; total time= 6.8min\n",
      "[CV] END ...................C=0.01, gamma=0.001, kernel=poly; total time= 7.8min\n",
      "[CV] END ....................C=0.01, gamma=0.01, kernel=poly; total time= 8.6min\n",
      "[CV] END ....................C=0.01, gamma=0.01, kernel=poly; total time= 7.1min\n",
      "[CV] END ....................C=0.01, gamma=0.01, kernel=poly; total time= 7.3min\n",
      "[CV] END ....................C=0.01, gamma=0.01, kernel=poly; total time= 7.2min\n",
      "[CV] END ....................C=0.01, gamma=0.01, kernel=poly; total time= 7.5min\n",
      "[CV] END .....................C=0.01, gamma=0.1, kernel=poly; total time=  33.8s\n",
      "[CV] END .....................C=0.01, gamma=0.1, kernel=poly; total time=  39.7s\n",
      "[CV] END .....................C=0.01, gamma=0.1, kernel=poly; total time=  41.6s\n",
      "[CV] END .....................C=0.01, gamma=0.1, kernel=poly; total time=  35.0s\n",
      "[CV] END .....................C=0.01, gamma=0.1, kernel=poly; total time=  34.2s\n",
      "[CV] END .......................C=0.01, gamma=1, kernel=poly; total time=  21.7s\n",
      "[CV] END .......................C=0.01, gamma=1, kernel=poly; total time=  21.5s\n",
      "[CV] END .......................C=0.01, gamma=1, kernel=poly; total time=  21.6s\n",
      "[CV] END .......................C=0.01, gamma=1, kernel=poly; total time=  22.8s\n",
      "[CV] END .......................C=0.01, gamma=1, kernel=poly; total time=  21.2s\n",
      "[CV] END ......................C=0.01, gamma=10, kernel=poly; total time=  21.7s\n",
      "[CV] END ......................C=0.01, gamma=10, kernel=poly; total time=  24.2s\n",
      "[CV] END ......................C=0.01, gamma=10, kernel=poly; total time=  21.5s\n",
      "[CV] END ......................C=0.01, gamma=10, kernel=poly; total time=  21.5s\n",
      "[CV] END ......................C=0.01, gamma=10, kernel=poly; total time=  28.2s\n",
      "[CV] END ....................C=0.1, gamma=0.001, kernel=poly; total time= 9.4min\n",
      "[CV] END ....................C=0.1, gamma=0.001, kernel=poly; total time= 9.8min\n",
      "[CV] END ....................C=0.1, gamma=0.001, kernel=poly; total time= 7.9min\n",
      "[CV] END ....................C=0.1, gamma=0.001, kernel=poly; total time= 7.7min\n",
      "[CV] END ....................C=0.1, gamma=0.001, kernel=poly; total time= 8.3min\n",
      "[CV] END .....................C=0.1, gamma=0.01, kernel=poly; total time= 8.1min\n",
      "[CV] END .....................C=0.1, gamma=0.01, kernel=poly; total time= 8.0min\n",
      "[CV] END .....................C=0.1, gamma=0.01, kernel=poly; total time= 7.0min\n",
      "[CV] END .....................C=0.1, gamma=0.01, kernel=poly; total time=10.3min\n",
      "[CV] END .....................C=0.1, gamma=0.01, kernel=poly; total time=11.0min\n",
      "[CV] END ......................C=0.1, gamma=0.1, kernel=poly; total time= 1.0min\n",
      "[CV] END ......................C=0.1, gamma=0.1, kernel=poly; total time= 1.2min\n",
      "[CV] END ......................C=0.1, gamma=0.1, kernel=poly; total time= 1.7min\n",
      "[CV] END ......................C=0.1, gamma=0.1, kernel=poly; total time= 1.4min\n",
      "[CV] END ......................C=0.1, gamma=0.1, kernel=poly; total time= 1.6min\n",
      "[CV] END ........................C=0.1, gamma=1, kernel=poly; total time= 1.3min\n",
      "[CV] END ........................C=0.1, gamma=1, kernel=poly; total time= 1.2min\n",
      "[CV] END ........................C=0.1, gamma=1, kernel=poly; total time= 1.2min\n",
      "[CV] END ........................C=0.1, gamma=1, kernel=poly; total time= 1.4min\n",
      "[CV] END ........................C=0.1, gamma=1, kernel=poly; total time= 1.3min\n",
      "[CV] END .......................C=0.1, gamma=10, kernel=poly; total time= 1.3min\n",
      "[CV] END .......................C=0.1, gamma=10, kernel=poly; total time= 1.4min\n",
      "[CV] END .......................C=0.1, gamma=10, kernel=poly; total time= 1.5min\n",
      "[CV] END .......................C=0.1, gamma=10, kernel=poly; total time= 1.5min\n",
      "[CV] END .......................C=0.1, gamma=10, kernel=poly; total time= 1.5min\n",
      "[CV] END ......................C=1, gamma=0.001, kernel=poly; total time=20.3min\n",
      "[CV] END ......................C=1, gamma=0.001, kernel=poly; total time=15.0min\n",
      "[CV] END ......................C=1, gamma=0.001, kernel=poly; total time=11.4min\n",
      "[CV] END ......................C=1, gamma=0.001, kernel=poly; total time= 8.0min\n",
      "[CV] END ......................C=1, gamma=0.001, kernel=poly; total time= 9.5min\n",
      "[CV] END .......................C=1, gamma=0.01, kernel=poly; total time= 3.5min\n",
      "[CV] END .......................C=1, gamma=0.01, kernel=poly; total time= 3.1min\n",
      "[CV] END .......................C=1, gamma=0.01, kernel=poly; total time= 3.1min\n",
      "[CV] END .......................C=1, gamma=0.01, kernel=poly; total time= 3.2min\n",
      "[CV] END .......................C=1, gamma=0.01, kernel=poly; total time= 3.2min\n",
      "[CV] END ........................C=1, gamma=0.1, kernel=poly; total time=  38.8s\n",
      "[CV] END ........................C=1, gamma=0.1, kernel=poly; total time=  39.1s\n",
      "[CV] END ........................C=1, gamma=0.1, kernel=poly; total time=  39.4s\n",
      "[CV] END ........................C=1, gamma=0.1, kernel=poly; total time=  38.0s\n",
      "[CV] END ........................C=1, gamma=0.1, kernel=poly; total time=  35.5s\n",
      "[CV] END ..........................C=1, gamma=1, kernel=poly; total time=  35.7s\n",
      "[CV] END ..........................C=1, gamma=1, kernel=poly; total time=  36.1s\n",
      "[CV] END ..........................C=1, gamma=1, kernel=poly; total time=  40.3s\n",
      "[CV] END ..........................C=1, gamma=1, kernel=poly; total time=  40.9s\n",
      "[CV] END ..........................C=1, gamma=1, kernel=poly; total time=  37.7s\n",
      "[CV] END .........................C=1, gamma=10, kernel=poly; total time=  39.5s\n",
      "[CV] END .........................C=1, gamma=10, kernel=poly; total time=  39.6s\n",
      "[CV] END .........................C=1, gamma=10, kernel=poly; total time=  39.2s\n",
      "[CV] END .........................C=1, gamma=10, kernel=poly; total time=  39.3s\n",
      "[CV] END .........................C=1, gamma=10, kernel=poly; total time=  38.8s\n",
      "[CV] END .....................C=10, gamma=0.001, kernel=poly; total time= 7.0min\n",
      "[CV] END .....................C=10, gamma=0.001, kernel=poly; total time= 6.7min\n",
      "[CV] END .....................C=10, gamma=0.001, kernel=poly; total time= 6.5min\n",
      "[CV] END .....................C=10, gamma=0.001, kernel=poly; total time= 6.3min\n",
      "[CV] END .....................C=10, gamma=0.001, kernel=poly; total time= 6.5min\n",
      "[CV] END ......................C=10, gamma=0.01, kernel=poly; total time=  36.5s\n",
      "[CV] END ......................C=10, gamma=0.01, kernel=poly; total time=  36.3s\n",
      "[CV] END ......................C=10, gamma=0.01, kernel=poly; total time=  36.7s\n",
      "[CV] END ......................C=10, gamma=0.01, kernel=poly; total time=  36.5s\n",
      "[CV] END ......................C=10, gamma=0.01, kernel=poly; total time=  36.3s\n",
      "[CV] END .......................C=10, gamma=0.1, kernel=poly; total time=  23.5s\n",
      "[CV] END .......................C=10, gamma=0.1, kernel=poly; total time=  23.4s\n",
      "[CV] END .......................C=10, gamma=0.1, kernel=poly; total time=  23.4s\n",
      "[CV] END .......................C=10, gamma=0.1, kernel=poly; total time=  23.7s\n",
      "[CV] END .......................C=10, gamma=0.1, kernel=poly; total time=  23.3s\n",
      "[CV] END .........................C=10, gamma=1, kernel=poly; total time=  23.4s\n",
      "[CV] END .........................C=10, gamma=1, kernel=poly; total time=  23.1s\n",
      "[CV] END .........................C=10, gamma=1, kernel=poly; total time=  23.4s\n",
      "[CV] END .........................C=10, gamma=1, kernel=poly; total time=  23.4s\n",
      "[CV] END .........................C=10, gamma=1, kernel=poly; total time=  22.9s\n",
      "[CV] END ........................C=10, gamma=10, kernel=poly; total time=  23.4s\n",
      "[CV] END ........................C=10, gamma=10, kernel=poly; total time=  23.3s\n",
      "[CV] END ........................C=10, gamma=10, kernel=poly; total time=  23.4s\n",
      "[CV] END ........................C=10, gamma=10, kernel=poly; total time=  23.3s\n",
      "[CV] END ........................C=10, gamma=10, kernel=poly; total time=  23.5s\n",
      "[CV] END ....................C=100, gamma=0.001, kernel=poly; total time= 5.1min\n",
      "[CV] END ....................C=100, gamma=0.001, kernel=poly; total time= 4.9min\n",
      "[CV] END ....................C=100, gamma=0.001, kernel=poly; total time= 4.9min\n",
      "[CV] END ....................C=100, gamma=0.001, kernel=poly; total time= 5.0min\n",
      "[CV] END ....................C=100, gamma=0.001, kernel=poly; total time= 4.9min\n",
      "[CV] END .....................C=100, gamma=0.01, kernel=poly; total time=  24.7s\n",
      "[CV] END .....................C=100, gamma=0.01, kernel=poly; total time=  24.5s\n",
      "[CV] END .....................C=100, gamma=0.01, kernel=poly; total time=  24.6s\n",
      "[CV] END .....................C=100, gamma=0.01, kernel=poly; total time=  24.1s\n",
      "[CV] END .....................C=100, gamma=0.01, kernel=poly; total time=  23.9s\n",
      "[CV] END ......................C=100, gamma=0.1, kernel=poly; total time=  23.2s\n",
      "[CV] END ......................C=100, gamma=0.1, kernel=poly; total time=  23.2s\n",
      "[CV] END ......................C=100, gamma=0.1, kernel=poly; total time=  23.0s\n",
      "[CV] END ......................C=100, gamma=0.1, kernel=poly; total time=  23.0s\n",
      "[CV] END ......................C=100, gamma=0.1, kernel=poly; total time=  22.8s\n",
      "[CV] END ........................C=100, gamma=1, kernel=poly; total time=  23.3s\n",
      "[CV] END ........................C=100, gamma=1, kernel=poly; total time=  23.6s\n",
      "[CV] END ........................C=100, gamma=1, kernel=poly; total time=  23.6s\n",
      "[CV] END ........................C=100, gamma=1, kernel=poly; total time=  23.6s\n",
      "[CV] END ........................C=100, gamma=1, kernel=poly; total time=  23.2s\n",
      "[CV] END .......................C=100, gamma=10, kernel=poly; total time=  23.8s\n",
      "[CV] END .......................C=100, gamma=10, kernel=poly; total time=  23.4s\n",
      "[CV] END .......................C=100, gamma=10, kernel=poly; total time=  23.5s\n",
      "[CV] END .......................C=100, gamma=10, kernel=poly; total time=  23.4s\n",
      "[CV] END .......................C=100, gamma=10, kernel=poly; total time=  23.0s\n"
     ]
    },
    {
     "data": {
      "text/plain": [
       "GridSearchCV(cv=5, estimator=SVC(kernel='poly'),\n",
       "             param_grid={'C': [0.01, 0.1, 1, 10, 100],\n",
       "                         'gamma': [0.001, 0.01, 0.1, 1, 10],\n",
       "                         'kernel': ['poly']},\n",
       "             verbose=2)"
      ]
     },
     "execution_count": 26,
     "metadata": {},
     "output_type": "execute_result"
    }
   ],
   "source": [
    "# defining parameter range\n",
    "param_grid = {'C': [0.01, 0.1, 1, 10, 100], 'gamma': [0.001, 0.01, 0.1, 1, 10], 'kernel':['poly']}\n",
    "\n",
    "grid_svc = GridSearchCV(clf_svc, param_grid, cv=5, verbose = 2)\n",
    "\n",
    "# fitting the model for grid search\n",
    "grid_svc.fit(X_train_scaled, y_train)"
   ]
  },
  {
   "cell_type": "code",
   "execution_count": 27,
   "id": "92c52755",
   "metadata": {},
   "outputs": [
    {
     "name": "stdout",
     "output_type": "stream",
     "text": [
      "{'C': 0.1, 'gamma': 0.1, 'kernel': 'poly'}\n",
      "SVC(C=0.1, gamma=0.1, kernel='poly')\n"
     ]
    }
   ],
   "source": [
    "# print best parameter after tuning\n",
    "print(grid_svc.best_params_)\n",
    "\n",
    "# print how our model looks after hyper-parameter tuning\n",
    "print(grid_svc.best_estimator_)"
   ]
  },
  {
   "cell_type": "code",
   "execution_count": 45,
   "id": "2a62e86a",
   "metadata": {},
   "outputs": [],
   "source": [
    "CV_y_pred_svc = grid_svc.predict(X_test_scaled)"
   ]
  },
  {
   "cell_type": "code",
   "execution_count": 46,
   "id": "71d2e483",
   "metadata": {},
   "outputs": [
    {
     "name": "stdout",
     "output_type": "stream",
     "text": [
      " The testing data accuracy for the SVC model using best params is 0.9945793674505954\n"
     ]
    }
   ],
   "source": [
    "print(f\" The testing data accuracy for the SVC model using best params is {accuracy_score(y_test, CV_y_pred_svc)}\")"
   ]
  },
  {
   "cell_type": "code",
   "execution_count": 28,
   "id": "4172ad5e",
   "metadata": {},
   "outputs": [
    {
     "name": "stdout",
     "output_type": "stream",
     "text": [
      "              precision    recall  f1-score   support\n",
      "\n",
      "           1       1.00      1.00      1.00      4898\n",
      "           2       0.99      0.99      0.99      4485\n",
      "           3       1.00      1.00      1.00      4854\n",
      "           4       1.00      1.00      1.00      4496\n",
      "           5       0.99      0.99      0.99      4696\n",
      "\n",
      "    accuracy                           0.99     23429\n",
      "   macro avg       0.99      0.99      0.99     23429\n",
      "weighted avg       0.99      0.99      0.99     23429\n",
      "\n"
     ]
    }
   ],
   "source": [
    "# print classification report\n",
    "print(classification_report(y_test, CV_y_pred_svc))"
   ]
  },
  {
   "cell_type": "code",
   "execution_count": 29,
   "id": "a363741d",
   "metadata": {},
   "outputs": [
    {
     "data": {
      "text/plain": [
       "array([[4881,   16,    0,    1,    0],\n",
       "       [   5, 4432,    7,    2,   39],\n",
       "       [   1,    0, 4853,    0,    0],\n",
       "       [   0,    0,    1, 4495,    0],\n",
       "       [   2,   42,    7,    4, 4641]], dtype=int64)"
      ]
     },
     "execution_count": 29,
     "metadata": {},
     "output_type": "execute_result"
    }
   ],
   "source": [
    "# getting the confusion matrix on test data based on true positive values\n",
    "conf_matrix_svc = confusion_matrix(y_test, CV_y_pred_svc)\n",
    "conf_matrix_svc"
   ]
  },
  {
   "cell_type": "code",
   "execution_count": 30,
   "id": "312b03e0",
   "metadata": {},
   "outputs": [
    {
     "data": {
      "image/png": "[encoded data removed]",
      "text/plain": [
       "<Figure size 576x432 with 2 Axes>"
      ]
     },
     "metadata": {
      "needs_background": "light"
     },
     "output_type": "display_data"
    }
   ],
   "source": [
    "# Confusion matrix heat map\n",
    "plt.figure(figsize = (8,6))\n",
    "\n",
    "sns.heatmap(conf_matrix_svc, \n",
    "            annot=True, \n",
    "            cmap=\"Spectral\",\n",
    "            fmt = \"g\"\n",
    "                      )\n",
    "plt.title(\"Support Vector classification non linear Confusion Matrix\")\n",
    "plt.xlabel('Predicted', fontsize=15)\n",
    "plt.ylabel('Actual/Observed', fontsize=15);"
   ]
  },
  {
   "cell_type": "markdown",
   "id": "acd05740",
   "metadata": {},
   "source": [
    "# classification  using Deep  Learning Model, Multi layer perceptron"
   ]
  },
  {
   "cell_type": "code",
   "execution_count": 31,
   "id": "17562e25",
   "metadata": {},
   "outputs": [],
   "source": [
    "# Importing the deep learning model\n",
    "from sklearn.neural_network import MLPClassifier"
   ]
  },
  {
   "cell_type": "code",
   "execution_count": 32,
   "id": "4d25afcd",
   "metadata": {
    "scrolled": false
   },
   "outputs": [
    {
     "data": {
      "text/plain": [
       "MLPClassifier()"
      ]
     },
     "execution_count": 32,
     "metadata": {},
     "output_type": "execute_result"
    }
   ],
   "source": [
    "mlp = MLPClassifier()\n",
    "mlp.fit(X_train_scaled, y_train)"
   ]
  },
  {
   "cell_type": "code",
   "execution_count": 33,
   "id": "aec78335",
   "metadata": {},
   "outputs": [],
   "source": [
    "# finding accuracy for the random model\n",
    "y_pred_mlp  = mlp.predict(X_test_scaled)"
   ]
  },
  {
   "cell_type": "code",
   "execution_count": 34,
   "id": "9c9084a5",
   "metadata": {},
   "outputs": [
    {
     "name": "stdout",
     "output_type": "stream",
     "text": [
      " The testing data accuracy for the best model is 0.9958598318323445\n"
     ]
    }
   ],
   "source": [
    "print(f\" The testing data accuracy for the best model is {accuracy_score(y_test,y_pred_mlp)}\")"
   ]
  },
  {
   "cell_type": "markdown",
   "id": "70f2d155",
   "metadata": {},
   "source": [
    "## Hyper parameter tuning for the model "
   ]
  },
  {
   "cell_type": "code",
   "execution_count": 35,
   "id": "7c99bb45",
   "metadata": {
    "scrolled": true
   },
   "outputs": [
    {
     "name": "stdout",
     "output_type": "stream",
     "text": [
      "Fitting 5 folds for each of 24 candidates, totalling 120 fits\n",
      "[CV 1/5] END alpha=0.0001, hidden_layer_sizes=(100,), learning_rate=constant;, score=0.995 total time=  20.4s\n",
      "[CV 2/5] END alpha=0.0001, hidden_layer_sizes=(100,), learning_rate=constant;, score=0.995 total time=  17.0s\n",
      "[CV 3/5] END alpha=0.0001, hidden_layer_sizes=(100,), learning_rate=constant;, score=0.995 total time=  17.2s\n",
      "[CV 4/5] END alpha=0.0001, hidden_layer_sizes=(100,), learning_rate=constant;, score=0.996 total time=  19.9s\n",
      "[CV 5/5] END alpha=0.0001, hidden_layer_sizes=(100,), learning_rate=constant;, score=0.994 total time=  17.5s\n",
      "[CV 1/5] END alpha=0.0001, hidden_layer_sizes=(100,), learning_rate=adaptive;, score=0.994 total time=  18.6s\n",
      "[CV 2/5] END alpha=0.0001, hidden_layer_sizes=(100,), learning_rate=adaptive;, score=0.995 total time=  18.0s\n",
      "[CV 3/5] END alpha=0.0001, hidden_layer_sizes=(100,), learning_rate=adaptive;, score=0.995 total time=  19.8s\n",
      "[CV 4/5] END alpha=0.0001, hidden_layer_sizes=(100,), learning_rate=adaptive;, score=0.996 total time=  18.9s\n",
      "[CV 5/5] END alpha=0.0001, hidden_layer_sizes=(100,), learning_rate=adaptive;, score=0.995 total time=  17.4s\n",
      "[CV 1/5] END alpha=0.0001, hidden_layer_sizes=(200,), learning_rate=constant;, score=0.994 total time=  20.0s\n",
      "[CV 2/5] END alpha=0.0001, hidden_layer_sizes=(200,), learning_rate=constant;, score=0.995 total time=  21.7s\n",
      "[CV 3/5] END alpha=0.0001, hidden_layer_sizes=(200,), learning_rate=constant;, score=0.995 total time=  21.9s\n",
      "[CV 4/5] END alpha=0.0001, hidden_layer_sizes=(200,), learning_rate=constant;, score=0.996 total time=  20.8s\n",
      "[CV 5/5] END alpha=0.0001, hidden_layer_sizes=(200,), learning_rate=constant;, score=0.995 total time=  22.1s\n",
      "[CV 1/5] END alpha=0.0001, hidden_layer_sizes=(200,), learning_rate=adaptive;, score=0.995 total time=  21.8s\n",
      "[CV 2/5] END alpha=0.0001, hidden_layer_sizes=(200,), learning_rate=adaptive;, score=0.996 total time=  21.9s\n",
      "[CV 3/5] END alpha=0.0001, hidden_layer_sizes=(200,), learning_rate=adaptive;, score=0.996 total time=  21.1s\n",
      "[CV 4/5] END alpha=0.0001, hidden_layer_sizes=(200,), learning_rate=adaptive;, score=0.994 total time=  22.2s\n",
      "[CV 5/5] END alpha=0.0001, hidden_layer_sizes=(200,), learning_rate=adaptive;, score=0.995 total time=  21.0s\n",
      "[CV 1/5] END alpha=0.0001, hidden_layer_sizes=(500,), learning_rate=constant;, score=0.995 total time=  35.1s\n",
      "[CV 2/5] END alpha=0.0001, hidden_layer_sizes=(500,), learning_rate=constant;, score=0.993 total time=  34.5s\n",
      "[CV 3/5] END alpha=0.0001, hidden_layer_sizes=(500,), learning_rate=constant;, score=0.995 total time=  34.5s\n",
      "[CV 4/5] END alpha=0.0001, hidden_layer_sizes=(500,), learning_rate=constant;, score=0.996 total time=  36.3s\n",
      "[CV 5/5] END alpha=0.0001, hidden_layer_sizes=(500,), learning_rate=constant;, score=0.995 total time=  35.8s\n",
      "[CV 1/5] END alpha=0.0001, hidden_layer_sizes=(500,), learning_rate=adaptive;, score=0.995 total time=  43.1s\n",
      "[CV 2/5] END alpha=0.0001, hidden_layer_sizes=(500,), learning_rate=adaptive;, score=0.995 total time=  36.7s\n",
      "[CV 3/5] END alpha=0.0001, hidden_layer_sizes=(500,), learning_rate=adaptive;, score=0.996 total time=  40.9s\n",
      "[CV 4/5] END alpha=0.0001, hidden_layer_sizes=(500,), learning_rate=adaptive;, score=0.996 total time=  35.7s\n",
      "[CV 5/5] END alpha=0.0001, hidden_layer_sizes=(500,), learning_rate=adaptive;, score=0.995 total time=  34.0s\n",
      "[CV 1/5] END alpha=0.0001, hidden_layer_sizes=(1000,), learning_rate=constant;, score=0.995 total time= 1.1min\n",
      "[CV 2/5] END alpha=0.0001, hidden_layer_sizes=(1000,), learning_rate=constant;, score=0.996 total time= 1.3min\n",
      "[CV 3/5] END alpha=0.0001, hidden_layer_sizes=(1000,), learning_rate=constant;, score=0.996 total time= 1.7min\n",
      "[CV 4/5] END alpha=0.0001, hidden_layer_sizes=(1000,), learning_rate=constant;, score=0.997 total time= 1.1min\n",
      "[CV 5/5] END alpha=0.0001, hidden_layer_sizes=(1000,), learning_rate=constant;, score=0.994 total time=  59.7s\n",
      "[CV 1/5] END alpha=0.0001, hidden_layer_sizes=(1000,), learning_rate=adaptive;, score=0.994 total time= 1.1min\n",
      "[CV 2/5] END alpha=0.0001, hidden_layer_sizes=(1000,), learning_rate=adaptive;, score=0.996 total time= 1.3min\n",
      "[CV 3/5] END alpha=0.0001, hidden_layer_sizes=(1000,), learning_rate=adaptive;, score=0.996 total time=  59.6s\n",
      "[CV 4/5] END alpha=0.0001, hidden_layer_sizes=(1000,), learning_rate=adaptive;, score=0.997 total time= 1.2min\n",
      "[CV 5/5] END alpha=0.0001, hidden_layer_sizes=(1000,), learning_rate=adaptive;, score=0.995 total time= 1.3min\n",
      "[CV 1/5] END alpha=0.001, hidden_layer_sizes=(100,), learning_rate=constant;, score=0.994 total time=  20.2s\n",
      "[CV 2/5] END alpha=0.001, hidden_layer_sizes=(100,), learning_rate=constant;, score=0.995 total time=  19.7s\n",
      "[CV 3/5] END alpha=0.001, hidden_layer_sizes=(100,), learning_rate=constant;, score=0.994 total time=  17.5s\n",
      "[CV 4/5] END alpha=0.001, hidden_layer_sizes=(100,), learning_rate=constant;, score=0.996 total time=  17.8s\n",
      "[CV 5/5] END alpha=0.001, hidden_layer_sizes=(100,), learning_rate=constant;, score=0.992 total time=  20.0s\n",
      "[CV 1/5] END alpha=0.001, hidden_layer_sizes=(100,), learning_rate=adaptive;, score=0.994 total time=  20.0s\n",
      "[CV 2/5] END alpha=0.001, hidden_layer_sizes=(100,), learning_rate=adaptive;, score=0.995 total time=  23.3s\n",
      "[CV 3/5] END alpha=0.001, hidden_layer_sizes=(100,), learning_rate=adaptive;, score=0.995 total time=  18.5s\n",
      "[CV 4/5] END alpha=0.001, hidden_layer_sizes=(100,), learning_rate=adaptive;, score=0.996 total time=  20.6s\n",
      "[CV 5/5] END alpha=0.001, hidden_layer_sizes=(100,), learning_rate=adaptive;, score=0.994 total time=  22.4s\n",
      "[CV 1/5] END alpha=0.001, hidden_layer_sizes=(200,), learning_rate=constant;, score=0.994 total time=  21.8s\n",
      "[CV 2/5] END alpha=0.001, hidden_layer_sizes=(200,), learning_rate=constant;, score=0.996 total time=  25.1s\n",
      "[CV 3/5] END alpha=0.001, hidden_layer_sizes=(200,), learning_rate=constant;, score=0.995 total time=  27.0s\n",
      "[CV 4/5] END alpha=0.001, hidden_layer_sizes=(200,), learning_rate=constant;, score=0.994 total time=  37.8s\n",
      "[CV 5/5] END alpha=0.001, hidden_layer_sizes=(200,), learning_rate=constant;, score=0.995 total time=  21.8s\n",
      "[CV 1/5] END alpha=0.001, hidden_layer_sizes=(200,), learning_rate=adaptive;, score=0.994 total time=  20.7s\n",
      "[CV 2/5] END alpha=0.001, hidden_layer_sizes=(200,), learning_rate=adaptive;, score=0.995 total time=  19.9s\n",
      "[CV 3/5] END alpha=0.001, hidden_layer_sizes=(200,), learning_rate=adaptive;, score=0.996 total time=  26.8s\n",
      "[CV 4/5] END alpha=0.001, hidden_layer_sizes=(200,), learning_rate=adaptive;, score=0.996 total time=  23.8s\n",
      "[CV 5/5] END alpha=0.001, hidden_layer_sizes=(200,), learning_rate=adaptive;, score=0.994 total time=  20.3s\n",
      "[CV 1/5] END alpha=0.001, hidden_layer_sizes=(500,), learning_rate=constant;, score=0.995 total time=  34.7s\n",
      "[CV 2/5] END alpha=0.001, hidden_layer_sizes=(500,), learning_rate=constant;, score=0.996 total time=  36.5s\n",
      "[CV 3/5] END alpha=0.001, hidden_layer_sizes=(500,), learning_rate=constant;, score=0.996 total time=  35.7s\n",
      "[CV 4/5] END alpha=0.001, hidden_layer_sizes=(500,), learning_rate=constant;, score=0.996 total time=  34.3s\n",
      "[CV 5/5] END alpha=0.001, hidden_layer_sizes=(500,), learning_rate=constant;, score=0.995 total time=  34.7s\n",
      "[CV 1/5] END alpha=0.001, hidden_layer_sizes=(500,), learning_rate=adaptive;, score=0.995 total time=  31.7s\n",
      "[CV 2/5] END alpha=0.001, hidden_layer_sizes=(500,), learning_rate=adaptive;, score=0.995 total time=  34.1s\n",
      "[CV 3/5] END alpha=0.001, hidden_layer_sizes=(500,), learning_rate=adaptive;, score=0.996 total time=  34.9s\n",
      "[CV 4/5] END alpha=0.001, hidden_layer_sizes=(500,), learning_rate=adaptive;, score=0.995 total time=  38.1s\n",
      "[CV 5/5] END alpha=0.001, hidden_layer_sizes=(500,), learning_rate=adaptive;, score=0.995 total time=  47.4s\n",
      "[CV 1/5] END alpha=0.001, hidden_layer_sizes=(1000,), learning_rate=constant;, score=0.995 total time= 1.2min\n",
      "[CV 2/5] END alpha=0.001, hidden_layer_sizes=(1000,), learning_rate=constant;, score=0.996 total time= 1.2min\n",
      "[CV 3/5] END alpha=0.001, hidden_layer_sizes=(1000,), learning_rate=constant;, score=0.996 total time= 1.1min\n",
      "[CV 4/5] END alpha=0.001, hidden_layer_sizes=(1000,), learning_rate=constant;, score=0.996 total time= 1.1min\n",
      "[CV 5/5] END alpha=0.001, hidden_layer_sizes=(1000,), learning_rate=constant;, score=0.995 total time= 1.4min\n",
      "[CV 1/5] END alpha=0.001, hidden_layer_sizes=(1000,), learning_rate=adaptive;, score=0.995 total time= 1.2min\n",
      "[CV 2/5] END alpha=0.001, hidden_layer_sizes=(1000,), learning_rate=adaptive;, score=0.996 total time= 1.2min\n",
      "[CV 3/5] END alpha=0.001, hidden_layer_sizes=(1000,), learning_rate=adaptive;, score=0.996 total time= 1.1min\n",
      "[CV 4/5] END alpha=0.001, hidden_layer_sizes=(1000,), learning_rate=adaptive;, score=0.996 total time= 1.1min\n",
      "[CV 5/5] END alpha=0.001, hidden_layer_sizes=(1000,), learning_rate=adaptive;, score=0.996 total time= 1.1min\n",
      "[CV 1/5] END alpha=0.01, hidden_layer_sizes=(100,), learning_rate=constant;, score=0.995 total time=  21.6s\n",
      "[CV 2/5] END alpha=0.01, hidden_layer_sizes=(100,), learning_rate=constant;, score=0.995 total time=  21.6s\n",
      "[CV 3/5] END alpha=0.01, hidden_layer_sizes=(100,), learning_rate=constant;, score=0.995 total time=  21.5s\n",
      "[CV 4/5] END alpha=0.01, hidden_layer_sizes=(100,), learning_rate=constant;, score=0.995 total time=  19.3s\n",
      "[CV 5/5] END alpha=0.01, hidden_layer_sizes=(100,), learning_rate=constant;, score=0.995 total time=  27.0s\n",
      "[CV 1/5] END alpha=0.01, hidden_layer_sizes=(100,), learning_rate=adaptive;, score=0.993 total time=  21.0s\n",
      "[CV 2/5] END alpha=0.01, hidden_layer_sizes=(100,), learning_rate=adaptive;, score=0.995 total time=  20.3s\n",
      "[CV 3/5] END alpha=0.01, hidden_layer_sizes=(100,), learning_rate=adaptive;, score=0.996 total time=  21.1s\n",
      "[CV 4/5] END alpha=0.01, hidden_layer_sizes=(100,), learning_rate=adaptive;, score=0.996 total time=  25.5s\n",
      "[CV 5/5] END alpha=0.01, hidden_layer_sizes=(100,), learning_rate=adaptive;, score=0.995 total time=  23.5s\n",
      "[CV 1/5] END alpha=0.01, hidden_layer_sizes=(200,), learning_rate=constant;, score=0.994 total time=  27.0s\n",
      "[CV 2/5] END alpha=0.01, hidden_layer_sizes=(200,), learning_rate=constant;, score=0.997 total time=  28.5s\n",
      "[CV 3/5] END alpha=0.01, hidden_layer_sizes=(200,), learning_rate=constant;, score=0.996 total time=  26.2s\n",
      "[CV 4/5] END alpha=0.01, hidden_layer_sizes=(200,), learning_rate=constant;, score=0.996 total time=  20.9s\n",
      "[CV 5/5] END alpha=0.01, hidden_layer_sizes=(200,), learning_rate=constant;, score=0.995 total time=  29.4s\n",
      "[CV 1/5] END alpha=0.01, hidden_layer_sizes=(200,), learning_rate=adaptive;, score=0.995 total time=  28.2s\n",
      "[CV 2/5] END alpha=0.01, hidden_layer_sizes=(200,), learning_rate=adaptive;, score=0.995 total time=  35.0s\n",
      "[CV 3/5] END alpha=0.01, hidden_layer_sizes=(200,), learning_rate=adaptive;, score=0.996 total time=  24.4s\n",
      "[CV 4/5] END alpha=0.01, hidden_layer_sizes=(200,), learning_rate=adaptive;, score=0.996 total time=  26.7s\n",
      "[CV 5/5] END alpha=0.01, hidden_layer_sizes=(200,), learning_rate=adaptive;, score=0.995 total time=  27.0s\n",
      "[CV 1/5] END alpha=0.01, hidden_layer_sizes=(500,), learning_rate=constant;, score=0.995 total time=  53.1s\n",
      "[CV 2/5] END alpha=0.01, hidden_layer_sizes=(500,), learning_rate=constant;, score=0.997 total time= 1.0min\n",
      "[CV 3/5] END alpha=0.01, hidden_layer_sizes=(500,), learning_rate=constant;, score=0.996 total time= 1.0min\n",
      "[CV 4/5] END alpha=0.01, hidden_layer_sizes=(500,), learning_rate=constant;, score=0.996 total time=  58.8s\n",
      "[CV 5/5] END alpha=0.01, hidden_layer_sizes=(500,), learning_rate=constant;, score=0.994 total time=  46.7s\n",
      "[CV 1/5] END alpha=0.01, hidden_layer_sizes=(500,), learning_rate=adaptive;, score=0.994 total time= 1.1min\n",
      "[CV 2/5] END alpha=0.01, hidden_layer_sizes=(500,), learning_rate=adaptive;, score=0.995 total time= 1.0min\n",
      "[CV 3/5] END alpha=0.01, hidden_layer_sizes=(500,), learning_rate=adaptive;, score=0.995 total time= 1.2min\n",
      "[CV 4/5] END alpha=0.01, hidden_layer_sizes=(500,), learning_rate=adaptive;, score=0.997 total time= 1.3min\n",
      "[CV 5/5] END alpha=0.01, hidden_layer_sizes=(500,), learning_rate=adaptive;, score=0.994 total time= 1.1min\n",
      "[CV 1/5] END alpha=0.01, hidden_layer_sizes=(1000,), learning_rate=constant;, score=0.994 total time= 2.0min\n",
      "[CV 2/5] END alpha=0.01, hidden_layer_sizes=(1000,), learning_rate=constant;, score=0.996 total time= 2.2min\n",
      "[CV 3/5] END alpha=0.01, hidden_layer_sizes=(1000,), learning_rate=constant;, score=0.994 total time= 1.5min\n",
      "[CV 4/5] END alpha=0.01, hidden_layer_sizes=(1000,), learning_rate=constant;, score=0.997 total time= 3.1min\n",
      "[CV 5/5] END alpha=0.01, hidden_layer_sizes=(1000,), learning_rate=constant;, score=0.996 total time= 2.4min\n",
      "[CV 1/5] END alpha=0.01, hidden_layer_sizes=(1000,), learning_rate=adaptive;, score=0.994 total time= 2.2min\n",
      "[CV 2/5] END alpha=0.01, hidden_layer_sizes=(1000,), learning_rate=adaptive;, score=0.995 total time= 1.8min\n",
      "[CV 3/5] END alpha=0.01, hidden_layer_sizes=(1000,), learning_rate=adaptive;, score=0.995 total time= 2.3min\n",
      "[CV 4/5] END alpha=0.01, hidden_layer_sizes=(1000,), learning_rate=adaptive;, score=0.994 total time= 2.2min\n",
      "[CV 5/5] END alpha=0.01, hidden_layer_sizes=(1000,), learning_rate=adaptive;, score=0.996 total time= 2.4min\n"
     ]
    },
    {
     "data": {
      "text/plain": [
       "GridSearchCV(cv=5, estimator=MLPClassifier(),\n",
       "             param_grid={'alpha': [0.0001, 0.001, 0.01],\n",
       "                         'hidden_layer_sizes': [(100,), (200,), (500,),\n",
       "                                                (1000,)],\n",
       "                         'learning_rate': ['constant', 'adaptive']},\n",
       "             verbose=3)"
      ]
     },
     "execution_count": 35,
     "metadata": {},
     "output_type": "execute_result"
    }
   ],
   "source": [
    "mlp = MLPClassifier()\n",
    "# Define the parameter grid\n",
    "param_grid = {\n",
    "    'hidden_layer_sizes': [(100,), (200,), (500,), (1000,)],\n",
    "    'alpha': [0.0001, 0.001, 0.01],\n",
    "    'learning_rate': ['constant', 'adaptive'],\n",
    "}\n",
    "\n",
    "# Perform grid search cross-validation\n",
    "\n",
    "grid_mlp = GridSearchCV(mlp, param_grid, cv=5, verbose = 3)\n",
    "grid_mlp.fit(X_train_scaled, y_train)"
   ]
  },
  {
   "cell_type": "code",
   "execution_count": 36,
   "id": "e033ef90",
   "metadata": {},
   "outputs": [
    {
     "name": "stdout",
     "output_type": "stream",
     "text": [
      "Best hyperparameters: {'alpha': 0.001, 'hidden_layer_sizes': (1000,), 'learning_rate': 'adaptive'}\n"
     ]
    }
   ],
   "source": [
    "# Print the best hyperparameters\n",
    "print(f'Best hyperparameters: {grid_mlp.best_params_}')"
   ]
  },
  {
   "cell_type": "code",
   "execution_count": 37,
   "id": "84ed55a2",
   "metadata": {},
   "outputs": [
    {
     "name": "stdout",
     "output_type": "stream",
     "text": [
      " The testing data accuracy for the best model is 0.9967134747535106\n"
     ]
    }
   ],
   "source": [
    "CV_y_pred_mlp  = grid_mlp.predict(X_test_scaled)\n",
    "print(f\" The testing data accuracy for the best model is {accuracy_score(y_test,CV_y_pred_mlp)}\")"
   ]
  },
  {
   "cell_type": "code",
   "execution_count": 38,
   "id": "ad660fb4",
   "metadata": {},
   "outputs": [
    {
     "name": "stdout",
     "output_type": "stream",
     "text": [
      "              precision    recall  f1-score   support\n",
      "\n",
      "           1       1.00      1.00      1.00      4898\n",
      "           2       0.99      1.00      0.99      4485\n",
      "           3       1.00      1.00      1.00      4854\n",
      "           4       1.00      1.00      1.00      4496\n",
      "           5       1.00      0.99      0.99      4696\n",
      "\n",
      "    accuracy                           1.00     23429\n",
      "   macro avg       1.00      1.00      1.00     23429\n",
      "weighted avg       1.00      1.00      1.00     23429\n",
      "\n"
     ]
    }
   ],
   "source": [
    "# print classification report\n",
    "print(classification_report(y_test, CV_y_pred_mlp))"
   ]
  },
  {
   "cell_type": "code",
   "execution_count": 39,
   "id": "8e64cbff",
   "metadata": {},
   "outputs": [
    {
     "data": {
      "text/plain": [
       "array([[4881,   17,    0,    0,    0],\n",
       "       [   1, 4463,    0,    0,   21],\n",
       "       [   0,    0, 4852,    2,    0],\n",
       "       [   0,    0,    0, 4496,    0],\n",
       "       [   0,   35,    1,    0, 4660]], dtype=int64)"
      ]
     },
     "execution_count": 39,
     "metadata": {},
     "output_type": "execute_result"
    }
   ],
   "source": [
    "# getting the confusion matrix on test data based on true positive values\n",
    "conf_matrix_mlp = confusion_matrix(y_test, CV_y_pred_mlp)\n",
    "conf_matrix_mlp"
   ]
  },
  {
   "cell_type": "code",
   "execution_count": 40,
   "id": "05c8e506",
   "metadata": {},
   "outputs": [
    {
     "data": {
      "image/png": "[encoded data removed]",
      "text/plain": [
       "<Figure size 576x432 with 2 Axes>"
      ]
     },
     "metadata": {
      "needs_background": "light"
     },
     "output_type": "display_data"
    }
   ],
   "source": [
    "# Confusion matrix heat map\n",
    "plt.figure(figsize = (8,6))\n",
    "\n",
    "sns.heatmap(conf_matrix_mlp, \n",
    "            annot=True, \n",
    "            cmap=\"Spectral\",\n",
    "            fmt = \"g\"\n",
    "                      )\n",
    "plt.title(\"Multi Layer Perceptron Confusion Matrix\")\n",
    "plt.xlabel('Predicted', fontsize=15)\n",
    "plt.ylabel('Actual/Observed', fontsize=15);"
   ]
  },
  {
   "cell_type": "code",
   "execution_count": null,
   "id": "7c37eb75",
   "metadata": {},
   "outputs": [],
   "source": []
  }
 ],
 "metadata": {
  "kernelspec": {
   "display_name": "Python 3 (ipykernel)",
   "language": "python",
   "name": "python3"
  },
  "language_info": {
   "codemirror_mode": {
    "name": "ipython",
    "version": 3
   },
   "file_extension": ".py",
   "mimetype": "text/x-python",
   "name": "python",
   "nbconvert_exporter": "python",
   "pygments_lexer": "ipython3",
   "version": "3.9.12"
  }
 },
 "nbformat": 4,
 "nbformat_minor": 5
}
