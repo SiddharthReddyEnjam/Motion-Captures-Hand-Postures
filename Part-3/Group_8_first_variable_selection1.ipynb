{
 "cells": [
  {
   "cell_type": "markdown",
   "id": "462368fe",
   "metadata": {},
   "source": [
    "# Motion Capture Hand Postures"
   ]
  },
  {
   "cell_type": "code",
   "execution_count": 1,
   "id": "55780e87",
   "metadata": {},
   "outputs": [],
   "source": [
    "#importing required libraries\n",
    "import pandas as pd\n",
    "import numpy as np\n",
    "import matplotlib.pyplot as plt\n",
    "from sklearn.model_selection import train_test_split, cross_val_score, GridSearchCV, KFold\n",
    "from sklearn.linear_model import SGDClassifier\n",
    "from sklearn.metrics import classification_report, accuracy_score, confusion_matrix\n",
    "from sklearn.preprocessing import StandardScaler\n",
    "import seaborn as sns\n",
    "from sklearn.pipeline import make_pipeline\n",
    "import warnings\n",
    "warnings.filterwarnings(\"ignore\")\n",
    "from sklearn.pipeline import Pipeline\n",
    "from sklearn.linear_model import Lasso"
   ]
  },
  {
   "cell_type": "code",
   "execution_count": 2,
   "id": "6e53491c",
   "metadata": {},
   "outputs": [],
   "source": [
    "# Loading data to dataframe using pandas\n",
    "df = pd.read_csv('Group_8_data_cleaned.csv')"
   ]
  },
  {
   "cell_type": "code",
   "execution_count": 3,
   "id": "4cfdf1c9",
   "metadata": {},
   "outputs": [],
   "source": [
    "# Splitting the data to input data and output data\n",
    "X=df.drop(['Class', 'User'],axis=1)\n",
    "y=df['Class']"
   ]
  },
  {
   "cell_type": "code",
   "execution_count": 4,
   "id": "4b79e5d5",
   "metadata": {},
   "outputs": [],
   "source": [
    "X_train, X_test, y_train, y_test = train_test_split(X, y, test_size=0.3, random_state=42)"
   ]
  },
  {
   "cell_type": "code",
   "execution_count": 5,
   "id": "2696f2ab",
   "metadata": {},
   "outputs": [],
   "source": [
    "# Scaling the data using standard scaler\n",
    "# scaler = StandardScaler()\n",
    "# X_train = scaler.fit_transform(X_train)\n",
    "# X_test = scaler.transform(X_test)"
   ]
  },
  {
   "cell_type": "code",
   "execution_count": 6,
   "id": "5c4e7d44",
   "metadata": {},
   "outputs": [],
   "source": [
    "pipeline = Pipeline([\n",
    "                     ('scaler',StandardScaler()),\n",
    "                     ('model',Lasso())\n",
    "])"
   ]
  },
  {
   "cell_type": "code",
   "execution_count": 7,
   "id": "d08203de",
   "metadata": {},
   "outputs": [],
   "source": [
    "search = GridSearchCV(pipeline,\n",
    "                      {'model__alpha': np.arange(0.1,10,0.1)},\n",
    "                      cv = 5,verbose=3\n",
    "                      )"
   ]
  },
  {
   "cell_type": "code",
   "execution_count": 8,
   "id": "dcc42361",
   "metadata": {
    "scrolled": true
   },
   "outputs": [
    {
     "name": "stdout",
     "output_type": "stream",
     "text": [
      "Fitting 5 folds for each of 99 candidates, totalling 495 fits\n",
      "[CV 1/5] END ..................model__alpha=0.1;, score=0.699 total time=   0.0s\n",
      "[CV 2/5] END ..................model__alpha=0.1;, score=0.708 total time=   0.0s\n",
      "[CV 3/5] END ..................model__alpha=0.1;, score=0.728 total time=   0.0s\n",
      "[CV 4/5] END ..................model__alpha=0.1;, score=0.728 total time=   0.0s\n",
      "[CV 5/5] END ..................model__alpha=0.1;, score=0.715 total time=   0.0s\n",
      "[CV 1/5] END ..................model__alpha=0.2;, score=0.647 total time=   0.0s\n",
      "[CV 2/5] END ..................model__alpha=0.2;, score=0.657 total time=   0.0s\n",
      "[CV 3/5] END ..................model__alpha=0.2;, score=0.674 total time=   0.0s\n",
      "[CV 4/5] END ..................model__alpha=0.2;, score=0.676 total time=   0.0s\n",
      "[CV 5/5] END ..................model__alpha=0.2;, score=0.664 total time=   0.0s\n",
      "[CV 1/5] END ..model__alpha=0.30000000000000004;, score=0.579 total time=   0.0s\n",
      "[CV 2/5] END ..model__alpha=0.30000000000000004;, score=0.589 total time=   0.0s\n",
      "[CV 3/5] END ..model__alpha=0.30000000000000004;, score=0.603 total time=   0.0s\n",
      "[CV 4/5] END ..model__alpha=0.30000000000000004;, score=0.606 total time=   0.0s\n",
      "[CV 5/5] END ..model__alpha=0.30000000000000004;, score=0.595 total time=   0.0s\n",
      "[CV 1/5] END ..................model__alpha=0.4;, score=0.496 total time=   0.0s\n",
      "[CV 2/5] END ..................model__alpha=0.4;, score=0.504 total time=   0.0s\n",
      "[CV 3/5] END ..................model__alpha=0.4;, score=0.514 total time=   0.0s\n",
      "[CV 4/5] END ..................model__alpha=0.4;, score=0.518 total time=   0.0s\n",
      "[CV 5/5] END ..................model__alpha=0.4;, score=0.508 total time=   0.0s\n",
      "[CV 1/5] END ..................model__alpha=0.5;, score=0.412 total time=   0.0s\n",
      "[CV 2/5] END ..................model__alpha=0.5;, score=0.417 total time=   0.0s\n",
      "[CV 3/5] END ..................model__alpha=0.5;, score=0.423 total time=   0.0s\n",
      "[CV 4/5] END ..................model__alpha=0.5;, score=0.427 total time=   0.0s\n",
      "[CV 5/5] END ..................model__alpha=0.5;, score=0.420 total time=   0.0s\n",
      "[CV 1/5] END ..................model__alpha=0.6;, score=0.312 total time=   0.0s\n",
      "[CV 2/5] END ..................model__alpha=0.6;, score=0.315 total time=   0.0s\n",
      "[CV 3/5] END ..................model__alpha=0.6;, score=0.315 total time=   0.0s\n",
      "[CV 4/5] END ..................model__alpha=0.6;, score=0.319 total time=   0.0s\n",
      "[CV 5/5] END ..................model__alpha=0.6;, score=0.316 total time=   0.0s\n",
      "[CV 1/5] END ...model__alpha=0.7000000000000001;, score=0.194 total time=   0.0s\n",
      "[CV 2/5] END ...model__alpha=0.7000000000000001;, score=0.193 total time=   0.0s\n",
      "[CV 3/5] END ...model__alpha=0.7000000000000001;, score=0.189 total time=   0.0s\n",
      "[CV 4/5] END ...model__alpha=0.7000000000000001;, score=0.191 total time=   0.0s\n",
      "[CV 5/5] END ...model__alpha=0.7000000000000001;, score=0.192 total time=   0.0s\n",
      "[CV 1/5] END ..................model__alpha=0.8;, score=0.058 total time=   0.0s\n",
      "[CV 2/5] END ..................model__alpha=0.8;, score=0.053 total time=   0.0s\n",
      "[CV 3/5] END ..................model__alpha=0.8;, score=0.045 total time=   0.0s\n",
      "[CV 4/5] END ..................model__alpha=0.8;, score=0.046 total time=   0.0s\n",
      "[CV 5/5] END ..................model__alpha=0.8;, score=0.050 total time=   0.0s\n",
      "[CV 1/5] END .................model__alpha=0.9;, score=-0.000 total time=   0.0s\n",
      "[CV 2/5] END .................model__alpha=0.9;, score=-0.000 total time=   0.0s\n",
      "[CV 3/5] END .................model__alpha=0.9;, score=-0.000 total time=   0.0s\n",
      "[CV 4/5] END .................model__alpha=0.9;, score=-0.000 total time=   0.0s\n",
      "[CV 5/5] END .................model__alpha=0.9;, score=-0.000 total time=   0.0s\n",
      "[CV 1/5] END .................model__alpha=1.0;, score=-0.000 total time=   0.0s\n",
      "[CV 2/5] END .................model__alpha=1.0;, score=-0.000 total time=   0.0s\n",
      "[CV 3/5] END .................model__alpha=1.0;, score=-0.000 total time=   0.0s\n",
      "[CV 4/5] END .................model__alpha=1.0;, score=-0.000 total time=   0.0s\n",
      "[CV 5/5] END .................model__alpha=1.0;, score=-0.000 total time=   0.0s\n",
      "[CV 1/5] END .................model__alpha=1.1;, score=-0.000 total time=   0.0s\n",
      "[CV 2/5] END .................model__alpha=1.1;, score=-0.000 total time=   0.0s\n",
      "[CV 3/5] END .................model__alpha=1.1;, score=-0.000 total time=   0.0s\n",
      "[CV 4/5] END .................model__alpha=1.1;, score=-0.000 total time=   0.0s\n",
      "[CV 5/5] END .................model__alpha=1.1;, score=-0.000 total time=   0.0s\n",
      "[CV 1/5] END ..model__alpha=1.2000000000000002;, score=-0.000 total time=   0.0s\n",
      "[CV 2/5] END ..model__alpha=1.2000000000000002;, score=-0.000 total time=   0.0s\n",
      "[CV 3/5] END ..model__alpha=1.2000000000000002;, score=-0.000 total time=   0.0s\n",
      "[CV 4/5] END ..model__alpha=1.2000000000000002;, score=-0.000 total time=   0.0s\n",
      "[CV 5/5] END ..model__alpha=1.2000000000000002;, score=-0.000 total time=   0.0s\n",
      "[CV 1/5] END ..model__alpha=1.3000000000000003;, score=-0.000 total time=   0.0s\n",
      "[CV 2/5] END ..model__alpha=1.3000000000000003;, score=-0.000 total time=   0.0s\n",
      "[CV 3/5] END ..model__alpha=1.3000000000000003;, score=-0.000 total time=   0.0s\n",
      "[CV 4/5] END ..model__alpha=1.3000000000000003;, score=-0.000 total time=   0.0s\n",
      "[CV 5/5] END ..model__alpha=1.3000000000000003;, score=-0.000 total time=   0.0s\n",
      "[CV 1/5] END ..model__alpha=1.4000000000000001;, score=-0.000 total time=   0.0s\n",
      "[CV 2/5] END ..model__alpha=1.4000000000000001;, score=-0.000 total time=   0.0s\n",
      "[CV 3/5] END ..model__alpha=1.4000000000000001;, score=-0.000 total time=   0.0s\n",
      "[CV 4/5] END ..model__alpha=1.4000000000000001;, score=-0.000 total time=   0.0s\n",
      "[CV 5/5] END ..model__alpha=1.4000000000000001;, score=-0.000 total time=   0.0s\n",
      "[CV 1/5] END ..model__alpha=1.5000000000000002;, score=-0.000 total time=   0.0s\n",
      "[CV 2/5] END ..model__alpha=1.5000000000000002;, score=-0.000 total time=   0.0s\n",
      "[CV 3/5] END ..model__alpha=1.5000000000000002;, score=-0.000 total time=   0.0s\n",
      "[CV 4/5] END ..model__alpha=1.5000000000000002;, score=-0.000 total time=   0.0s\n",
      "[CV 5/5] END ..model__alpha=1.5000000000000002;, score=-0.000 total time=   0.0s\n",
      "[CV 1/5] END .................model__alpha=1.6;, score=-0.000 total time=   0.0s\n",
      "[CV 2/5] END .................model__alpha=1.6;, score=-0.000 total time=   0.0s\n",
      "[CV 3/5] END .................model__alpha=1.6;, score=-0.000 total time=   0.0s\n",
      "[CV 4/5] END .................model__alpha=1.6;, score=-0.000 total time=   0.0s\n",
      "[CV 5/5] END .................model__alpha=1.6;, score=-0.000 total time=   0.0s\n",
      "[CV 1/5] END ..model__alpha=1.7000000000000002;, score=-0.000 total time=   0.0s\n",
      "[CV 2/5] END ..model__alpha=1.7000000000000002;, score=-0.000 total time=   0.0s\n",
      "[CV 3/5] END ..model__alpha=1.7000000000000002;, score=-0.000 total time=   0.0s\n",
      "[CV 4/5] END ..model__alpha=1.7000000000000002;, score=-0.000 total time=   0.0s\n",
      "[CV 5/5] END ..model__alpha=1.7000000000000002;, score=-0.000 total time=   0.0s\n",
      "[CV 1/5] END ..model__alpha=1.8000000000000003;, score=-0.000 total time=   0.0s\n",
      "[CV 2/5] END ..model__alpha=1.8000000000000003;, score=-0.000 total time=   0.0s\n",
      "[CV 3/5] END ..model__alpha=1.8000000000000003;, score=-0.000 total time=   0.0s\n",
      "[CV 4/5] END ..model__alpha=1.8000000000000003;, score=-0.000 total time=   0.0s\n",
      "[CV 5/5] END ..model__alpha=1.8000000000000003;, score=-0.000 total time=   0.0s\n",
      "[CV 1/5] END ..model__alpha=1.9000000000000001;, score=-0.000 total time=   0.0s\n",
      "[CV 2/5] END ..model__alpha=1.9000000000000001;, score=-0.000 total time=   0.0s\n",
      "[CV 3/5] END ..model__alpha=1.9000000000000001;, score=-0.000 total time=   0.0s\n",
      "[CV 4/5] END ..model__alpha=1.9000000000000001;, score=-0.000 total time=   0.0s\n",
      "[CV 5/5] END ..model__alpha=1.9000000000000001;, score=-0.000 total time=   0.0s\n",
      "[CV 1/5] END .................model__alpha=2.0;, score=-0.000 total time=   0.0s\n",
      "[CV 2/5] END .................model__alpha=2.0;, score=-0.000 total time=   0.0s\n",
      "[CV 3/5] END .................model__alpha=2.0;, score=-0.000 total time=   0.0s\n",
      "[CV 4/5] END .................model__alpha=2.0;, score=-0.000 total time=   0.0s\n",
      "[CV 5/5] END .................model__alpha=2.0;, score=-0.000 total time=   0.0s\n",
      "[CV 1/5] END .................model__alpha=2.1;, score=-0.000 total time=   0.0s\n",
      "[CV 2/5] END .................model__alpha=2.1;, score=-0.000 total time=   0.0s\n",
      "[CV 3/5] END .................model__alpha=2.1;, score=-0.000 total time=   0.0s\n",
      "[CV 4/5] END .................model__alpha=2.1;, score=-0.000 total time=   0.0s\n",
      "[CV 5/5] END .................model__alpha=2.1;, score=-0.000 total time=   0.0s\n",
      "[CV 1/5] END .................model__alpha=2.2;, score=-0.000 total time=   0.0s\n",
      "[CV 2/5] END .................model__alpha=2.2;, score=-0.000 total time=   0.0s\n",
      "[CV 3/5] END .................model__alpha=2.2;, score=-0.000 total time=   0.0s\n",
      "[CV 4/5] END .................model__alpha=2.2;, score=-0.000 total time=   0.0s\n",
      "[CV 5/5] END .................model__alpha=2.2;, score=-0.000 total time=   0.0s\n",
      "[CV 1/5] END ..model__alpha=2.3000000000000003;, score=-0.000 total time=   0.0s\n",
      "[CV 2/5] END ..model__alpha=2.3000000000000003;, score=-0.000 total time=   0.0s\n",
      "[CV 3/5] END ..model__alpha=2.3000000000000003;, score=-0.000 total time=   0.0s\n",
      "[CV 4/5] END ..model__alpha=2.3000000000000003;, score=-0.000 total time=   0.0s\n",
      "[CV 5/5] END ..model__alpha=2.3000000000000003;, score=-0.000 total time=   0.0s\n",
      "[CV 1/5] END ..model__alpha=2.4000000000000004;, score=-0.000 total time=   0.0s\n",
      "[CV 2/5] END ..model__alpha=2.4000000000000004;, score=-0.000 total time=   0.0s\n",
      "[CV 3/5] END ..model__alpha=2.4000000000000004;, score=-0.000 total time=   0.0s\n",
      "[CV 4/5] END ..model__alpha=2.4000000000000004;, score=-0.000 total time=   0.0s\n",
      "[CV 5/5] END ..model__alpha=2.4000000000000004;, score=-0.000 total time=   0.0s\n",
      "[CV 1/5] END ..model__alpha=2.5000000000000004;, score=-0.000 total time=   0.0s\n",
      "[CV 2/5] END ..model__alpha=2.5000000000000004;, score=-0.000 total time=   0.0s\n",
      "[CV 3/5] END ..model__alpha=2.5000000000000004;, score=-0.000 total time=   0.0s\n",
      "[CV 4/5] END ..model__alpha=2.5000000000000004;, score=-0.000 total time=   0.0s\n",
      "[CV 5/5] END ..model__alpha=2.5000000000000004;, score=-0.000 total time=   0.0s\n",
      "[CV 1/5] END .................model__alpha=2.6;, score=-0.000 total time=   0.0s\n",
      "[CV 2/5] END .................model__alpha=2.6;, score=-0.000 total time=   0.0s\n",
      "[CV 3/5] END .................model__alpha=2.6;, score=-0.000 total time=   0.0s\n",
      "[CV 4/5] END .................model__alpha=2.6;, score=-0.000 total time=   0.0s\n",
      "[CV 5/5] END .................model__alpha=2.6;, score=-0.000 total time=   0.0s\n",
      "[CV 1/5] END .................model__alpha=2.7;, score=-0.000 total time=   0.0s\n",
      "[CV 2/5] END .................model__alpha=2.7;, score=-0.000 total time=   0.0s\n",
      "[CV 3/5] END .................model__alpha=2.7;, score=-0.000 total time=   0.0s\n",
      "[CV 4/5] END .................model__alpha=2.7;, score=-0.000 total time=   0.0s\n",
      "[CV 5/5] END .................model__alpha=2.7;, score=-0.000 total time=   0.0s\n",
      "[CV 1/5] END ..model__alpha=2.8000000000000003;, score=-0.000 total time=   0.0s\n",
      "[CV 2/5] END ..model__alpha=2.8000000000000003;, score=-0.000 total time=   0.0s\n",
      "[CV 3/5] END ..model__alpha=2.8000000000000003;, score=-0.000 total time=   0.0s\n",
      "[CV 4/5] END ..model__alpha=2.8000000000000003;, score=-0.000 total time=   0.0s\n",
      "[CV 5/5] END ..model__alpha=2.8000000000000003;, score=-0.000 total time=   0.0s\n",
      "[CV 1/5] END ..model__alpha=2.9000000000000004;, score=-0.000 total time=   0.0s\n",
      "[CV 2/5] END ..model__alpha=2.9000000000000004;, score=-0.000 total time=   0.0s\n",
      "[CV 3/5] END ..model__alpha=2.9000000000000004;, score=-0.000 total time=   0.0s\n",
      "[CV 4/5] END ..model__alpha=2.9000000000000004;, score=-0.000 total time=   0.0s\n",
      "[CV 5/5] END ..model__alpha=2.9000000000000004;, score=-0.000 total time=   0.0s\n",
      "[CV 1/5] END ..model__alpha=3.0000000000000004;, score=-0.000 total time=   0.0s\n",
      "[CV 2/5] END ..model__alpha=3.0000000000000004;, score=-0.000 total time=   0.0s\n",
      "[CV 3/5] END ..model__alpha=3.0000000000000004;, score=-0.000 total time=   0.0s\n",
      "[CV 4/5] END ..model__alpha=3.0000000000000004;, score=-0.000 total time=   0.0s\n",
      "[CV 5/5] END ..model__alpha=3.0000000000000004;, score=-0.000 total time=   0.0s\n",
      "[CV 1/5] END .................model__alpha=3.1;, score=-0.000 total time=   0.0s\n",
      "[CV 2/5] END .................model__alpha=3.1;, score=-0.000 total time=   0.0s\n",
      "[CV 3/5] END .................model__alpha=3.1;, score=-0.000 total time=   0.0s\n",
      "[CV 4/5] END .................model__alpha=3.1;, score=-0.000 total time=   0.0s\n",
      "[CV 5/5] END .................model__alpha=3.1;, score=-0.000 total time=   0.0s\n",
      "[CV 1/5] END .................model__alpha=3.2;, score=-0.000 total time=   0.0s\n",
      "[CV 2/5] END .................model__alpha=3.2;, score=-0.000 total time=   0.0s\n",
      "[CV 3/5] END .................model__alpha=3.2;, score=-0.000 total time=   0.0s\n",
      "[CV 4/5] END .................model__alpha=3.2;, score=-0.000 total time=   0.0s\n",
      "[CV 5/5] END .................model__alpha=3.2;, score=-0.000 total time=   0.0s\n",
      "[CV 1/5] END ..model__alpha=3.3000000000000003;, score=-0.000 total time=   0.0s\n",
      "[CV 2/5] END ..model__alpha=3.3000000000000003;, score=-0.000 total time=   0.0s\n",
      "[CV 3/5] END ..model__alpha=3.3000000000000003;, score=-0.000 total time=   0.0s\n",
      "[CV 4/5] END ..model__alpha=3.3000000000000003;, score=-0.000 total time=   0.0s\n",
      "[CV 5/5] END ..model__alpha=3.3000000000000003;, score=-0.000 total time=   0.0s\n",
      "[CV 1/5] END ..model__alpha=3.4000000000000004;, score=-0.000 total time=   0.0s\n",
      "[CV 2/5] END ..model__alpha=3.4000000000000004;, score=-0.000 total time=   0.0s\n",
      "[CV 3/5] END ..model__alpha=3.4000000000000004;, score=-0.000 total time=   0.0s\n",
      "[CV 4/5] END ..model__alpha=3.4000000000000004;, score=-0.000 total time=   0.0s\n",
      "[CV 5/5] END ..model__alpha=3.4000000000000004;, score=-0.000 total time=   0.0s\n",
      "[CV 1/5] END ..model__alpha=3.5000000000000004;, score=-0.000 total time=   0.0s\n",
      "[CV 2/5] END ..model__alpha=3.5000000000000004;, score=-0.000 total time=   0.0s\n",
      "[CV 3/5] END ..model__alpha=3.5000000000000004;, score=-0.000 total time=   0.0s\n",
      "[CV 4/5] END ..model__alpha=3.5000000000000004;, score=-0.000 total time=   0.0s\n",
      "[CV 5/5] END ..model__alpha=3.5000000000000004;, score=-0.000 total time=   0.0s\n",
      "[CV 1/5] END .................model__alpha=3.6;, score=-0.000 total time=   0.0s\n",
      "[CV 2/5] END .................model__alpha=3.6;, score=-0.000 total time=   0.0s\n",
      "[CV 3/5] END .................model__alpha=3.6;, score=-0.000 total time=   0.0s\n",
      "[CV 4/5] END .................model__alpha=3.6;, score=-0.000 total time=   0.0s\n",
      "[CV 5/5] END .................model__alpha=3.6;, score=-0.000 total time=   0.0s\n",
      "[CV 1/5] END .................model__alpha=3.7;, score=-0.000 total time=   0.0s\n",
      "[CV 2/5] END .................model__alpha=3.7;, score=-0.000 total time=   0.0s\n",
      "[CV 3/5] END .................model__alpha=3.7;, score=-0.000 total time=   0.0s\n",
      "[CV 4/5] END .................model__alpha=3.7;, score=-0.000 total time=   0.0s\n",
      "[CV 5/5] END .................model__alpha=3.7;, score=-0.000 total time=   0.0s\n",
      "[CV 1/5] END ..model__alpha=3.8000000000000003;, score=-0.000 total time=   0.0s\n",
      "[CV 2/5] END ..model__alpha=3.8000000000000003;, score=-0.000 total time=   0.0s\n",
      "[CV 3/5] END ..model__alpha=3.8000000000000003;, score=-0.000 total time=   0.0s\n",
      "[CV 4/5] END ..model__alpha=3.8000000000000003;, score=-0.000 total time=   0.0s\n",
      "[CV 5/5] END ..model__alpha=3.8000000000000003;, score=-0.000 total time=   0.0s\n",
      "[CV 1/5] END ..model__alpha=3.9000000000000004;, score=-0.000 total time=   0.0s\n",
      "[CV 2/5] END ..model__alpha=3.9000000000000004;, score=-0.000 total time=   0.0s\n",
      "[CV 3/5] END ..model__alpha=3.9000000000000004;, score=-0.000 total time=   0.0s\n",
      "[CV 4/5] END ..model__alpha=3.9000000000000004;, score=-0.000 total time=   0.0s\n",
      "[CV 5/5] END ..model__alpha=3.9000000000000004;, score=-0.000 total time=   0.0s\n",
      "[CV 1/5] END .................model__alpha=4.0;, score=-0.000 total time=   0.0s\n",
      "[CV 2/5] END .................model__alpha=4.0;, score=-0.000 total time=   0.0s\n",
      "[CV 3/5] END .................model__alpha=4.0;, score=-0.000 total time=   0.0s\n",
      "[CV 4/5] END .................model__alpha=4.0;, score=-0.000 total time=   0.0s\n",
      "[CV 5/5] END .................model__alpha=4.0;, score=-0.000 total time=   0.0s\n",
      "[CV 1/5] END .................model__alpha=4.1;, score=-0.000 total time=   0.0s\n",
      "[CV 2/5] END .................model__alpha=4.1;, score=-0.000 total time=   0.0s\n",
      "[CV 3/5] END .................model__alpha=4.1;, score=-0.000 total time=   0.0s\n",
      "[CV 4/5] END .................model__alpha=4.1;, score=-0.000 total time=   0.0s\n",
      "[CV 5/5] END .................model__alpha=4.1;, score=-0.000 total time=   0.0s\n",
      "[CV 1/5] END .................model__alpha=4.2;, score=-0.000 total time=   0.0s\n",
      "[CV 2/5] END .................model__alpha=4.2;, score=-0.000 total time=   0.0s\n",
      "[CV 3/5] END .................model__alpha=4.2;, score=-0.000 total time=   0.0s\n",
      "[CV 4/5] END .................model__alpha=4.2;, score=-0.000 total time=   0.0s\n",
      "[CV 5/5] END .................model__alpha=4.2;, score=-0.000 total time=   0.0s\n",
      "[CV 1/5] END .................model__alpha=4.3;, score=-0.000 total time=   0.0s\n",
      "[CV 2/5] END .................model__alpha=4.3;, score=-0.000 total time=   0.0s\n",
      "[CV 3/5] END .................model__alpha=4.3;, score=-0.000 total time=   0.0s\n",
      "[CV 4/5] END .................model__alpha=4.3;, score=-0.000 total time=   0.0s\n",
      "[CV 5/5] END .................model__alpha=4.3;, score=-0.000 total time=   0.0s\n",
      "[CV 1/5] END ..model__alpha=4.3999999999999995;, score=-0.000 total time=   0.0s\n",
      "[CV 2/5] END ..model__alpha=4.3999999999999995;, score=-0.000 total time=   0.0s\n",
      "[CV 3/5] END ..model__alpha=4.3999999999999995;, score=-0.000 total time=   0.0s\n",
      "[CV 4/5] END ..model__alpha=4.3999999999999995;, score=-0.000 total time=   0.0s\n",
      "[CV 5/5] END ..model__alpha=4.3999999999999995;, score=-0.000 total time=   0.0s\n",
      "[CV 1/5] END .................model__alpha=4.5;, score=-0.000 total time=   0.0s\n",
      "[CV 2/5] END .................model__alpha=4.5;, score=-0.000 total time=   0.0s\n",
      "[CV 3/5] END .................model__alpha=4.5;, score=-0.000 total time=   0.0s\n",
      "[CV 4/5] END .................model__alpha=4.5;, score=-0.000 total time=   0.0s\n",
      "[CV 5/5] END .................model__alpha=4.5;, score=-0.000 total time=   0.0s\n",
      "[CV 1/5] END .................model__alpha=4.6;, score=-0.000 total time=   0.0s\n",
      "[CV 2/5] END .................model__alpha=4.6;, score=-0.000 total time=   0.0s\n",
      "[CV 3/5] END .................model__alpha=4.6;, score=-0.000 total time=   0.0s\n",
      "[CV 4/5] END .................model__alpha=4.6;, score=-0.000 total time=   0.0s\n",
      "[CV 5/5] END .................model__alpha=4.6;, score=-0.000 total time=   0.0s\n",
      "[CV 1/5] END .................model__alpha=4.7;, score=-0.000 total time=   0.0s\n",
      "[CV 2/5] END .................model__alpha=4.7;, score=-0.000 total time=   0.0s\n",
      "[CV 3/5] END .................model__alpha=4.7;, score=-0.000 total time=   0.0s\n",
      "[CV 4/5] END .................model__alpha=4.7;, score=-0.000 total time=   0.0s\n",
      "[CV 5/5] END .................model__alpha=4.7;, score=-0.000 total time=   0.0s\n",
      "[CV 1/5] END .................model__alpha=4.8;, score=-0.000 total time=   0.0s\n",
      "[CV 2/5] END .................model__alpha=4.8;, score=-0.000 total time=   0.0s\n",
      "[CV 3/5] END .................model__alpha=4.8;, score=-0.000 total time=   0.0s\n",
      "[CV 4/5] END .................model__alpha=4.8;, score=-0.000 total time=   0.0s\n",
      "[CV 5/5] END .................model__alpha=4.8;, score=-0.000 total time=   0.0s\n",
      "[CV 1/5] END .................model__alpha=4.9;, score=-0.000 total time=   0.0s\n",
      "[CV 2/5] END .................model__alpha=4.9;, score=-0.000 total time=   0.0s\n",
      "[CV 3/5] END .................model__alpha=4.9;, score=-0.000 total time=   0.0s\n",
      "[CV 4/5] END .................model__alpha=4.9;, score=-0.000 total time=   0.0s\n",
      "[CV 5/5] END .................model__alpha=4.9;, score=-0.000 total time=   0.0s\n",
      "[CV 1/5] END .................model__alpha=5.0;, score=-0.000 total time=   0.0s\n",
      "[CV 2/5] END .................model__alpha=5.0;, score=-0.000 total time=   0.0s\n",
      "[CV 3/5] END .................model__alpha=5.0;, score=-0.000 total time=   0.0s\n",
      "[CV 4/5] END .................model__alpha=5.0;, score=-0.000 total time=   0.0s\n",
      "[CV 5/5] END .................model__alpha=5.0;, score=-0.000 total time=   0.0s\n",
      "[CV 1/5] END .................model__alpha=5.1;, score=-0.000 total time=   0.0s\n",
      "[CV 2/5] END .................model__alpha=5.1;, score=-0.000 total time=   0.0s\n",
      "[CV 3/5] END .................model__alpha=5.1;, score=-0.000 total time=   0.0s\n",
      "[CV 4/5] END .................model__alpha=5.1;, score=-0.000 total time=   0.0s\n",
      "[CV 5/5] END .................model__alpha=5.1;, score=-0.000 total time=   0.0s\n",
      "[CV 1/5] END .................model__alpha=5.2;, score=-0.000 total time=   0.0s\n",
      "[CV 2/5] END .................model__alpha=5.2;, score=-0.000 total time=   0.0s\n",
      "[CV 3/5] END .................model__alpha=5.2;, score=-0.000 total time=   0.0s\n",
      "[CV 4/5] END .................model__alpha=5.2;, score=-0.000 total time=   0.0s\n",
      "[CV 5/5] END .................model__alpha=5.2;, score=-0.000 total time=   0.0s\n",
      "[CV 1/5] END .................model__alpha=5.3;, score=-0.000 total time=   0.0s\n",
      "[CV 2/5] END .................model__alpha=5.3;, score=-0.000 total time=   0.0s\n",
      "[CV 3/5] END .................model__alpha=5.3;, score=-0.000 total time=   0.0s\n",
      "[CV 4/5] END .................model__alpha=5.3;, score=-0.000 total time=   0.0s\n",
      "[CV 5/5] END .................model__alpha=5.3;, score=-0.000 total time=   0.0s\n",
      "[CV 1/5] END .................model__alpha=5.4;, score=-0.000 total time=   0.0s\n",
      "[CV 2/5] END .................model__alpha=5.4;, score=-0.000 total time=   0.0s\n",
      "[CV 3/5] END .................model__alpha=5.4;, score=-0.000 total time=   0.0s\n",
      "[CV 4/5] END .................model__alpha=5.4;, score=-0.000 total time=   0.0s\n",
      "[CV 5/5] END .................model__alpha=5.4;, score=-0.000 total time=   0.0s\n",
      "[CV 1/5] END .................model__alpha=5.5;, score=-0.000 total time=   0.0s\n",
      "[CV 2/5] END .................model__alpha=5.5;, score=-0.000 total time=   0.0s\n",
      "[CV 3/5] END .................model__alpha=5.5;, score=-0.000 total time=   0.0s\n",
      "[CV 4/5] END .................model__alpha=5.5;, score=-0.000 total time=   0.0s\n",
      "[CV 5/5] END .................model__alpha=5.5;, score=-0.000 total time=   0.0s\n",
      "[CV 1/5] END .................model__alpha=5.6;, score=-0.000 total time=   0.0s\n",
      "[CV 2/5] END .................model__alpha=5.6;, score=-0.000 total time=   0.0s\n",
      "[CV 3/5] END .................model__alpha=5.6;, score=-0.000 total time=   0.0s\n",
      "[CV 4/5] END .................model__alpha=5.6;, score=-0.000 total time=   0.0s\n",
      "[CV 5/5] END .................model__alpha=5.6;, score=-0.000 total time=   0.0s\n",
      "[CV 1/5] END .................model__alpha=5.7;, score=-0.000 total time=   0.0s\n",
      "[CV 2/5] END .................model__alpha=5.7;, score=-0.000 total time=   0.0s\n",
      "[CV 3/5] END .................model__alpha=5.7;, score=-0.000 total time=   0.0s\n",
      "[CV 4/5] END .................model__alpha=5.7;, score=-0.000 total time=   0.0s\n",
      "[CV 5/5] END .................model__alpha=5.7;, score=-0.000 total time=   0.0s\n",
      "[CV 1/5] END .................model__alpha=5.8;, score=-0.000 total time=   0.0s\n",
      "[CV 2/5] END .................model__alpha=5.8;, score=-0.000 total time=   0.0s\n",
      "[CV 3/5] END .................model__alpha=5.8;, score=-0.000 total time=   0.0s\n",
      "[CV 4/5] END .................model__alpha=5.8;, score=-0.000 total time=   0.0s\n",
      "[CV 5/5] END .................model__alpha=5.8;, score=-0.000 total time=   0.0s\n",
      "[CV 1/5] END .................model__alpha=5.9;, score=-0.000 total time=   0.0s\n",
      "[CV 2/5] END .................model__alpha=5.9;, score=-0.000 total time=   0.0s\n",
      "[CV 3/5] END .................model__alpha=5.9;, score=-0.000 total time=   0.0s\n",
      "[CV 4/5] END .................model__alpha=5.9;, score=-0.000 total time=   0.0s\n",
      "[CV 5/5] END .................model__alpha=5.9;, score=-0.000 total time=   0.0s\n",
      "[CV 1/5] END .................model__alpha=6.0;, score=-0.000 total time=   0.0s\n",
      "[CV 2/5] END .................model__alpha=6.0;, score=-0.000 total time=   0.0s\n",
      "[CV 3/5] END .................model__alpha=6.0;, score=-0.000 total time=   0.0s\n",
      "[CV 4/5] END .................model__alpha=6.0;, score=-0.000 total time=   0.0s\n",
      "[CV 5/5] END .................model__alpha=6.0;, score=-0.000 total time=   0.0s\n",
      "[CV 1/5] END .................model__alpha=6.1;, score=-0.000 total time=   0.0s\n",
      "[CV 2/5] END .................model__alpha=6.1;, score=-0.000 total time=   0.0s\n",
      "[CV 3/5] END .................model__alpha=6.1;, score=-0.000 total time=   0.0s\n",
      "[CV 4/5] END .................model__alpha=6.1;, score=-0.000 total time=   0.0s\n",
      "[CV 5/5] END .................model__alpha=6.1;, score=-0.000 total time=   0.0s\n",
      "[CV 1/5] END .................model__alpha=6.2;, score=-0.000 total time=   0.0s\n",
      "[CV 2/5] END .................model__alpha=6.2;, score=-0.000 total time=   0.0s\n",
      "[CV 3/5] END .................model__alpha=6.2;, score=-0.000 total time=   0.0s\n",
      "[CV 4/5] END .................model__alpha=6.2;, score=-0.000 total time=   0.0s\n",
      "[CV 5/5] END .................model__alpha=6.2;, score=-0.000 total time=   0.0s\n",
      "[CV 1/5] END .................model__alpha=6.3;, score=-0.000 total time=   0.0s\n",
      "[CV 2/5] END .................model__alpha=6.3;, score=-0.000 total time=   0.0s\n",
      "[CV 3/5] END .................model__alpha=6.3;, score=-0.000 total time=   0.0s\n",
      "[CV 4/5] END .................model__alpha=6.3;, score=-0.000 total time=   0.0s\n",
      "[CV 5/5] END .................model__alpha=6.3;, score=-0.000 total time=   0.0s\n",
      "[CV 1/5] END .................model__alpha=6.4;, score=-0.000 total time=   0.0s\n",
      "[CV 2/5] END .................model__alpha=6.4;, score=-0.000 total time=   0.0s\n",
      "[CV 3/5] END .................model__alpha=6.4;, score=-0.000 total time=   0.0s\n",
      "[CV 4/5] END .................model__alpha=6.4;, score=-0.000 total time=   0.0s\n",
      "[CV 5/5] END .................model__alpha=6.4;, score=-0.000 total time=   0.0s\n",
      "[CV 1/5] END .................model__alpha=6.5;, score=-0.000 total time=   0.0s\n",
      "[CV 2/5] END .................model__alpha=6.5;, score=-0.000 total time=   0.0s\n",
      "[CV 3/5] END .................model__alpha=6.5;, score=-0.000 total time=   0.0s\n",
      "[CV 4/5] END .................model__alpha=6.5;, score=-0.000 total time=   0.0s\n",
      "[CV 5/5] END .................model__alpha=6.5;, score=-0.000 total time=   0.0s\n",
      "[CV 1/5] END .................model__alpha=6.6;, score=-0.000 total time=   0.0s\n",
      "[CV 2/5] END .................model__alpha=6.6;, score=-0.000 total time=   0.0s\n",
      "[CV 3/5] END .................model__alpha=6.6;, score=-0.000 total time=   0.0s\n",
      "[CV 4/5] END .................model__alpha=6.6;, score=-0.000 total time=   0.0s\n",
      "[CV 5/5] END .................model__alpha=6.6;, score=-0.000 total time=   0.0s\n",
      "[CV 1/5] END .................model__alpha=6.7;, score=-0.000 total time=   0.0s\n",
      "[CV 2/5] END .................model__alpha=6.7;, score=-0.000 total time=   0.0s\n",
      "[CV 3/5] END .................model__alpha=6.7;, score=-0.000 total time=   0.0s\n",
      "[CV 4/5] END .................model__alpha=6.7;, score=-0.000 total time=   0.0s\n",
      "[CV 5/5] END .................model__alpha=6.7;, score=-0.000 total time=   0.0s\n",
      "[CV 1/5] END .................model__alpha=6.8;, score=-0.000 total time=   0.0s\n",
      "[CV 2/5] END .................model__alpha=6.8;, score=-0.000 total time=   0.0s\n",
      "[CV 3/5] END .................model__alpha=6.8;, score=-0.000 total time=   0.0s\n",
      "[CV 4/5] END .................model__alpha=6.8;, score=-0.000 total time=   0.0s\n",
      "[CV 5/5] END .................model__alpha=6.8;, score=-0.000 total time=   0.0s\n",
      "[CV 1/5] END .................model__alpha=6.9;, score=-0.000 total time=   0.0s\n",
      "[CV 2/5] END .................model__alpha=6.9;, score=-0.000 total time=   0.0s\n",
      "[CV 3/5] END .................model__alpha=6.9;, score=-0.000 total time=   0.0s\n",
      "[CV 4/5] END .................model__alpha=6.9;, score=-0.000 total time=   0.0s\n",
      "[CV 5/5] END .................model__alpha=6.9;, score=-0.000 total time=   0.0s\n",
      "[CV 1/5] END .................model__alpha=7.0;, score=-0.000 total time=   0.0s\n",
      "[CV 2/5] END .................model__alpha=7.0;, score=-0.000 total time=   0.0s\n",
      "[CV 3/5] END .................model__alpha=7.0;, score=-0.000 total time=   0.0s\n",
      "[CV 4/5] END .................model__alpha=7.0;, score=-0.000 total time=   0.0s\n",
      "[CV 5/5] END .................model__alpha=7.0;, score=-0.000 total time=   0.0s\n",
      "[CV 1/5] END .................model__alpha=7.1;, score=-0.000 total time=   0.0s\n",
      "[CV 2/5] END .................model__alpha=7.1;, score=-0.000 total time=   0.0s\n",
      "[CV 3/5] END .................model__alpha=7.1;, score=-0.000 total time=   0.0s\n",
      "[CV 4/5] END .................model__alpha=7.1;, score=-0.000 total time=   0.0s\n",
      "[CV 5/5] END .................model__alpha=7.1;, score=-0.000 total time=   0.0s\n",
      "[CV 1/5] END .................model__alpha=7.2;, score=-0.000 total time=   0.0s\n",
      "[CV 2/5] END .................model__alpha=7.2;, score=-0.000 total time=   0.0s\n",
      "[CV 3/5] END .................model__alpha=7.2;, score=-0.000 total time=   0.0s\n",
      "[CV 4/5] END .................model__alpha=7.2;, score=-0.000 total time=   0.0s\n",
      "[CV 5/5] END .................model__alpha=7.2;, score=-0.000 total time=   0.0s\n",
      "[CV 1/5] END .................model__alpha=7.3;, score=-0.000 total time=   0.0s\n",
      "[CV 2/5] END .................model__alpha=7.3;, score=-0.000 total time=   0.0s\n",
      "[CV 3/5] END .................model__alpha=7.3;, score=-0.000 total time=   0.0s\n",
      "[CV 4/5] END .................model__alpha=7.3;, score=-0.000 total time=   0.0s\n",
      "[CV 5/5] END .................model__alpha=7.3;, score=-0.000 total time=   0.0s\n",
      "[CV 1/5] END .................model__alpha=7.4;, score=-0.000 total time=   0.0s\n",
      "[CV 2/5] END .................model__alpha=7.4;, score=-0.000 total time=   0.0s\n",
      "[CV 3/5] END .................model__alpha=7.4;, score=-0.000 total time=   0.0s\n",
      "[CV 4/5] END .................model__alpha=7.4;, score=-0.000 total time=   0.0s\n",
      "[CV 5/5] END .................model__alpha=7.4;, score=-0.000 total time=   0.0s\n",
      "[CV 1/5] END .................model__alpha=7.5;, score=-0.000 total time=   0.0s\n",
      "[CV 2/5] END .................model__alpha=7.5;, score=-0.000 total time=   0.0s\n",
      "[CV 3/5] END .................model__alpha=7.5;, score=-0.000 total time=   0.0s\n",
      "[CV 4/5] END .................model__alpha=7.5;, score=-0.000 total time=   0.0s\n",
      "[CV 5/5] END .................model__alpha=7.5;, score=-0.000 total time=   0.0s\n",
      "[CV 1/5] END .................model__alpha=7.6;, score=-0.000 total time=   0.0s\n",
      "[CV 2/5] END .................model__alpha=7.6;, score=-0.000 total time=   0.0s\n",
      "[CV 3/5] END .................model__alpha=7.6;, score=-0.000 total time=   0.0s\n",
      "[CV 4/5] END .................model__alpha=7.6;, score=-0.000 total time=   0.0s\n",
      "[CV 5/5] END .................model__alpha=7.6;, score=-0.000 total time=   0.0s\n",
      "[CV 1/5] END .................model__alpha=7.7;, score=-0.000 total time=   0.0s\n",
      "[CV 2/5] END .................model__alpha=7.7;, score=-0.000 total time=   0.0s\n",
      "[CV 3/5] END .................model__alpha=7.7;, score=-0.000 total time=   0.0s\n",
      "[CV 4/5] END .................model__alpha=7.7;, score=-0.000 total time=   0.0s\n",
      "[CV 5/5] END .................model__alpha=7.7;, score=-0.000 total time=   0.0s\n",
      "[CV 1/5] END .................model__alpha=7.8;, score=-0.000 total time=   0.0s\n",
      "[CV 2/5] END .................model__alpha=7.8;, score=-0.000 total time=   0.0s\n",
      "[CV 3/5] END .................model__alpha=7.8;, score=-0.000 total time=   0.0s\n",
      "[CV 4/5] END .................model__alpha=7.8;, score=-0.000 total time=   0.0s\n",
      "[CV 5/5] END .................model__alpha=7.8;, score=-0.000 total time=   0.0s\n",
      "[CV 1/5] END .................model__alpha=7.9;, score=-0.000 total time=   0.0s\n",
      "[CV 2/5] END .................model__alpha=7.9;, score=-0.000 total time=   0.0s\n",
      "[CV 3/5] END .................model__alpha=7.9;, score=-0.000 total time=   0.0s\n",
      "[CV 4/5] END .................model__alpha=7.9;, score=-0.000 total time=   0.0s\n",
      "[CV 5/5] END .................model__alpha=7.9;, score=-0.000 total time=   0.0s\n",
      "[CV 1/5] END .................model__alpha=8.0;, score=-0.000 total time=   0.0s\n",
      "[CV 2/5] END .................model__alpha=8.0;, score=-0.000 total time=   0.0s\n",
      "[CV 3/5] END .................model__alpha=8.0;, score=-0.000 total time=   0.0s\n",
      "[CV 4/5] END .................model__alpha=8.0;, score=-0.000 total time=   0.0s\n",
      "[CV 5/5] END .................model__alpha=8.0;, score=-0.000 total time=   0.0s\n",
      "[CV 1/5] END .................model__alpha=8.1;, score=-0.000 total time=   0.0s\n",
      "[CV 2/5] END .................model__alpha=8.1;, score=-0.000 total time=   0.0s\n",
      "[CV 3/5] END .................model__alpha=8.1;, score=-0.000 total time=   0.0s\n",
      "[CV 4/5] END .................model__alpha=8.1;, score=-0.000 total time=   0.0s\n",
      "[CV 5/5] END .................model__alpha=8.1;, score=-0.000 total time=   0.0s\n",
      "[CV 1/5] END .................model__alpha=8.2;, score=-0.000 total time=   0.0s\n",
      "[CV 2/5] END .................model__alpha=8.2;, score=-0.000 total time=   0.0s\n",
      "[CV 3/5] END .................model__alpha=8.2;, score=-0.000 total time=   0.0s\n",
      "[CV 4/5] END .................model__alpha=8.2;, score=-0.000 total time=   0.0s\n",
      "[CV 5/5] END .................model__alpha=8.2;, score=-0.000 total time=   0.0s\n",
      "[CV 1/5] END .................model__alpha=8.3;, score=-0.000 total time=   0.0s\n",
      "[CV 2/5] END .................model__alpha=8.3;, score=-0.000 total time=   0.0s\n",
      "[CV 3/5] END .................model__alpha=8.3;, score=-0.000 total time=   0.0s\n",
      "[CV 4/5] END .................model__alpha=8.3;, score=-0.000 total time=   0.0s\n",
      "[CV 5/5] END .................model__alpha=8.3;, score=-0.000 total time=   0.0s\n",
      "[CV 1/5] END .................model__alpha=8.4;, score=-0.000 total time=   0.0s\n",
      "[CV 2/5] END .................model__alpha=8.4;, score=-0.000 total time=   0.0s\n",
      "[CV 3/5] END .................model__alpha=8.4;, score=-0.000 total time=   0.0s\n",
      "[CV 4/5] END .................model__alpha=8.4;, score=-0.000 total time=   0.0s\n",
      "[CV 5/5] END .................model__alpha=8.4;, score=-0.000 total time=   0.0s\n",
      "[CV 1/5] END .................model__alpha=8.5;, score=-0.000 total time=   0.0s\n",
      "[CV 2/5] END .................model__alpha=8.5;, score=-0.000 total time=   0.0s\n",
      "[CV 3/5] END .................model__alpha=8.5;, score=-0.000 total time=   0.0s\n",
      "[CV 4/5] END .................model__alpha=8.5;, score=-0.000 total time=   0.0s\n",
      "[CV 5/5] END .................model__alpha=8.5;, score=-0.000 total time=   0.0s\n",
      "[CV 1/5] END .................model__alpha=8.6;, score=-0.000 total time=   0.0s\n",
      "[CV 2/5] END .................model__alpha=8.6;, score=-0.000 total time=   0.0s\n",
      "[CV 3/5] END .................model__alpha=8.6;, score=-0.000 total time=   0.0s\n",
      "[CV 4/5] END .................model__alpha=8.6;, score=-0.000 total time=   0.0s\n",
      "[CV 5/5] END .................model__alpha=8.6;, score=-0.000 total time=   0.0s\n",
      "[CV 1/5] END .................model__alpha=8.7;, score=-0.000 total time=   0.0s\n",
      "[CV 2/5] END .................model__alpha=8.7;, score=-0.000 total time=   0.0s\n",
      "[CV 3/5] END .................model__alpha=8.7;, score=-0.000 total time=   0.0s\n",
      "[CV 4/5] END .................model__alpha=8.7;, score=-0.000 total time=   0.0s\n",
      "[CV 5/5] END .................model__alpha=8.7;, score=-0.000 total time=   0.0s\n",
      "[CV 1/5] END .................model__alpha=8.8;, score=-0.000 total time=   0.0s\n",
      "[CV 2/5] END .................model__alpha=8.8;, score=-0.000 total time=   0.0s\n",
      "[CV 3/5] END .................model__alpha=8.8;, score=-0.000 total time=   0.0s\n",
      "[CV 4/5] END .................model__alpha=8.8;, score=-0.000 total time=   0.0s\n",
      "[CV 5/5] END .................model__alpha=8.8;, score=-0.000 total time=   0.0s\n",
      "[CV 1/5] END .................model__alpha=8.9;, score=-0.000 total time=   0.0s\n",
      "[CV 2/5] END .................model__alpha=8.9;, score=-0.000 total time=   0.0s\n",
      "[CV 3/5] END .................model__alpha=8.9;, score=-0.000 total time=   0.0s\n",
      "[CV 4/5] END .................model__alpha=8.9;, score=-0.000 total time=   0.0s\n",
      "[CV 5/5] END .................model__alpha=8.9;, score=-0.000 total time=   0.0s\n",
      "[CV 1/5] END .................model__alpha=9.0;, score=-0.000 total time=   0.0s\n",
      "[CV 2/5] END .................model__alpha=9.0;, score=-0.000 total time=   0.0s\n",
      "[CV 3/5] END .................model__alpha=9.0;, score=-0.000 total time=   0.0s\n",
      "[CV 4/5] END .................model__alpha=9.0;, score=-0.000 total time=   0.0s\n",
      "[CV 5/5] END .................model__alpha=9.0;, score=-0.000 total time=   0.0s\n",
      "[CV 1/5] END .................model__alpha=9.1;, score=-0.000 total time=   0.0s\n",
      "[CV 2/5] END .................model__alpha=9.1;, score=-0.000 total time=   0.0s\n",
      "[CV 3/5] END .................model__alpha=9.1;, score=-0.000 total time=   0.0s\n",
      "[CV 4/5] END .................model__alpha=9.1;, score=-0.000 total time=   0.0s\n",
      "[CV 5/5] END .................model__alpha=9.1;, score=-0.000 total time=   0.0s\n",
      "[CV 1/5] END .................model__alpha=9.2;, score=-0.000 total time=   0.0s\n",
      "[CV 2/5] END .................model__alpha=9.2;, score=-0.000 total time=   0.0s\n",
      "[CV 3/5] END .................model__alpha=9.2;, score=-0.000 total time=   0.0s\n",
      "[CV 4/5] END .................model__alpha=9.2;, score=-0.000 total time=   0.0s\n",
      "[CV 5/5] END .................model__alpha=9.2;, score=-0.000 total time=   0.1s\n",
      "[CV 1/5] END .................model__alpha=9.3;, score=-0.000 total time=   0.1s\n",
      "[CV 2/5] END .................model__alpha=9.3;, score=-0.000 total time=   0.0s\n",
      "[CV 3/5] END .................model__alpha=9.3;, score=-0.000 total time=   0.1s\n",
      "[CV 4/5] END .................model__alpha=9.3;, score=-0.000 total time=   0.0s\n",
      "[CV 5/5] END .................model__alpha=9.3;, score=-0.000 total time=   0.0s\n",
      "[CV 1/5] END .................model__alpha=9.4;, score=-0.000 total time=   0.0s\n",
      "[CV 2/5] END .................model__alpha=9.4;, score=-0.000 total time=   0.0s\n",
      "[CV 3/5] END .................model__alpha=9.4;, score=-0.000 total time=   0.0s\n",
      "[CV 4/5] END .................model__alpha=9.4;, score=-0.000 total time=   0.0s\n",
      "[CV 5/5] END .................model__alpha=9.4;, score=-0.000 total time=   0.0s\n",
      "[CV 1/5] END .................model__alpha=9.5;, score=-0.000 total time=   0.0s\n",
      "[CV 2/5] END .................model__alpha=9.5;, score=-0.000 total time=   0.0s\n",
      "[CV 3/5] END .................model__alpha=9.5;, score=-0.000 total time=   0.0s\n",
      "[CV 4/5] END .................model__alpha=9.5;, score=-0.000 total time=   0.0s\n",
      "[CV 5/5] END .................model__alpha=9.5;, score=-0.000 total time=   0.0s\n",
      "[CV 1/5] END .................model__alpha=9.6;, score=-0.000 total time=   0.0s\n",
      "[CV 2/5] END .................model__alpha=9.6;, score=-0.000 total time=   0.0s\n",
      "[CV 3/5] END .................model__alpha=9.6;, score=-0.000 total time=   0.1s\n",
      "[CV 4/5] END .................model__alpha=9.6;, score=-0.000 total time=   0.1s\n",
      "[CV 5/5] END .................model__alpha=9.6;, score=-0.000 total time=   0.1s\n",
      "[CV 1/5] END ...model__alpha=9.700000000000001;, score=-0.000 total time=   0.0s\n",
      "[CV 2/5] END ...model__alpha=9.700000000000001;, score=-0.000 total time=   0.0s\n",
      "[CV 3/5] END ...model__alpha=9.700000000000001;, score=-0.000 total time=   0.0s\n",
      "[CV 4/5] END ...model__alpha=9.700000000000001;, score=-0.000 total time=   0.0s\n",
      "[CV 5/5] END ...model__alpha=9.700000000000001;, score=-0.000 total time=   0.0s\n",
      "[CV 1/5] END .................model__alpha=9.8;, score=-0.000 total time=   0.1s\n",
      "[CV 2/5] END .................model__alpha=9.8;, score=-0.000 total time=   0.0s\n",
      "[CV 3/5] END .................model__alpha=9.8;, score=-0.000 total time=   0.0s\n",
      "[CV 4/5] END .................model__alpha=9.8;, score=-0.000 total time=   0.0s\n",
      "[CV 5/5] END .................model__alpha=9.8;, score=-0.000 total time=   0.0s\n",
      "[CV 1/5] END .................model__alpha=9.9;, score=-0.000 total time=   0.0s\n",
      "[CV 2/5] END .................model__alpha=9.9;, score=-0.000 total time=   0.0s\n",
      "[CV 3/5] END .................model__alpha=9.9;, score=-0.000 total time=   0.0s\n",
      "[CV 4/5] END .................model__alpha=9.9;, score=-0.000 total time=   0.0s\n",
      "[CV 5/5] END .................model__alpha=9.9;, score=-0.000 total time=   0.1s\n"
     ]
    },
    {
     "data": {
      "text/plain": [
       "GridSearchCV(cv=5,\n",
       "             estimator=Pipeline(steps=[('scaler', StandardScaler()),\n",
       "                                       ('model', Lasso())]),\n",
       "             param_grid={'model__alpha': array([0.1, 0.2, 0.3, 0.4, 0.5, 0.6, 0.7, 0.8, 0.9, 1. , 1.1, 1.2, 1.3,\n",
       "       1.4, 1.5, 1.6, 1.7, 1.8, 1.9, 2. , 2.1, 2.2, 2.3, 2.4, 2.5, 2.6,\n",
       "       2.7, 2.8, 2.9, 3. , 3.1, 3.2, 3.3, 3.4, 3.5, 3.6, 3.7, 3.8, 3.9,\n",
       "       4. , 4.1, 4.2, 4.3, 4.4, 4.5, 4.6, 4.7, 4.8, 4.9, 5. , 5.1, 5.2,\n",
       "       5.3, 5.4, 5.5, 5.6, 5.7, 5.8, 5.9, 6. , 6.1, 6.2, 6.3, 6.4, 6.5,\n",
       "       6.6, 6.7, 6.8, 6.9, 7. , 7.1, 7.2, 7.3, 7.4, 7.5, 7.6, 7.7, 7.8,\n",
       "       7.9, 8. , 8.1, 8.2, 8.3, 8.4, 8.5, 8.6, 8.7, 8.8, 8.9, 9. , 9.1,\n",
       "       9.2, 9.3, 9.4, 9.5, 9.6, 9.7, 9.8, 9.9])},\n",
       "             verbose=3)"
      ]
     },
     "execution_count": 8,
     "metadata": {},
     "output_type": "execute_result"
    }
   ],
   "source": [
    "search.fit(X_train,y_train)"
   ]
  },
  {
   "cell_type": "code",
   "execution_count": 9,
   "id": "1d11c647",
   "metadata": {},
   "outputs": [
    {
     "data": {
      "text/plain": [
       "{'model__alpha': 0.1}"
      ]
     },
     "execution_count": 9,
     "metadata": {},
     "output_type": "execute_result"
    }
   ],
   "source": [
    "search.best_params_"
   ]
  },
  {
   "cell_type": "code",
   "execution_count": 10,
   "id": "a5bc16ff",
   "metadata": {},
   "outputs": [],
   "source": [
    "coefficients = search.best_estimator_.named_steps['model'].coef_"
   ]
  },
  {
   "cell_type": "code",
   "execution_count": 11,
   "id": "b9890154",
   "metadata": {},
   "outputs": [
    {
     "data": {
      "text/plain": [
       "array([0.        , 0.        , 0.        , 0.        , 0.        ,\n",
       "       0.        , 0.        , 0.0150985 , 0.        , 0.        ,\n",
       "       0.02095302, 0.        , 0.        , 0.01430774, 0.        ,\n",
       "       0.        , 0.        , 0.        , 0.        , 0.03059875,\n",
       "       0.        , 0.        , 0.        , 0.17545608, 0.        ,\n",
       "       0.        , 0.13583212, 0.03576913, 0.        , 0.11337162,\n",
       "       0.        , 0.6391337 , 0.5598697 ])"
      ]
     },
     "execution_count": 11,
     "metadata": {},
     "output_type": "execute_result"
    }
   ],
   "source": [
    "importance = np.abs(coefficients)\n",
    "importance"
   ]
  },
  {
   "cell_type": "code",
   "execution_count": 12,
   "id": "e1c013d8",
   "metadata": {},
   "outputs": [
    {
     "data": {
      "text/plain": [
       "array(['Y2', 'Y3', 'Y4', 'Y6', 'Z7', 'Z8', 'X9', 'Z9', 'Y10', 'Z10'],\n",
       "      dtype=object)"
      ]
     },
     "execution_count": 12,
     "metadata": {},
     "output_type": "execute_result"
    }
   ],
   "source": [
    "features = df.columns\n",
    "features_lasso = np.array(features[2:])[importance != 0]\n",
    "features_lasso"
   ]
  },
  {
   "cell_type": "code",
   "execution_count": 13,
   "id": "66b80b5b",
   "metadata": {},
   "outputs": [
    {
     "data": {
      "text/plain": [
       "array(['X0', 'Y0', 'Z0', 'X1', 'Y1', 'Z1', 'X2', 'Z2', 'X3', 'Z3', 'X4',\n",
       "       'Z4', 'X5', 'Y5', 'Z5', 'X6', 'Z6', 'X7', 'Y7', 'X8', 'Y8', 'Y9',\n",
       "       'X10'], dtype=object)"
      ]
     },
     "execution_count": 13,
     "metadata": {},
     "output_type": "execute_result"
    }
   ],
   "source": [
    "np.array(features[2:])[importance == 0]"
   ]
  },
  {
   "cell_type": "markdown",
   "id": "b068b1ac",
   "metadata": {},
   "source": [
    "# Best Model from part-2 Random Forest Classifier"
   ]
  },
  {
   "cell_type": "code",
   "execution_count": 14,
   "id": "b2b70f67",
   "metadata": {},
   "outputs": [],
   "source": [
    "from sklearn.ensemble import RandomForestClassifier"
   ]
  },
  {
   "cell_type": "code",
   "execution_count": 15,
   "id": "75df36b6",
   "metadata": {},
   "outputs": [],
   "source": [
    "X_best = df[features_lasso]"
   ]
  },
  {
   "cell_type": "code",
   "execution_count": 16,
   "id": "ae70e3f1",
   "metadata": {},
   "outputs": [
    {
     "data": {
      "text/html": [
       "<div>\n",
       "<style scoped>\n",
       "    .dataframe tbody tr th:only-of-type {\n",
       "        vertical-align: middle;\n",
       "    }\n",
       "\n",
       "    .dataframe tbody tr th {\n",
       "        vertical-align: top;\n",
       "    }\n",
       "\n",
       "    .dataframe thead th {\n",
       "        text-align: right;\n",
       "    }\n",
       "</style>\n",
       "<table border=\"1\" class=\"dataframe\">\n",
       "  <thead>\n",
       "    <tr style=\"text-align: right;\">\n",
       "      <th></th>\n",
       "      <th>Y2</th>\n",
       "      <th>Y3</th>\n",
       "      <th>Y4</th>\n",
       "      <th>Y6</th>\n",
       "      <th>Z7</th>\n",
       "      <th>Z8</th>\n",
       "      <th>X9</th>\n",
       "      <th>Z9</th>\n",
       "      <th>Y10</th>\n",
       "      <th>Z10</th>\n",
       "    </tr>\n",
       "  </thead>\n",
       "  <tbody>\n",
       "    <tr>\n",
       "      <th>0</th>\n",
       "      <td>81.680557</td>\n",
       "      <td>67.749220</td>\n",
       "      <td>10.678936</td>\n",
       "      <td>52.537321</td>\n",
       "      <td>1.356154</td>\n",
       "      <td>-1.077380</td>\n",
       "      <td>37.172842</td>\n",
       "      <td>-10.663720</td>\n",
       "      <td>76.311915</td>\n",
       "      <td>-27.775952</td>\n",
       "    </tr>\n",
       "    <tr>\n",
       "      <th>1</th>\n",
       "      <td>43.254091</td>\n",
       "      <td>68.400808</td>\n",
       "      <td>11.779919</td>\n",
       "      <td>52.537321</td>\n",
       "      <td>1.356154</td>\n",
       "      <td>-1.077380</td>\n",
       "      <td>37.172842</td>\n",
       "      <td>-10.663720</td>\n",
       "      <td>76.311915</td>\n",
       "      <td>-27.775952</td>\n",
       "    </tr>\n",
       "    <tr>\n",
       "      <th>2</th>\n",
       "      <td>43.567403</td>\n",
       "      <td>68.907925</td>\n",
       "      <td>11.793440</td>\n",
       "      <td>52.537321</td>\n",
       "      <td>1.356154</td>\n",
       "      <td>-1.077380</td>\n",
       "      <td>37.172842</td>\n",
       "      <td>-10.663720</td>\n",
       "      <td>76.311915</td>\n",
       "      <td>-27.775952</td>\n",
       "    </tr>\n",
       "    <tr>\n",
       "      <th>3</th>\n",
       "      <td>68.214645</td>\n",
       "      <td>11.250648</td>\n",
       "      <td>42.717833</td>\n",
       "      <td>52.537321</td>\n",
       "      <td>1.356154</td>\n",
       "      <td>-1.077380</td>\n",
       "      <td>37.172842</td>\n",
       "      <td>-10.663720</td>\n",
       "      <td>76.311915</td>\n",
       "      <td>-27.775952</td>\n",
       "    </tr>\n",
       "    <tr>\n",
       "      <th>4</th>\n",
       "      <td>42.426849</td>\n",
       "      <td>67.901260</td>\n",
       "      <td>10.841109</td>\n",
       "      <td>52.537321</td>\n",
       "      <td>1.356154</td>\n",
       "      <td>-1.077380</td>\n",
       "      <td>37.172842</td>\n",
       "      <td>-10.663720</td>\n",
       "      <td>76.311915</td>\n",
       "      <td>-27.775952</td>\n",
       "    </tr>\n",
       "    <tr>\n",
       "      <th>...</th>\n",
       "      <td>...</td>\n",
       "      <td>...</td>\n",
       "      <td>...</td>\n",
       "      <td>...</td>\n",
       "      <td>...</td>\n",
       "      <td>...</td>\n",
       "      <td>...</td>\n",
       "      <td>...</td>\n",
       "      <td>...</td>\n",
       "      <td>...</td>\n",
       "    </tr>\n",
       "    <tr>\n",
       "      <th>78090</th>\n",
       "      <td>122.758679</td>\n",
       "      <td>98.056881</td>\n",
       "      <td>136.368236</td>\n",
       "      <td>77.622306</td>\n",
       "      <td>-53.126136</td>\n",
       "      <td>-6.543115</td>\n",
       "      <td>87.733364</td>\n",
       "      <td>-48.713932</td>\n",
       "      <td>78.677105</td>\n",
       "      <td>-32.567608</td>\n",
       "    </tr>\n",
       "    <tr>\n",
       "      <th>78091</th>\n",
       "      <td>77.858214</td>\n",
       "      <td>104.726272</td>\n",
       "      <td>135.823494</td>\n",
       "      <td>98.288931</td>\n",
       "      <td>-5.985371</td>\n",
       "      <td>-62.130563</td>\n",
       "      <td>78.229847</td>\n",
       "      <td>-45.249543</td>\n",
       "      <td>78.677105</td>\n",
       "      <td>-32.567608</td>\n",
       "    </tr>\n",
       "    <tr>\n",
       "      <th>78092</th>\n",
       "      <td>104.222208</td>\n",
       "      <td>77.688911</td>\n",
       "      <td>135.605903</td>\n",
       "      <td>122.614027</td>\n",
       "      <td>-62.718735</td>\n",
       "      <td>3.835904</td>\n",
       "      <td>78.591554</td>\n",
       "      <td>-46.166556</td>\n",
       "      <td>78.677105</td>\n",
       "      <td>-32.567608</td>\n",
       "    </tr>\n",
       "    <tr>\n",
       "      <th>78093</th>\n",
       "      <td>77.705861</td>\n",
       "      <td>135.523929</td>\n",
       "      <td>104.026431</td>\n",
       "      <td>129.477879</td>\n",
       "      <td>3.394291</td>\n",
       "      <td>-63.221626</td>\n",
       "      <td>50.793322</td>\n",
       "      <td>-30.884241</td>\n",
       "      <td>78.677105</td>\n",
       "      <td>-32.567608</td>\n",
       "    </tr>\n",
       "    <tr>\n",
       "      <th>78094</th>\n",
       "      <td>122.827638</td>\n",
       "      <td>129.602374</td>\n",
       "      <td>98.017201</td>\n",
       "      <td>104.124677</td>\n",
       "      <td>-6.342302</td>\n",
       "      <td>-63.026574</td>\n",
       "      <td>78.879653</td>\n",
       "      <td>-47.013736</td>\n",
       "      <td>78.677105</td>\n",
       "      <td>-32.567608</td>\n",
       "    </tr>\n",
       "  </tbody>\n",
       "</table>\n",
       "<p>78095 rows × 10 columns</p>\n",
       "</div>"
      ],
      "text/plain": [
       "               Y2          Y3          Y4          Y6         Z7         Z8  \\\n",
       "0       81.680557   67.749220   10.678936   52.537321   1.356154  -1.077380   \n",
       "1       43.254091   68.400808   11.779919   52.537321   1.356154  -1.077380   \n",
       "2       43.567403   68.907925   11.793440   52.537321   1.356154  -1.077380   \n",
       "3       68.214645   11.250648   42.717833   52.537321   1.356154  -1.077380   \n",
       "4       42.426849   67.901260   10.841109   52.537321   1.356154  -1.077380   \n",
       "...           ...         ...         ...         ...        ...        ...   \n",
       "78090  122.758679   98.056881  136.368236   77.622306 -53.126136  -6.543115   \n",
       "78091   77.858214  104.726272  135.823494   98.288931  -5.985371 -62.130563   \n",
       "78092  104.222208   77.688911  135.605903  122.614027 -62.718735   3.835904   \n",
       "78093   77.705861  135.523929  104.026431  129.477879   3.394291 -63.221626   \n",
       "78094  122.827638  129.602374   98.017201  104.124677  -6.342302 -63.026574   \n",
       "\n",
       "              X9         Z9        Y10        Z10  \n",
       "0      37.172842 -10.663720  76.311915 -27.775952  \n",
       "1      37.172842 -10.663720  76.311915 -27.775952  \n",
       "2      37.172842 -10.663720  76.311915 -27.775952  \n",
       "3      37.172842 -10.663720  76.311915 -27.775952  \n",
       "4      37.172842 -10.663720  76.311915 -27.775952  \n",
       "...          ...        ...        ...        ...  \n",
       "78090  87.733364 -48.713932  78.677105 -32.567608  \n",
       "78091  78.229847 -45.249543  78.677105 -32.567608  \n",
       "78092  78.591554 -46.166556  78.677105 -32.567608  \n",
       "78093  50.793322 -30.884241  78.677105 -32.567608  \n",
       "78094  78.879653 -47.013736  78.677105 -32.567608  \n",
       "\n",
       "[78095 rows x 10 columns]"
      ]
     },
     "execution_count": 16,
     "metadata": {},
     "output_type": "execute_result"
    }
   ],
   "source": [
    "X_best"
   ]
  },
  {
   "cell_type": "code",
   "execution_count": 17,
   "id": "8a550327",
   "metadata": {},
   "outputs": [],
   "source": [
    "X_train_b, X_test_b, y_train, y_test = train_test_split(X_best, y, test_size=0.3, random_state=42)"
   ]
  },
  {
   "cell_type": "code",
   "execution_count": 18,
   "id": "408bf897",
   "metadata": {},
   "outputs": [],
   "source": [
    "# Scaling the data using standard scaler\n",
    "scaler = StandardScaler()\n",
    "X_train_b = scaler.fit_transform(X_train_b)\n",
    "X_test_b = scaler.transform(X_test_b)"
   ]
  },
  {
   "cell_type": "code",
   "execution_count": 19,
   "id": "2fcf4c66",
   "metadata": {},
   "outputs": [],
   "source": [
    "rfc=RandomForestClassifier(criterion= 'gini', max_depth= 8, max_features= 'auto', n_estimators= 201, random_state=42)"
   ]
  },
  {
   "cell_type": "code",
   "execution_count": 20,
   "id": "6deb446a",
   "metadata": {},
   "outputs": [
    {
     "data": {
      "text/plain": [
       "RandomForestClassifier(max_depth=8, n_estimators=201, random_state=42)"
      ]
     },
     "execution_count": 20,
     "metadata": {},
     "output_type": "execute_result"
    }
   ],
   "source": [
    "rfc.fit(X_train_b, y_train)"
   ]
  },
  {
   "cell_type": "code",
   "execution_count": 21,
   "id": "865a8427",
   "metadata": {},
   "outputs": [],
   "source": [
    "y_pred_rfc = rfc.predict(X_test_b)"
   ]
  },
  {
   "cell_type": "code",
   "execution_count": 22,
   "id": "fa825ebe",
   "metadata": {},
   "outputs": [
    {
     "name": "stdout",
     "output_type": "stream",
     "text": [
      "Accuracy for Random Forest for test data 0.9812198557343463\n"
     ]
    }
   ],
   "source": [
    "print(\"Accuracy for Random Forest for test data\",accuracy_score(y_test,y_pred_rfc))"
   ]
  },
  {
   "cell_type": "code",
   "execution_count": 23,
   "id": "ed6a036d",
   "metadata": {},
   "outputs": [
    {
     "name": "stdout",
     "output_type": "stream",
     "text": [
      "              precision    recall  f1-score   support\n",
      "\n",
      "           1       1.00      1.00      1.00      4898\n",
      "           2       0.92      0.98      0.95      4485\n",
      "           3       1.00      1.00      1.00      4854\n",
      "           4       1.00      1.00      1.00      4496\n",
      "           5       0.98      0.92      0.95      4696\n",
      "\n",
      "    accuracy                           0.98     23429\n",
      "   macro avg       0.98      0.98      0.98     23429\n",
      "weighted avg       0.98      0.98      0.98     23429\n",
      "\n"
     ]
    }
   ],
   "source": [
    "print(classification_report(y_test, y_pred_rfc))"
   ]
  },
  {
   "cell_type": "code",
   "execution_count": 24,
   "id": "230dc67f",
   "metadata": {},
   "outputs": [
    {
     "data": {
      "text/plain": [
       "array([[4881,   16,    0,    0,    1],\n",
       "       [   0, 4417,    0,    0,   68],\n",
       "       [   0,    0, 4854,    0,    0],\n",
       "       [   0,    0,    0, 4496,    0],\n",
       "       [   0,  355,    0,    0, 4341]], dtype=int64)"
      ]
     },
     "execution_count": 24,
     "metadata": {},
     "output_type": "execute_result"
    }
   ],
   "source": [
    "# getting the confusion matrix on test data based on true positive values\n",
    "conf_matrix_rfc = confusion_matrix(y_test, y_pred_rfc)\n",
    "conf_matrix_rfc"
   ]
  },
  {
   "cell_type": "code",
   "execution_count": 25,
   "id": "83be5b51",
   "metadata": {},
   "outputs": [
    {
     "data": {
      "image/png": "[encoded data removed]",
      "text/plain": [
       "<Figure size 576x432 with 2 Axes>"
      ]
     },
     "metadata": {
      "needs_background": "light"
     },
     "output_type": "display_data"
    }
   ],
   "source": [
    "# Confusion matrix heat map\n",
    "plt.figure(figsize = (8,6))\n",
    "sns.heatmap(conf_matrix_rfc, \n",
    "            annot=True, \n",
    "            cmap=\"Spectral\", fmt = \"g\")\n",
    "plt.title(\"RFC Confusion Matrix\")\n",
    "plt.xlabel('Predicted', fontsize=15)\n",
    "plt.ylabel('Actual/Observed', fontsize=15);"
   ]
  },
  {
   "cell_type": "markdown",
   "id": "f99b9760",
   "metadata": {},
   "source": [
    "# Best Model from part-3 Multi Layer Perceptron Classifier"
   ]
  },
  {
   "cell_type": "code",
   "execution_count": 26,
   "id": "ffb19091",
   "metadata": {},
   "outputs": [],
   "source": [
    "from sklearn.neural_network import MLPClassifier"
   ]
  },
  {
   "cell_type": "code",
   "execution_count": 27,
   "id": "574abbbd",
   "metadata": {},
   "outputs": [
    {
     "data": {
      "text/plain": [
       "MLPClassifier(alpha=0.001, hidden_layer_sizes=1000, learning_rate='adaptive')"
      ]
     },
     "execution_count": 27,
     "metadata": {},
     "output_type": "execute_result"
    }
   ],
   "source": [
    "mlp = MLPClassifier(learning_rate= 'adaptive', hidden_layer_sizes= 1000, alpha= 0.001)\n",
    "mlp.fit(X_train_b, y_train)"
   ]
  },
  {
   "cell_type": "code",
   "execution_count": 28,
   "id": "555a792c",
   "metadata": {},
   "outputs": [],
   "source": [
    "y_pred_mlp = mlp.predict(X_test_b)"
   ]
  },
  {
   "cell_type": "code",
   "execution_count": 29,
   "id": "67d9f819",
   "metadata": {},
   "outputs": [
    {
     "name": "stdout",
     "output_type": "stream",
     "text": [
      "Accuracy for Multi Layer Perceptron for test data 0.9835246916214947\n"
     ]
    }
   ],
   "source": [
    "print(\"Accuracy for Multi Layer Perceptron for test data\",accuracy_score(y_test,y_pred_mlp))"
   ]
  },
  {
   "cell_type": "code",
   "execution_count": 30,
   "id": "816d6c09",
   "metadata": {},
   "outputs": [
    {
     "name": "stdout",
     "output_type": "stream",
     "text": [
      "              precision    recall  f1-score   support\n",
      "\n",
      "           1       1.00      1.00      1.00      4898\n",
      "           2       0.96      0.96      0.96      4485\n",
      "           3       1.00      1.00      1.00      4854\n",
      "           4       1.00      1.00      1.00      4496\n",
      "           5       0.96      0.96      0.96      4696\n",
      "\n",
      "    accuracy                           0.98     23429\n",
      "   macro avg       0.98      0.98      0.98     23429\n",
      "weighted avg       0.98      0.98      0.98     23429\n",
      "\n"
     ]
    }
   ],
   "source": [
    "print(classification_report(y_test, y_pred_mlp))"
   ]
  },
  {
   "cell_type": "code",
   "execution_count": 31,
   "id": "2c43a8b0",
   "metadata": {},
   "outputs": [
    {
     "data": {
      "text/plain": [
       "array([[4882,   15,    0,    0,    1],\n",
       "       [   2, 4303,    0,    0,  180],\n",
       "       [   0,    0, 4854,    0,    0],\n",
       "       [   0,    0,    0, 4496,    0],\n",
       "       [   1,  183,    2,    2, 4508]], dtype=int64)"
      ]
     },
     "execution_count": 31,
     "metadata": {},
     "output_type": "execute_result"
    }
   ],
   "source": [
    "# getting the confusion matrix on test data based on true positive values\n",
    "conf_matrix_mlp = confusion_matrix(y_test, y_pred_mlp)\n",
    "conf_matrix_mlp"
   ]
  },
  {
   "cell_type": "code",
   "execution_count": 32,
   "id": "632c4ea1",
   "metadata": {},
   "outputs": [
    {
     "data": {
      "image/png": "[encoded data removed]",
      "text/plain": [
       "<Figure size 576x432 with 2 Axes>"
      ]
     },
     "metadata": {
      "needs_background": "light"
     },
     "output_type": "display_data"
    }
   ],
   "source": [
    "# Confusion matrix heat map\n",
    "plt.figure(figsize = (8,6))\n",
    "sns.heatmap(conf_matrix_mlp, \n",
    "            annot=True, \n",
    "            cmap=\"Spectral\", fmt = \"g\")\n",
    "plt.title(\"MLP Confusion Matrix\")\n",
    "plt.xlabel('Predicted', fontsize=15)\n",
    "plt.ylabel('Actual/Observed', fontsize=15);"
   ]
  },
  {
   "cell_type": "code",
   "execution_count": null,
   "id": "aae46dc6",
   "metadata": {},
   "outputs": [],
   "source": []
  }
 ],
 "metadata": {
  "kernelspec": {
   "display_name": "Python 3 (ipykernel)",
   "language": "python",
   "name": "python3"
  },
  "language_info": {
   "codemirror_mode": {
    "name": "ipython",
    "version": 3
   },
   "file_extension": ".py",
   "mimetype": "text/x-python",
   "name": "python",
   "nbconvert_exporter": "python",
   "pygments_lexer": "ipython3",
   "version": "3.9.12"
  }
 },
 "nbformat": 4,
 "nbformat_minor": 5
}
