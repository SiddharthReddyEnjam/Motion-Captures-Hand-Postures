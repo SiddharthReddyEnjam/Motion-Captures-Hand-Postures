{
 "cells": [
  {
   "cell_type": "code",
   "execution_count": 14,
   "id": "de524baa",
   "metadata": {},
   "outputs": [],
   "source": [
    "#import requuired libraries\n",
    "import pandas as pd\n",
    "import numpy as np\n",
    "import sys\n",
    "import joblib\n",
    "sys.modules['sklearn.externals.joblib'] = joblib\n",
    "from mlxtend.feature_selection import SequentialFeatureSelector as SFS\n",
    "from sklearn.ensemble import RandomForestClassifier\n",
    "from sklearn.model_selection import GridSearchCV , train_test_split\n",
    "from sklearn.metrics import accuracy_score, confusion_matrix, classification_report, f1_score, roc_auc_score, recall_score\n",
    "import matplotlib.pyplot as plt\n",
    "import seaborn as sns\n",
    "import warnings\n",
    "warnings.filterwarnings('ignore')"
   ]
  },
  {
   "cell_type": "code",
   "execution_count": 2,
   "id": "71d57c9f",
   "metadata": {},
   "outputs": [],
   "source": [
    "# Loading data to dataframe using pandas\n",
    "df = pd.read_csv('Group_8_data_cleaned.csv')"
   ]
  },
  {
   "cell_type": "code",
   "execution_count": 3,
   "id": "88c41148",
   "metadata": {},
   "outputs": [],
   "source": [
    "# Splitting the data to input data and output data\n",
    "X=df.drop(['Class', 'User'],axis=1)\n",
    "y=df['Class']"
   ]
  },
  {
   "cell_type": "code",
   "execution_count": 4,
   "id": "09610c07",
   "metadata": {},
   "outputs": [],
   "source": [
    "X_train, X_test, y_train, y_test = train_test_split(X, y, test_size=0.3, random_state=42)"
   ]
  },
  {
   "cell_type": "markdown",
   "id": "0906c8db",
   "metadata": {},
   "source": [
    "# Random Forest"
   ]
  },
  {
   "cell_type": "code",
   "execution_count": 5,
   "id": "bcdf8475",
   "metadata": {},
   "outputs": [],
   "source": [
    "rfc=RandomForestClassifier(criterion= 'gini', max_depth= 8, max_features= 'auto', n_estimators= 201, random_state=42)"
   ]
  },
  {
   "cell_type": "code",
   "execution_count": 6,
   "id": "d219e901",
   "metadata": {},
   "outputs": [],
   "source": [
    "sfs = SFS(rfc, forward=True, floating=True, k_features=16)"
   ]
  },
  {
   "cell_type": "code",
   "execution_count": 7,
   "id": "a7b26002",
   "metadata": {
    "scrolled": true
   },
   "outputs": [
    {
     "data": {
      "text/plain": [
       "SequentialFeatureSelector(estimator=RandomForestClassifier(max_depth=8,\n",
       "                                                           n_estimators=201,\n",
       "                                                           random_state=42),\n",
       "                          floating=True, k_features=(16, 16),\n",
       "                          scoring='accuracy')"
      ]
     },
     "execution_count": 7,
     "metadata": {},
     "output_type": "execute_result"
    }
   ],
   "source": [
    "sfs.fit(X_train, y_train)"
   ]
  },
  {
   "cell_type": "code",
   "execution_count": 8,
   "id": "5781ebe7",
   "metadata": {},
   "outputs": [
    {
     "data": {
      "text/plain": [
       "('X0',\n",
       " 'Y0',\n",
       " 'Z0',\n",
       " 'X1',\n",
       " 'Y1',\n",
       " 'Z1',\n",
       " 'X2',\n",
       " 'X3',\n",
       " 'Z4',\n",
       " 'Z8',\n",
       " 'X9',\n",
       " 'Y9',\n",
       " 'Z9',\n",
       " 'X10',\n",
       " 'Y10',\n",
       " 'Z10')"
      ]
     },
     "execution_count": 8,
     "metadata": {},
     "output_type": "execute_result"
    }
   ],
   "source": [
    "sfs.k_feature_names_"
   ]
  },
  {
   "cell_type": "code",
   "execution_count": 9,
   "id": "32f002d8",
   "metadata": {},
   "outputs": [],
   "source": [
    "x_train_feat = X_train[list(sfs.k_feature_names_)]\n",
    "x_test_feat = X_test[list(sfs.k_feature_names_)]"
   ]
  },
  {
   "cell_type": "code",
   "execution_count": 10,
   "id": "4c587cf5",
   "metadata": {},
   "outputs": [
    {
     "data": {
      "text/plain": [
       "RandomForestClassifier(max_depth=8, n_estimators=201, random_state=42)"
      ]
     },
     "execution_count": 10,
     "metadata": {},
     "output_type": "execute_result"
    }
   ],
   "source": [
    "rfc.fit(x_train_feat, y_train)"
   ]
  },
  {
   "cell_type": "code",
   "execution_count": 11,
   "id": "41ef64c5",
   "metadata": {},
   "outputs": [],
   "source": [
    "y_pred_rfc = rfc.predict(x_test_feat)"
   ]
  },
  {
   "cell_type": "code",
   "execution_count": 12,
   "id": "77240db3",
   "metadata": {},
   "outputs": [
    {
     "name": "stdout",
     "output_type": "stream",
     "text": [
      "Accuracy for Random Forest for test data 0.9912074779119894\n"
     ]
    }
   ],
   "source": [
    "print(\"Accuracy for Random Forest for test data\",accuracy_score(y_test,y_pred_rfc))"
   ]
  },
  {
   "cell_type": "code",
   "execution_count": 13,
   "id": "148b2004",
   "metadata": {},
   "outputs": [
    {
     "name": "stdout",
     "output_type": "stream",
     "text": [
      "              precision    recall  f1-score   support\n",
      "\n",
      "           1       1.00      1.00      1.00      4898\n",
      "           2       0.97      0.99      0.98      4485\n",
      "           3       1.00      1.00      1.00      4854\n",
      "           4       1.00      1.00      1.00      4496\n",
      "           5       0.99      0.97      0.98      4696\n",
      "\n",
      "    accuracy                           0.99     23429\n",
      "   macro avg       0.99      0.99      0.99     23429\n",
      "weighted avg       0.99      0.99      0.99     23429\n",
      "\n"
     ]
    }
   ],
   "source": [
    "#Classification report for the training data\n",
    "print(classification_report(y_test, y_pred_rfc))"
   ]
  },
  {
   "cell_type": "code",
   "execution_count": 14,
   "id": "d1c71a3a",
   "metadata": {},
   "outputs": [
    {
     "name": "stdout",
     "output_type": "stream",
     "text": [
      "[[4881   16    0    0    1]\n",
      " [   0 4441    0    0   44]\n",
      " [   0    0 4854    0    0]\n",
      " [   0    0    0 4496    0]\n",
      " [   0  145    0    0 4551]]\n"
     ]
    }
   ],
   "source": [
    "# Confusion matrix for testing data\n",
    "conf_matrix_rfc = confusion_matrix(y_test, y_pred_rfc)\n",
    "print(confusion_matrix(y_test, y_pred_rfc))"
   ]
  },
  {
   "cell_type": "code",
   "execution_count": 17,
   "id": "feafb4a3",
   "metadata": {},
   "outputs": [
    {
     "data": {
      "image/png": "[encoded data removed]",
      "text/plain": [
       "<Figure size 800x600 with 2 Axes>"
      ]
     },
     "metadata": {},
     "output_type": "display_data"
    }
   ],
   "source": [
    "plt.figure(figsize = (8,6))\n",
    "\n",
    "sns.heatmap(conf_matrix_rfc, \n",
    "            annot=True, \n",
    "            cmap=\"Spectral\", fmt = \"g\")\n",
    "plt.title(\"RFC Confusion Matrix\")\n",
    "plt.xlabel('Predicted', fontsize=15)\n",
    "plt.ylabel('Actual/Observed', fontsize=15);"
   ]
  },
  {
   "cell_type": "markdown",
   "id": "4292be19",
   "metadata": {},
   "source": [
    "# Multi Layer Perceptron"
   ]
  },
  {
   "cell_type": "code",
   "execution_count": 5,
   "id": "94f54608",
   "metadata": {},
   "outputs": [],
   "source": [
    "# Importing the deep learning model\n",
    "from sklearn.neural_network import MLPClassifier"
   ]
  },
  {
   "cell_type": "code",
   "execution_count": 16,
   "id": "692340a5",
   "metadata": {},
   "outputs": [],
   "source": [
    "mlp = MLPClassifier(learning_rate= 'adaptive', hidden_layer_sizes= 1000, alpha= 0.001)"
   ]
  },
  {
   "cell_type": "code",
   "execution_count": 17,
   "id": "5021e92d",
   "metadata": {},
   "outputs": [],
   "source": [
    "x_train_feat_mlp = X_train[list(('X0','Y0','Z0','X1','Y1','Z1','X2','X3','Z4','Z8','X9','Y9','Z9','X10','Y10','Z10'))]\n",
    "x_test_feat_mlp = X_test[list(('X0','Y0','Z0','X1','Y1','Z1','X2','X3','Z4','Z8','X9','Y9','Z9','X10','Y10','Z10'))]"
   ]
  },
  {
   "cell_type": "code",
   "execution_count": 18,
   "id": "eb03304b",
   "metadata": {},
   "outputs": [
    {
     "data": {
      "text/plain": [
       "MLPClassifier(alpha=0.001, hidden_layer_sizes=1000, learning_rate='adaptive')"
      ]
     },
     "execution_count": 18,
     "metadata": {},
     "output_type": "execute_result"
    }
   ],
   "source": [
    "mlp.fit(x_train_feat_mlp, y_train)"
   ]
  },
  {
   "cell_type": "code",
   "execution_count": 19,
   "id": "312f0a53",
   "metadata": {},
   "outputs": [],
   "source": [
    "y_pred_mlp  = mlp.predict(x_test_feat_mlp)"
   ]
  },
  {
   "cell_type": "code",
   "execution_count": 20,
   "id": "e34ead9b",
   "metadata": {},
   "outputs": [
    {
     "name": "stdout",
     "output_type": "stream",
     "text": [
      " The testing data accuracy for the best model is 0.9886892312945494\n"
     ]
    }
   ],
   "source": [
    "acc_mlp = accuracy_score(y_test,y_pred_mlp)\n",
    "print(f\" The testing data accuracy for the best model is {acc_mlp}\")"
   ]
  },
  {
   "cell_type": "code",
   "execution_count": 21,
   "id": "12c4c102",
   "metadata": {},
   "outputs": [
    {
     "name": "stdout",
     "output_type": "stream",
     "text": [
      "              precision    recall  f1-score   support\n",
      "\n",
      "           1       1.00      1.00      1.00      4898\n",
      "           2       0.96      0.98      0.97      4485\n",
      "           3       1.00      1.00      1.00      4854\n",
      "           4       1.00      1.00      1.00      4496\n",
      "           5       0.98      0.97      0.97      4696\n",
      "\n",
      "    accuracy                           0.99     23429\n",
      "   macro avg       0.99      0.99      0.99     23429\n",
      "weighted avg       0.99      0.99      0.99     23429\n",
      "\n"
     ]
    }
   ],
   "source": [
    "print(classification_report(y_test,y_pred_mlp))"
   ]
  },
  {
   "cell_type": "code",
   "execution_count": 22,
   "id": "a36e03a3",
   "metadata": {},
   "outputs": [
    {
     "data": {
      "text/plain": [
       "array([[4878,   16,    0,    0,    4],\n",
       "       [   4, 4394,    1,    1,   85],\n",
       "       [   0,    0, 4854,    0,    0],\n",
       "       [   0,    0,    0, 4495,    1],\n",
       "       [   0,  153,    0,    0, 4543]], dtype=int64)"
      ]
     },
     "execution_count": 22,
     "metadata": {},
     "output_type": "execute_result"
    }
   ],
   "source": [
    "conf_matrix_mlp = confusion_matrix(y_test, y_pred_mlp)\n",
    "conf_matrix_mlp"
   ]
  },
  {
   "cell_type": "code",
   "execution_count": 23,
   "id": "aa0ad707",
   "metadata": {},
   "outputs": [
    {
     "data": {
      "image/png": "[encoded data removed]",
      "text/plain": [
       "<Figure size 576x432 with 2 Axes>"
      ]
     },
     "metadata": {
      "needs_background": "light"
     },
     "output_type": "display_data"
    }
   ],
   "source": [
    "plt.figure(figsize = (8,6))\n",
    "sns.heatmap(conf_matrix_mlp, \n",
    "            annot=True, \n",
    "            cmap=\"Spectral\", fmt = \"g\")\n",
    "plt.title(\"MLP Confusion Matrix\")\n",
    "plt.xlabel('Predicted', fontsize=15)\n",
    "plt.ylabel('Actual/Observed', fontsize=15);"
   ]
  },
  {
   "cell_type": "code",
   "execution_count": null,
   "id": "efafb3de",
   "metadata": {},
   "outputs": [],
   "source": []
  }
 ],
 "metadata": {
  "kernelspec": {
   "display_name": "Python 3 (ipykernel)",
   "language": "python",
   "name": "python3"
  },
  "language_info": {
   "codemirror_mode": {
    "name": "ipython",
    "version": 3
   },
   "file_extension": ".py",
   "mimetype": "text/x-python",
   "name": "python",
   "nbconvert_exporter": "python",
   "pygments_lexer": "ipython3",
   "version": "3.9.12"
  }
 },
 "nbformat": 4,
 "nbformat_minor": 5
}
