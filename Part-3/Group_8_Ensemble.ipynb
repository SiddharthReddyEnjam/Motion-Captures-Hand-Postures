{
 "cells": [
  {
   "cell_type": "code",
   "execution_count": 1,
   "id": "a1a8496e",
   "metadata": {},
   "outputs": [],
   "source": [
    "import pandas as pd\n",
    "import numpy as np\n",
    "import matplotlib.pyplot as plt\n",
    "\n",
    "from sklearn.model_selection import train_test_split\n",
    "from sklearn.preprocessing import StandardScaler\n",
    "\n",
    "from sklearn.dummy import DummyClassifier\n",
    "from sklearn.linear_model import SGDClassifier\n",
    "from sklearn.neighbors import KNeighborsClassifier\n",
    "from sklearn.ensemble import RandomForestClassifier\n",
    "from sklearn.svm import LinearSVC\n",
    "from sklearn.svm import SVC\n",
    "from sklearn.neural_network import MLPClassifier\n",
    "\n",
    "from sklearn.ensemble import VotingClassifier, StackingClassifier, BaggingClassifier\n",
    "from sklearn.metrics import classification_report, confusion_matrix\n",
    "import warnings\n",
    "warnings.filterwarnings(\"ignore\")"
   ]
  },
  {
   "cell_type": "code",
   "execution_count": 2,
   "id": "5400cea8",
   "metadata": {},
   "outputs": [],
   "source": [
    "df = pd.read_csv('Group_8_data_cleaned.csv')"
   ]
  },
  {
   "cell_type": "code",
   "execution_count": 3,
   "id": "85982991",
   "metadata": {},
   "outputs": [],
   "source": [
    "# Splitting the data to input data and output data\n",
    "X=df.drop(['Class', 'User'],axis=1)\n",
    "y=df['Class']"
   ]
  },
  {
   "cell_type": "code",
   "execution_count": 4,
   "id": "c5a7b781",
   "metadata": {},
   "outputs": [],
   "source": [
    "#split dataset\n",
    "X_train, X_test, y_train, y_test = train_test_split(X, y, test_size=0.3, random_state=42)"
   ]
  },
  {
   "cell_type": "code",
   "execution_count": 5,
   "id": "59c20fa0",
   "metadata": {},
   "outputs": [],
   "source": [
    "# Scaling the data using standard scaler\n",
    "scaler = StandardScaler()\n",
    "X_train_scaled = scaler.fit_transform(X_train)\n",
    "X_test_scaled = scaler.fit_transform(X_test)"
   ]
  },
  {
   "cell_type": "code",
   "execution_count": 6,
   "id": "d30ea344",
   "metadata": {},
   "outputs": [],
   "source": [
    "clf1 = SGDClassifier(loss='hinge', alpha= 0.1, learning_rate='optimal', random_state=0)\n",
    "clf2 = KNeighborsClassifier(n_neighbors= 5)\n",
    "clf3 = RandomForestClassifier(criterion= 'gini', max_depth= 8, max_features= 'auto', n_estimators= 201, random_state=42)\n",
    "clf4 = LinearSVC(C= 0.01)\n",
    "clf5 = SVC(C=100, gamma=0.01, kernel='poly')\n",
    "clf6 = MLPClassifier(learning_rate= 'adaptive', hidden_layer_sizes= 1000, alpha= 0.001)"
   ]
  },
  {
   "cell_type": "code",
   "execution_count": 7,
   "id": "b53c3019",
   "metadata": {},
   "outputs": [],
   "source": [
    "Ensemble = VotingClassifier(estimators=[('SGD', clf1),\n",
    "                                  ('KNN', clf2),\n",
    "                                 ('RFC',clf3),\n",
    "                                  ('SVC_lin',clf4),\n",
    "                                  ('SVC',clf5),\n",
    "                                  ('MLP',clf6)])"
   ]
  },
  {
   "cell_type": "code",
   "execution_count": 8,
   "id": "c9cf7e29",
   "metadata": {},
   "outputs": [
    {
     "name": "stdout",
     "output_type": "stream",
     "text": [
      "SGD Training accuracy: 0.9524384443712728\n",
      "SGD Testing accuracy: 0.9521106321225832 \n",
      "\n",
      "KNN Training accuracy: 0.9858229978414371\n",
      "KNN Testing accuracy: 0.9792991591617226 \n",
      "\n",
      "RFC Training accuracy: 0.9951157940950499\n",
      "RFC Testing accuracy: 0.9553971573690725 \n",
      "\n",
      "SVC_lin Training accuracy: 0.9650788424249076\n",
      "SVC_lin Testing accuracy: 0.9648299116479576 \n",
      "\n",
      "SVC Training accuracy: 1.0\n",
      "SVC Testing accuracy: 0.9944086388663622 \n",
      "\n",
      "MLP Training accuracy: 1.0\n",
      "MLP Testing accuracy: 0.9968415211916856 \n",
      "\n",
      "VotingClassifier Training accuracy: 0.994365784948597\n",
      "VotingClassifier Testing accuracy: 0.9923598958555636 \n",
      "\n"
     ]
    }
   ],
   "source": [
    "accuracy = []\n",
    "for clf, name in zip([clf1, clf2, clf3, clf4,clf5,clf6,Ensemble], ['SGD', 'KNN','RFC','SVC_lin','SVC','MLP','VotingClassifier']):\n",
    "    clf.fit(X_train_scaled, y_train)\n",
    "    print(name,'Training accuracy:', clf.score(X_train_scaled, y_train))\n",
    "    print(name, 'Testing accuracy:', clf.score(X_test_scaled, y_test), '\\n')\n",
    "    accuracy.append(clf.score(X_test_scaled, y_test))"
   ]
  },
  {
   "cell_type": "code",
   "execution_count": 9,
   "id": "32a8419b",
   "metadata": {},
   "outputs": [
    {
     "data": {
      "text/plain": [
       "[0.9521106321225832,\n",
       " 0.9792991591617226,\n",
       " 0.9553971573690725,\n",
       " 0.9648299116479576,\n",
       " 0.9944086388663622,\n",
       " 0.9968415211916856,\n",
       " 0.9923598958555636]"
      ]
     },
     "execution_count": 9,
     "metadata": {},
     "output_type": "execute_result"
    }
   ],
   "source": [
    "accuracy"
   ]
  },
  {
   "cell_type": "code",
   "execution_count": 10,
   "id": "dd1e95bb",
   "metadata": {},
   "outputs": [],
   "source": [
    "ensemble_pred = Ensemble.predict(X_test_scaled)"
   ]
  },
  {
   "cell_type": "code",
   "execution_count": 11,
   "id": "55042e89",
   "metadata": {},
   "outputs": [
    {
     "name": "stdout",
     "output_type": "stream",
     "text": [
      "              precision    recall  f1-score   support\n",
      "\n",
      "           1       1.00      1.00      1.00      4898\n",
      "           2       0.97      0.99      0.98      4485\n",
      "           3       1.00      1.00      1.00      4854\n",
      "           4       1.00      1.00      1.00      4496\n",
      "           5       1.00      0.97      0.98      4696\n",
      "\n",
      "    accuracy                           0.99     23429\n",
      "   macro avg       0.99      0.99      0.99     23429\n",
      "weighted avg       0.99      0.99      0.99     23429\n",
      "\n"
     ]
    }
   ],
   "source": [
    "print(classification_report(y_test, ensemble_pred))"
   ]
  },
  {
   "cell_type": "code",
   "execution_count": 12,
   "id": "2529e228",
   "metadata": {},
   "outputs": [
    {
     "data": {
      "text/plain": [
       "array([[4881,   16,    0,    0,    1],\n",
       "       [   4, 4455,    6,    0,   20],\n",
       "       [   2,    2, 4850,    0,    0],\n",
       "       [   0,    0,    3, 4493,    0],\n",
       "       [   0,  111,    4,   10, 4571]], dtype=int64)"
      ]
     },
     "execution_count": 12,
     "metadata": {},
     "output_type": "execute_result"
    }
   ],
   "source": [
    "conf_matrix_ens = confusion_matrix(y_test, ensemble_pred)\n",
    "conf_matrix_ens"
   ]
  },
  {
   "cell_type": "code",
   "execution_count": 16,
   "id": "81ece16f",
   "metadata": {},
   "outputs": [
    {
     "data": {
      "image/png": "[encoded data removed]",
      "text/plain": [
       "<Figure size 576x432 with 2 Axes>"
      ]
     },
     "metadata": {
      "needs_background": "light"
     },
     "output_type": "display_data"
    }
   ],
   "source": [
    "# Confusion matrix heat map\n",
    "import seaborn as sns\n",
    "plt.figure(figsize = (8,6))\n",
    "\n",
    "sns.heatmap(conf_matrix_ens, \n",
    "            annot=True, \n",
    "            cmap=\"Spectral\",\n",
    "            fmt = \"g\"\n",
    "                      )\n",
    "plt.title(\"Ensemble Confusion Matrix\")\n",
    "plt.xlabel('Predicted', fontsize=15)\n",
    "plt.ylabel('Actual/Observed', fontsize=15);"
   ]
  },
  {
   "cell_type": "markdown",
   "id": "baa3588a",
   "metadata": {},
   "source": [
    "# Comparing the individual models and ensemble"
   ]
  },
  {
   "cell_type": "code",
   "execution_count": 14,
   "id": "4c1c3133",
   "metadata": {},
   "outputs": [],
   "source": [
    "models = [\"Linear Classifier\",\"KNN\", \"Random Forest\", \"SVC Linear\", \"SVC non-Linear\", \"MLP\", \"Ensemble\"]"
   ]
  },
  {
   "cell_type": "code",
   "execution_count": 15,
   "id": "3b6eb956",
   "metadata": {},
   "outputs": [
    {
     "data": {
      "image/png": "[encoded data removed]",
      "text/plain": [
       "<Figure size 720x432 with 1 Axes>"
      ]
     },
     "metadata": {
      "needs_background": "light"
     },
     "output_type": "display_data"
    }
   ],
   "source": [
    "# sns.set(style=\"whitegrid\")\n",
    "fig, ax = plt.subplots(figsize=(10, 6))\n",
    "ax = sns.barplot(x=models, y=accuracy)\n",
    "for i in ax.containers:\n",
    "    ax.bar_label(i, label_type='edge', fontsize=10)\n",
    "plt.xticks(range(len(models)), models)\n",
    "plt.title(f\"Accuracy plot for {len(accuracy)} models\")\n",
    "plt.xlabel(\"Model\")\n",
    "plt.ylabel(\"Accuracy\")\n",
    "plt.show()"
   ]
  },
  {
   "cell_type": "code",
   "execution_count": null,
   "id": "2ddc9d51",
   "metadata": {},
   "outputs": [],
   "source": []
  }
 ],
 "metadata": {
  "kernelspec": {
   "display_name": "Python 3 (ipykernel)",
   "language": "python",
   "name": "python3"
  },
  "language_info": {
   "codemirror_mode": {
    "name": "ipython",
    "version": 3
   },
   "file_extension": ".py",
   "mimetype": "text/x-python",
   "name": "python",
   "nbconvert_exporter": "python",
   "pygments_lexer": "ipython3",
   "version": "3.9.12"
  }
 },
 "nbformat": 4,
 "nbformat_minor": 5
}
