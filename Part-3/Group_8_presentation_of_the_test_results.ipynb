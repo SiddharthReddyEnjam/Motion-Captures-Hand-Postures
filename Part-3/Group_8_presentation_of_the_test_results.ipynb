{
 "cells": [
  {
   "cell_type": "markdown",
   "id": "ec5a80e3",
   "metadata": {},
   "source": [
    "# Group - 8"
   ]
  },
  {
   "cell_type": "markdown",
   "id": "f935d3f0",
   "metadata": {},
   "source": [
    "# Motion Capture Hand Postures"
   ]
  },
  {
   "cell_type": "markdown",
   "id": "ca591477",
   "metadata": {},
   "source": [
    "# Presentation of the test results"
   ]
  },
  {
   "cell_type": "code",
   "execution_count": 1,
   "id": "a1fa30dc",
   "metadata": {},
   "outputs": [],
   "source": [
    "#importing required libraries\n",
    "import pandas as pd\n",
    "import numpy as np\n",
    "import matplotlib.pyplot as plt\n",
    "import seaborn as sns\n",
    "from sklearn.model_selection import train_test_split, cross_val_score, KFold, GridSearchCV, RandomizedSearchCV\n",
    "from mlxtend.plotting import plot_decision_regions\n",
    "from sklearn.dummy import DummyClassifier\n",
    "from scipy.stats import uniform, randint\n",
    "from sklearn.metrics import confusion_matrix, classification_report, accuracy_score\n",
    "from sklearn.metrics import make_scorer, f1_score\n",
    "from sklearn.preprocessing import StandardScaler\n",
    "import warnings\n",
    "warnings.filterwarnings('ignore')"
   ]
  },
  {
   "cell_type": "code",
   "execution_count": 2,
   "id": "b90f352c",
   "metadata": {},
   "outputs": [],
   "source": [
    "# Loading data to dataframe using pandas\n",
    "df = pd.read_csv('Group_8_data_cleaned.csv')"
   ]
  },
  {
   "cell_type": "code",
   "execution_count": 3,
   "id": "b2acedda",
   "metadata": {
    "scrolled": false
   },
   "outputs": [
    {
     "data": {
      "text/plain": [
       "Point1    16344\n",
       "Fist      16265\n",
       "Grab      15733\n",
       "Stop      14978\n",
       "Point2    14775\n",
       "Name: Class, dtype: int64"
      ]
     },
     "execution_count": 3,
     "metadata": {},
     "output_type": "execute_result"
    }
   ],
   "source": [
    "# Class Ranges from 1 to 5 with 1=Fist(with thumb out), 2=Stop(hand flat), 3=Point1(point with pointer finger), 4=Point2(point with pointer and middle fingers), 5=Grab(fingers curled as if to grab)\n",
    "Class ={1:'Fist',2:'Stop',3:'Point1',4:'Point2',5:'Grab'}\n",
    "df[\"Class\"].value_counts().rename(index=Class)"
   ]
  },
  {
   "cell_type": "code",
   "execution_count": 4,
   "id": "55ca7de3",
   "metadata": {},
   "outputs": [
    {
     "data": {
      "image/png": "[encoded data removed]",
      "text/plain": [
       "<Figure size 432x288 with 1 Axes>"
      ]
     },
     "metadata": {
      "needs_background": "light"
     },
     "output_type": "display_data"
    }
   ],
   "source": [
    "axis = sns.countplot(df['Class'])\n",
    "axis.set(xticklabels=Class.values())\n",
    "plt.show()"
   ]
  },
  {
   "cell_type": "code",
   "execution_count": 5,
   "id": "a37dd8f7",
   "metadata": {},
   "outputs": [
    {
     "data": {
      "image/png": "[encoded data removed]",
      "text/plain": [
       "<Figure size 576x432 with 1 Axes>"
      ]
     },
     "metadata": {},
     "output_type": "display_data"
    }
   ],
   "source": [
    "plt.figure(figsize=(8,6))\n",
    "plt.pie(df['Class'].value_counts(),labels=Class.values(),autopct='%1.2f%%')\n",
    "plt.show()"
   ]
  },
  {
   "cell_type": "code",
   "execution_count": 6,
   "id": "8da05d22",
   "metadata": {
    "scrolled": true
   },
   "outputs": [
    {
     "data": {
      "text/html": [
       "<div>\n",
       "<style scoped>\n",
       "    .dataframe tbody tr th:only-of-type {\n",
       "        vertical-align: middle;\n",
       "    }\n",
       "\n",
       "    .dataframe tbody tr th {\n",
       "        vertical-align: top;\n",
       "    }\n",
       "\n",
       "    .dataframe thead th {\n",
       "        text-align: right;\n",
       "    }\n",
       "</style>\n",
       "<table border=\"1\" class=\"dataframe\">\n",
       "  <thead>\n",
       "    <tr style=\"text-align: right;\">\n",
       "      <th></th>\n",
       "      <th>Class</th>\n",
       "      <th>User</th>\n",
       "      <th>X0</th>\n",
       "      <th>Y0</th>\n",
       "      <th>Z0</th>\n",
       "      <th>X1</th>\n",
       "      <th>Y1</th>\n",
       "      <th>Z1</th>\n",
       "      <th>X2</th>\n",
       "      <th>Y2</th>\n",
       "      <th>...</th>\n",
       "      <th>Z7</th>\n",
       "      <th>X8</th>\n",
       "      <th>Y8</th>\n",
       "      <th>Z8</th>\n",
       "      <th>X9</th>\n",
       "      <th>Y9</th>\n",
       "      <th>Z9</th>\n",
       "      <th>X10</th>\n",
       "      <th>Y10</th>\n",
       "      <th>Z10</th>\n",
       "    </tr>\n",
       "  </thead>\n",
       "  <tbody>\n",
       "    <tr>\n",
       "      <th>Class</th>\n",
       "      <td>1.000000</td>\n",
       "      <td>-0.030714</td>\n",
       "      <td>0.079492</td>\n",
       "      <td>0.081539</td>\n",
       "      <td>0.051954</td>\n",
       "      <td>-0.011153</td>\n",
       "      <td>0.144365</td>\n",
       "      <td>0.090015</td>\n",
       "      <td>-0.052879</td>\n",
       "      <td>0.169339</td>\n",
       "      <td>...</td>\n",
       "      <td>-0.431328</td>\n",
       "      <td>0.110273</td>\n",
       "      <td>-0.102678</td>\n",
       "      <td>-0.396517</td>\n",
       "      <td>-0.067164</td>\n",
       "      <td>-0.057630</td>\n",
       "      <td>-0.393111</td>\n",
       "      <td>0.261075</td>\n",
       "      <td>0.603951</td>\n",
       "      <td>-0.568864</td>\n",
       "    </tr>\n",
       "    <tr>\n",
       "      <th>User</th>\n",
       "      <td>-0.030714</td>\n",
       "      <td>1.000000</td>\n",
       "      <td>-0.013231</td>\n",
       "      <td>0.070051</td>\n",
       "      <td>0.192333</td>\n",
       "      <td>-0.042888</td>\n",
       "      <td>0.041542</td>\n",
       "      <td>0.183486</td>\n",
       "      <td>-0.059910</td>\n",
       "      <td>0.000721</td>\n",
       "      <td>...</td>\n",
       "      <td>0.062294</td>\n",
       "      <td>-0.044811</td>\n",
       "      <td>-0.024825</td>\n",
       "      <td>0.024816</td>\n",
       "      <td>-0.032268</td>\n",
       "      <td>-0.061731</td>\n",
       "      <td>-0.058102</td>\n",
       "      <td>0.035874</td>\n",
       "      <td>-0.108520</td>\n",
       "      <td>-0.036324</td>\n",
       "    </tr>\n",
       "    <tr>\n",
       "      <th>X0</th>\n",
       "      <td>0.079492</td>\n",
       "      <td>-0.013231</td>\n",
       "      <td>1.000000</td>\n",
       "      <td>-0.288949</td>\n",
       "      <td>-0.240624</td>\n",
       "      <td>0.124712</td>\n",
       "      <td>-0.010227</td>\n",
       "      <td>0.032423</td>\n",
       "      <td>0.106485</td>\n",
       "      <td>-0.013941</td>\n",
       "      <td>...</td>\n",
       "      <td>-0.068560</td>\n",
       "      <td>0.003422</td>\n",
       "      <td>-0.080222</td>\n",
       "      <td>-0.028358</td>\n",
       "      <td>-0.059965</td>\n",
       "      <td>-0.033867</td>\n",
       "      <td>-0.034120</td>\n",
       "      <td>0.036841</td>\n",
       "      <td>0.066446</td>\n",
       "      <td>-0.038211</td>\n",
       "    </tr>\n",
       "    <tr>\n",
       "      <th>Y0</th>\n",
       "      <td>0.081539</td>\n",
       "      <td>0.070051</td>\n",
       "      <td>-0.288949</td>\n",
       "      <td>1.000000</td>\n",
       "      <td>0.555375</td>\n",
       "      <td>-0.002696</td>\n",
       "      <td>0.128295</td>\n",
       "      <td>0.227348</td>\n",
       "      <td>0.004414</td>\n",
       "      <td>0.077050</td>\n",
       "      <td>...</td>\n",
       "      <td>-0.072656</td>\n",
       "      <td>0.150770</td>\n",
       "      <td>-0.156867</td>\n",
       "      <td>-0.149771</td>\n",
       "      <td>0.098634</td>\n",
       "      <td>-0.165979</td>\n",
       "      <td>-0.122814</td>\n",
       "      <td>0.056732</td>\n",
       "      <td>-0.058891</td>\n",
       "      <td>-0.080287</td>\n",
       "    </tr>\n",
       "    <tr>\n",
       "      <th>Z0</th>\n",
       "      <td>0.051954</td>\n",
       "      <td>0.192333</td>\n",
       "      <td>-0.240624</td>\n",
       "      <td>0.555375</td>\n",
       "      <td>1.000000</td>\n",
       "      <td>0.014514</td>\n",
       "      <td>0.211108</td>\n",
       "      <td>0.464517</td>\n",
       "      <td>0.008465</td>\n",
       "      <td>0.150829</td>\n",
       "      <td>...</td>\n",
       "      <td>-0.019553</td>\n",
       "      <td>0.173141</td>\n",
       "      <td>-0.182350</td>\n",
       "      <td>-0.129421</td>\n",
       "      <td>0.159868</td>\n",
       "      <td>-0.185470</td>\n",
       "      <td>-0.163213</td>\n",
       "      <td>0.080115</td>\n",
       "      <td>-0.102461</td>\n",
       "      <td>-0.113697</td>\n",
       "    </tr>\n",
       "    <tr>\n",
       "      <th>X1</th>\n",
       "      <td>-0.011153</td>\n",
       "      <td>-0.042888</td>\n",
       "      <td>0.124712</td>\n",
       "      <td>-0.002696</td>\n",
       "      <td>0.014514</td>\n",
       "      <td>1.000000</td>\n",
       "      <td>-0.296224</td>\n",
       "      <td>-0.264209</td>\n",
       "      <td>0.139583</td>\n",
       "      <td>-0.052785</td>\n",
       "      <td>...</td>\n",
       "      <td>-0.039657</td>\n",
       "      <td>-0.012231</td>\n",
       "      <td>-0.099358</td>\n",
       "      <td>-0.004662</td>\n",
       "      <td>-0.067531</td>\n",
       "      <td>-0.061544</td>\n",
       "      <td>0.001212</td>\n",
       "      <td>-0.007722</td>\n",
       "      <td>0.025880</td>\n",
       "      <td>0.021817</td>\n",
       "    </tr>\n",
       "    <tr>\n",
       "      <th>Y1</th>\n",
       "      <td>0.144365</td>\n",
       "      <td>0.041542</td>\n",
       "      <td>-0.010227</td>\n",
       "      <td>0.128295</td>\n",
       "      <td>0.211108</td>\n",
       "      <td>-0.296224</td>\n",
       "      <td>1.000000</td>\n",
       "      <td>0.575463</td>\n",
       "      <td>-0.028562</td>\n",
       "      <td>0.104067</td>\n",
       "      <td>...</td>\n",
       "      <td>-0.069511</td>\n",
       "      <td>0.151247</td>\n",
       "      <td>-0.116476</td>\n",
       "      <td>-0.160806</td>\n",
       "      <td>0.109433</td>\n",
       "      <td>-0.122891</td>\n",
       "      <td>-0.134045</td>\n",
       "      <td>0.105224</td>\n",
       "      <td>-0.009098</td>\n",
       "      <td>-0.119482</td>\n",
       "    </tr>\n",
       "    <tr>\n",
       "      <th>Z1</th>\n",
       "      <td>0.090015</td>\n",
       "      <td>0.183486</td>\n",
       "      <td>0.032423</td>\n",
       "      <td>0.227348</td>\n",
       "      <td>0.464517</td>\n",
       "      <td>-0.264209</td>\n",
       "      <td>0.575463</td>\n",
       "      <td>1.000000</td>\n",
       "      <td>-0.009361</td>\n",
       "      <td>0.176062</td>\n",
       "      <td>...</td>\n",
       "      <td>-0.007667</td>\n",
       "      <td>0.200909</td>\n",
       "      <td>-0.143638</td>\n",
       "      <td>-0.125252</td>\n",
       "      <td>0.167363</td>\n",
       "      <td>-0.142913</td>\n",
       "      <td>-0.157053</td>\n",
       "      <td>0.114214</td>\n",
       "      <td>-0.073331</td>\n",
       "      <td>-0.127608</td>\n",
       "    </tr>\n",
       "    <tr>\n",
       "      <th>X2</th>\n",
       "      <td>-0.052879</td>\n",
       "      <td>-0.059910</td>\n",
       "      <td>0.106485</td>\n",
       "      <td>0.004414</td>\n",
       "      <td>0.008465</td>\n",
       "      <td>0.139583</td>\n",
       "      <td>-0.028562</td>\n",
       "      <td>-0.009361</td>\n",
       "      <td>1.000000</td>\n",
       "      <td>-0.318468</td>\n",
       "      <td>...</td>\n",
       "      <td>-0.017741</td>\n",
       "      <td>-0.015018</td>\n",
       "      <td>-0.104503</td>\n",
       "      <td>0.009064</td>\n",
       "      <td>-0.061802</td>\n",
       "      <td>-0.093003</td>\n",
       "      <td>0.005331</td>\n",
       "      <td>-0.031895</td>\n",
       "      <td>-0.005042</td>\n",
       "      <td>0.048540</td>\n",
       "    </tr>\n",
       "    <tr>\n",
       "      <th>Y2</th>\n",
       "      <td>0.169339</td>\n",
       "      <td>0.000721</td>\n",
       "      <td>-0.013941</td>\n",
       "      <td>0.077050</td>\n",
       "      <td>0.150829</td>\n",
       "      <td>-0.052785</td>\n",
       "      <td>0.104067</td>\n",
       "      <td>0.176062</td>\n",
       "      <td>-0.318468</td>\n",
       "      <td>1.000000</td>\n",
       "      <td>...</td>\n",
       "      <td>-0.041489</td>\n",
       "      <td>0.162980</td>\n",
       "      <td>-0.085041</td>\n",
       "      <td>-0.172913</td>\n",
       "      <td>0.117642</td>\n",
       "      <td>-0.104867</td>\n",
       "      <td>-0.133687</td>\n",
       "      <td>0.137774</td>\n",
       "      <td>-0.002764</td>\n",
       "      <td>-0.133651</td>\n",
       "    </tr>\n",
       "    <tr>\n",
       "      <th>Z2</th>\n",
       "      <td>0.095621</td>\n",
       "      <td>0.155744</td>\n",
       "      <td>0.022939</td>\n",
       "      <td>0.189486</td>\n",
       "      <td>0.420615</td>\n",
       "      <td>-0.012371</td>\n",
       "      <td>0.185373</td>\n",
       "      <td>0.455648</td>\n",
       "      <td>-0.301777</td>\n",
       "      <td>0.590496</td>\n",
       "      <td>...</td>\n",
       "      <td>0.019882</td>\n",
       "      <td>0.222509</td>\n",
       "      <td>-0.117396</td>\n",
       "      <td>-0.123108</td>\n",
       "      <td>0.176739</td>\n",
       "      <td>-0.117221</td>\n",
       "      <td>-0.136910</td>\n",
       "      <td>0.138299</td>\n",
       "      <td>-0.070214</td>\n",
       "      <td>-0.129556</td>\n",
       "    </tr>\n",
       "    <tr>\n",
       "      <th>X3</th>\n",
       "      <td>-0.054366</td>\n",
       "      <td>-0.049245</td>\n",
       "      <td>0.089857</td>\n",
       "      <td>0.011171</td>\n",
       "      <td>0.014813</td>\n",
       "      <td>0.129295</td>\n",
       "      <td>-0.035403</td>\n",
       "      <td>-0.017089</td>\n",
       "      <td>0.140937</td>\n",
       "      <td>-0.059965</td>\n",
       "      <td>...</td>\n",
       "      <td>-0.012429</td>\n",
       "      <td>-0.026218</td>\n",
       "      <td>-0.106799</td>\n",
       "      <td>0.014357</td>\n",
       "      <td>-0.072687</td>\n",
       "      <td>-0.094109</td>\n",
       "      <td>0.008627</td>\n",
       "      <td>-0.043553</td>\n",
       "      <td>-0.009020</td>\n",
       "      <td>0.050004</td>\n",
       "    </tr>\n",
       "    <tr>\n",
       "      <th>Y3</th>\n",
       "      <td>0.173513</td>\n",
       "      <td>-0.012056</td>\n",
       "      <td>-0.013307</td>\n",
       "      <td>0.057397</td>\n",
       "      <td>0.127526</td>\n",
       "      <td>-0.047886</td>\n",
       "      <td>0.098440</td>\n",
       "      <td>0.157434</td>\n",
       "      <td>-0.063461</td>\n",
       "      <td>0.130361</td>\n",
       "      <td>...</td>\n",
       "      <td>-0.034133</td>\n",
       "      <td>0.161894</td>\n",
       "      <td>-0.066120</td>\n",
       "      <td>-0.173380</td>\n",
       "      <td>0.133122</td>\n",
       "      <td>-0.086169</td>\n",
       "      <td>-0.130150</td>\n",
       "      <td>0.148057</td>\n",
       "      <td>0.004181</td>\n",
       "      <td>-0.131037</td>\n",
       "    </tr>\n",
       "    <tr>\n",
       "      <th>Z3</th>\n",
       "      <td>0.088043</td>\n",
       "      <td>0.133490</td>\n",
       "      <td>0.022778</td>\n",
       "      <td>0.165584</td>\n",
       "      <td>0.393927</td>\n",
       "      <td>-0.012409</td>\n",
       "      <td>0.181988</td>\n",
       "      <td>0.436193</td>\n",
       "      <td>-0.027557</td>\n",
       "      <td>0.192623</td>\n",
       "      <td>...</td>\n",
       "      <td>0.035858</td>\n",
       "      <td>0.221631</td>\n",
       "      <td>-0.098052</td>\n",
       "      <td>-0.114994</td>\n",
       "      <td>0.194607</td>\n",
       "      <td>-0.102990</td>\n",
       "      <td>-0.123940</td>\n",
       "      <td>0.146299</td>\n",
       "      <td>-0.067792</td>\n",
       "      <td>-0.119923</td>\n",
       "    </tr>\n",
       "    <tr>\n",
       "      <th>X4</th>\n",
       "      <td>-0.051445</td>\n",
       "      <td>-0.033558</td>\n",
       "      <td>0.077359</td>\n",
       "      <td>0.006399</td>\n",
       "      <td>0.006405</td>\n",
       "      <td>0.110258</td>\n",
       "      <td>-0.031861</td>\n",
       "      <td>-0.010989</td>\n",
       "      <td>0.121748</td>\n",
       "      <td>-0.059179</td>\n",
       "      <td>...</td>\n",
       "      <td>-0.008241</td>\n",
       "      <td>-0.028804</td>\n",
       "      <td>-0.090854</td>\n",
       "      <td>0.023051</td>\n",
       "      <td>-0.067325</td>\n",
       "      <td>-0.087019</td>\n",
       "      <td>0.015805</td>\n",
       "      <td>-0.047194</td>\n",
       "      <td>-0.001591</td>\n",
       "      <td>0.046214</td>\n",
       "    </tr>\n",
       "    <tr>\n",
       "      <th>Y4</th>\n",
       "      <td>0.179552</td>\n",
       "      <td>-0.025579</td>\n",
       "      <td>-0.003677</td>\n",
       "      <td>0.035324</td>\n",
       "      <td>0.106985</td>\n",
       "      <td>-0.047375</td>\n",
       "      <td>0.082637</td>\n",
       "      <td>0.137075</td>\n",
       "      <td>-0.062357</td>\n",
       "      <td>0.139162</td>\n",
       "      <td>...</td>\n",
       "      <td>-0.033748</td>\n",
       "      <td>0.167766</td>\n",
       "      <td>-0.049131</td>\n",
       "      <td>-0.177923</td>\n",
       "      <td>0.144809</td>\n",
       "      <td>-0.055996</td>\n",
       "      <td>-0.119971</td>\n",
       "      <td>0.153902</td>\n",
       "      <td>0.020140</td>\n",
       "      <td>-0.139688</td>\n",
       "    </tr>\n",
       "    <tr>\n",
       "      <th>Z4</th>\n",
       "      <td>0.070761</td>\n",
       "      <td>0.100618</td>\n",
       "      <td>0.031688</td>\n",
       "      <td>0.136379</td>\n",
       "      <td>0.350148</td>\n",
       "      <td>-0.004286</td>\n",
       "      <td>0.162041</td>\n",
       "      <td>0.385170</td>\n",
       "      <td>-0.016288</td>\n",
       "      <td>0.184262</td>\n",
       "      <td>...</td>\n",
       "      <td>0.049314</td>\n",
       "      <td>0.216459</td>\n",
       "      <td>-0.095355</td>\n",
       "      <td>-0.108845</td>\n",
       "      <td>0.194025</td>\n",
       "      <td>-0.092235</td>\n",
       "      <td>-0.108394</td>\n",
       "      <td>0.146386</td>\n",
       "      <td>-0.080666</td>\n",
       "      <td>-0.109756</td>\n",
       "    </tr>\n",
       "    <tr>\n",
       "      <th>X5</th>\n",
       "      <td>-0.037048</td>\n",
       "      <td>0.015378</td>\n",
       "      <td>0.043756</td>\n",
       "      <td>0.026316</td>\n",
       "      <td>0.052275</td>\n",
       "      <td>0.065726</td>\n",
       "      <td>-0.005935</td>\n",
       "      <td>0.034173</td>\n",
       "      <td>0.066343</td>\n",
       "      <td>-0.016372</td>\n",
       "      <td>...</td>\n",
       "      <td>0.004766</td>\n",
       "      <td>-0.033179</td>\n",
       "      <td>-0.066482</td>\n",
       "      <td>0.019363</td>\n",
       "      <td>-0.062019</td>\n",
       "      <td>-0.085870</td>\n",
       "      <td>0.010868</td>\n",
       "      <td>-0.051325</td>\n",
       "      <td>0.000771</td>\n",
       "      <td>0.049093</td>\n",
       "    </tr>\n",
       "    <tr>\n",
       "      <th>Y5</th>\n",
       "      <td>0.171517</td>\n",
       "      <td>-0.027016</td>\n",
       "      <td>-0.000319</td>\n",
       "      <td>0.021536</td>\n",
       "      <td>0.094657</td>\n",
       "      <td>-0.046324</td>\n",
       "      <td>0.063127</td>\n",
       "      <td>0.117911</td>\n",
       "      <td>-0.047757</td>\n",
       "      <td>0.107309</td>\n",
       "      <td>...</td>\n",
       "      <td>-0.024721</td>\n",
       "      <td>0.177283</td>\n",
       "      <td>-0.037163</td>\n",
       "      <td>-0.167512</td>\n",
       "      <td>0.177164</td>\n",
       "      <td>-0.021852</td>\n",
       "      <td>-0.120951</td>\n",
       "      <td>0.168271</td>\n",
       "      <td>0.023259</td>\n",
       "      <td>-0.150218</td>\n",
       "    </tr>\n",
       "    <tr>\n",
       "      <th>Z5</th>\n",
       "      <td>0.057716</td>\n",
       "      <td>0.040078</td>\n",
       "      <td>0.054101</td>\n",
       "      <td>0.103507</td>\n",
       "      <td>0.289958</td>\n",
       "      <td>0.030850</td>\n",
       "      <td>0.128218</td>\n",
       "      <td>0.317028</td>\n",
       "      <td>0.034462</td>\n",
       "      <td>0.146793</td>\n",
       "      <td>...</td>\n",
       "      <td>0.055980</td>\n",
       "      <td>0.220839</td>\n",
       "      <td>-0.106214</td>\n",
       "      <td>-0.097665</td>\n",
       "      <td>0.218061</td>\n",
       "      <td>-0.073806</td>\n",
       "      <td>-0.104930</td>\n",
       "      <td>0.154915</td>\n",
       "      <td>-0.085076</td>\n",
       "      <td>-0.112670</td>\n",
       "    </tr>\n",
       "    <tr>\n",
       "      <th>X6</th>\n",
       "      <td>0.068716</td>\n",
       "      <td>0.002985</td>\n",
       "      <td>0.038284</td>\n",
       "      <td>0.078645</td>\n",
       "      <td>0.111470</td>\n",
       "      <td>0.046609</td>\n",
       "      <td>0.068005</td>\n",
       "      <td>0.103014</td>\n",
       "      <td>0.038092</td>\n",
       "      <td>0.066598</td>\n",
       "      <td>...</td>\n",
       "      <td>-0.010497</td>\n",
       "      <td>0.018825</td>\n",
       "      <td>-0.067853</td>\n",
       "      <td>-0.051392</td>\n",
       "      <td>-0.064395</td>\n",
       "      <td>-0.109817</td>\n",
       "      <td>-0.023048</td>\n",
       "      <td>-0.017233</td>\n",
       "      <td>0.023699</td>\n",
       "      <td>-0.001866</td>\n",
       "    </tr>\n",
       "    <tr>\n",
       "      <th>Y6</th>\n",
       "      <td>0.241140</td>\n",
       "      <td>-0.020565</td>\n",
       "      <td>0.015476</td>\n",
       "      <td>0.029317</td>\n",
       "      <td>0.110379</td>\n",
       "      <td>-0.026475</td>\n",
       "      <td>0.062275</td>\n",
       "      <td>0.136131</td>\n",
       "      <td>-0.056458</td>\n",
       "      <td>0.109287</td>\n",
       "      <td>...</td>\n",
       "      <td>-0.061266</td>\n",
       "      <td>0.187721</td>\n",
       "      <td>-0.047442</td>\n",
       "      <td>-0.174314</td>\n",
       "      <td>0.211223</td>\n",
       "      <td>-0.000099</td>\n",
       "      <td>-0.157147</td>\n",
       "      <td>0.197720</td>\n",
       "      <td>0.084676</td>\n",
       "      <td>-0.194723</td>\n",
       "    </tr>\n",
       "    <tr>\n",
       "      <th>Z6</th>\n",
       "      <td>0.112857</td>\n",
       "      <td>0.052681</td>\n",
       "      <td>0.079102</td>\n",
       "      <td>0.113402</td>\n",
       "      <td>0.274078</td>\n",
       "      <td>0.050924</td>\n",
       "      <td>0.130414</td>\n",
       "      <td>0.298614</td>\n",
       "      <td>0.040571</td>\n",
       "      <td>0.146770</td>\n",
       "      <td>...</td>\n",
       "      <td>0.025320</td>\n",
       "      <td>0.226220</td>\n",
       "      <td>-0.132778</td>\n",
       "      <td>-0.101353</td>\n",
       "      <td>0.236010</td>\n",
       "      <td>-0.088295</td>\n",
       "      <td>-0.138530</td>\n",
       "      <td>0.171447</td>\n",
       "      <td>-0.043470</td>\n",
       "      <td>-0.144369</td>\n",
       "    </tr>\n",
       "    <tr>\n",
       "      <th>X7</th>\n",
       "      <td>0.158396</td>\n",
       "      <td>-0.064276</td>\n",
       "      <td>0.026371</td>\n",
       "      <td>0.104540</td>\n",
       "      <td>0.141594</td>\n",
       "      <td>0.022582</td>\n",
       "      <td>0.102343</td>\n",
       "      <td>0.151623</td>\n",
       "      <td>0.009504</td>\n",
       "      <td>0.103420</td>\n",
       "      <td>...</td>\n",
       "      <td>-0.422814</td>\n",
       "      <td>0.066189</td>\n",
       "      <td>-0.081497</td>\n",
       "      <td>-0.073328</td>\n",
       "      <td>-0.043532</td>\n",
       "      <td>-0.111763</td>\n",
       "      <td>-0.052719</td>\n",
       "      <td>-0.010053</td>\n",
       "      <td>0.052773</td>\n",
       "      <td>-0.026276</td>\n",
       "    </tr>\n",
       "    <tr>\n",
       "      <th>Y7</th>\n",
       "      <td>-0.112596</td>\n",
       "      <td>0.014936</td>\n",
       "      <td>-0.074228</td>\n",
       "      <td>-0.082933</td>\n",
       "      <td>-0.069391</td>\n",
       "      <td>-0.094038</td>\n",
       "      <td>-0.047133</td>\n",
       "      <td>-0.033360</td>\n",
       "      <td>-0.101857</td>\n",
       "      <td>0.005090</td>\n",
       "      <td>...</td>\n",
       "      <td>0.580776</td>\n",
       "      <td>0.082939</td>\n",
       "      <td>0.167189</td>\n",
       "      <td>0.012667</td>\n",
       "      <td>0.207712</td>\n",
       "      <td>0.183759</td>\n",
       "      <td>0.053972</td>\n",
       "      <td>0.129945</td>\n",
       "      <td>-0.041325</td>\n",
       "      <td>-0.014412</td>\n",
       "    </tr>\n",
       "    <tr>\n",
       "      <th>Z7</th>\n",
       "      <td>-0.431328</td>\n",
       "      <td>0.062294</td>\n",
       "      <td>-0.068560</td>\n",
       "      <td>-0.072656</td>\n",
       "      <td>-0.019553</td>\n",
       "      <td>-0.039657</td>\n",
       "      <td>-0.069511</td>\n",
       "      <td>-0.007667</td>\n",
       "      <td>-0.017741</td>\n",
       "      <td>-0.041489</td>\n",
       "      <td>...</td>\n",
       "      <td>1.000000</td>\n",
       "      <td>0.048177</td>\n",
       "      <td>0.077581</td>\n",
       "      <td>0.157479</td>\n",
       "      <td>0.126398</td>\n",
       "      <td>0.042654</td>\n",
       "      <td>0.156045</td>\n",
       "      <td>0.014066</td>\n",
       "      <td>-0.299076</td>\n",
       "      <td>0.176663</td>\n",
       "    </tr>\n",
       "    <tr>\n",
       "      <th>X8</th>\n",
       "      <td>0.110273</td>\n",
       "      <td>-0.044811</td>\n",
       "      <td>0.003422</td>\n",
       "      <td>0.150770</td>\n",
       "      <td>0.173141</td>\n",
       "      <td>-0.012231</td>\n",
       "      <td>0.151247</td>\n",
       "      <td>0.200909</td>\n",
       "      <td>-0.015018</td>\n",
       "      <td>0.162980</td>\n",
       "      <td>...</td>\n",
       "      <td>0.048177</td>\n",
       "      <td>1.000000</td>\n",
       "      <td>-0.383797</td>\n",
       "      <td>-0.487649</td>\n",
       "      <td>0.184867</td>\n",
       "      <td>-0.066200</td>\n",
       "      <td>-0.079227</td>\n",
       "      <td>0.087279</td>\n",
       "      <td>0.007629</td>\n",
       "      <td>-0.088801</td>\n",
       "    </tr>\n",
       "    <tr>\n",
       "      <th>Y8</th>\n",
       "      <td>-0.102678</td>\n",
       "      <td>-0.024825</td>\n",
       "      <td>-0.080222</td>\n",
       "      <td>-0.156867</td>\n",
       "      <td>-0.182350</td>\n",
       "      <td>-0.099358</td>\n",
       "      <td>-0.116476</td>\n",
       "      <td>-0.143638</td>\n",
       "      <td>-0.104503</td>\n",
       "      <td>-0.085041</td>\n",
       "      <td>...</td>\n",
       "      <td>0.077581</td>\n",
       "      <td>-0.383797</td>\n",
       "      <td>1.000000</td>\n",
       "      <td>0.569590</td>\n",
       "      <td>0.033907</td>\n",
       "      <td>0.285767</td>\n",
       "      <td>0.131794</td>\n",
       "      <td>-0.004685</td>\n",
       "      <td>0.058229</td>\n",
       "      <td>0.082716</td>\n",
       "    </tr>\n",
       "    <tr>\n",
       "      <th>Z8</th>\n",
       "      <td>-0.396517</td>\n",
       "      <td>0.024816</td>\n",
       "      <td>-0.028358</td>\n",
       "      <td>-0.149771</td>\n",
       "      <td>-0.129421</td>\n",
       "      <td>-0.004662</td>\n",
       "      <td>-0.160806</td>\n",
       "      <td>-0.125252</td>\n",
       "      <td>0.009064</td>\n",
       "      <td>-0.172913</td>\n",
       "      <td>...</td>\n",
       "      <td>0.157479</td>\n",
       "      <td>-0.487649</td>\n",
       "      <td>0.569590</td>\n",
       "      <td>1.000000</td>\n",
       "      <td>-0.029334</td>\n",
       "      <td>0.164041</td>\n",
       "      <td>0.248650</td>\n",
       "      <td>-0.168984</td>\n",
       "      <td>-0.157682</td>\n",
       "      <td>0.284370</td>\n",
       "    </tr>\n",
       "    <tr>\n",
       "      <th>X9</th>\n",
       "      <td>-0.067164</td>\n",
       "      <td>-0.032268</td>\n",
       "      <td>-0.059965</td>\n",
       "      <td>0.098634</td>\n",
       "      <td>0.159868</td>\n",
       "      <td>-0.067531</td>\n",
       "      <td>0.109433</td>\n",
       "      <td>0.167363</td>\n",
       "      <td>-0.061802</td>\n",
       "      <td>0.117642</td>\n",
       "      <td>...</td>\n",
       "      <td>0.126398</td>\n",
       "      <td>0.184867</td>\n",
       "      <td>0.033907</td>\n",
       "      <td>-0.029334</td>\n",
       "      <td>1.000000</td>\n",
       "      <td>-0.167534</td>\n",
       "      <td>-0.361123</td>\n",
       "      <td>0.130400</td>\n",
       "      <td>-0.071728</td>\n",
       "      <td>-0.088315</td>\n",
       "    </tr>\n",
       "    <tr>\n",
       "      <th>Y9</th>\n",
       "      <td>-0.057630</td>\n",
       "      <td>-0.061731</td>\n",
       "      <td>-0.033867</td>\n",
       "      <td>-0.165979</td>\n",
       "      <td>-0.185470</td>\n",
       "      <td>-0.061544</td>\n",
       "      <td>-0.122891</td>\n",
       "      <td>-0.142913</td>\n",
       "      <td>-0.093003</td>\n",
       "      <td>-0.104867</td>\n",
       "      <td>...</td>\n",
       "      <td>0.042654</td>\n",
       "      <td>-0.066200</td>\n",
       "      <td>0.285767</td>\n",
       "      <td>0.164041</td>\n",
       "      <td>-0.167534</td>\n",
       "      <td>1.000000</td>\n",
       "      <td>0.510928</td>\n",
       "      <td>0.011077</td>\n",
       "      <td>0.159348</td>\n",
       "      <td>0.043135</td>\n",
       "    </tr>\n",
       "    <tr>\n",
       "      <th>Z9</th>\n",
       "      <td>-0.393111</td>\n",
       "      <td>-0.058102</td>\n",
       "      <td>-0.034120</td>\n",
       "      <td>-0.122814</td>\n",
       "      <td>-0.163213</td>\n",
       "      <td>0.001212</td>\n",
       "      <td>-0.134045</td>\n",
       "      <td>-0.157053</td>\n",
       "      <td>0.005331</td>\n",
       "      <td>-0.133687</td>\n",
       "      <td>...</td>\n",
       "      <td>0.156045</td>\n",
       "      <td>-0.079227</td>\n",
       "      <td>0.131794</td>\n",
       "      <td>0.248650</td>\n",
       "      <td>-0.361123</td>\n",
       "      <td>0.510928</td>\n",
       "      <td>1.000000</td>\n",
       "      <td>-0.158966</td>\n",
       "      <td>-0.147805</td>\n",
       "      <td>0.344573</td>\n",
       "    </tr>\n",
       "    <tr>\n",
       "      <th>X10</th>\n",
       "      <td>0.261075</td>\n",
       "      <td>0.035874</td>\n",
       "      <td>0.036841</td>\n",
       "      <td>0.056732</td>\n",
       "      <td>0.080115</td>\n",
       "      <td>-0.007722</td>\n",
       "      <td>0.105224</td>\n",
       "      <td>0.114214</td>\n",
       "      <td>-0.031895</td>\n",
       "      <td>0.137774</td>\n",
       "      <td>...</td>\n",
       "      <td>0.014066</td>\n",
       "      <td>0.087279</td>\n",
       "      <td>-0.004685</td>\n",
       "      <td>-0.168984</td>\n",
       "      <td>0.130400</td>\n",
       "      <td>0.011077</td>\n",
       "      <td>-0.158966</td>\n",
       "      <td>1.000000</td>\n",
       "      <td>-0.151338</td>\n",
       "      <td>-0.600165</td>\n",
       "    </tr>\n",
       "    <tr>\n",
       "      <th>Y10</th>\n",
       "      <td>0.603951</td>\n",
       "      <td>-0.108520</td>\n",
       "      <td>0.066446</td>\n",
       "      <td>-0.058891</td>\n",
       "      <td>-0.102461</td>\n",
       "      <td>0.025880</td>\n",
       "      <td>-0.009098</td>\n",
       "      <td>-0.073331</td>\n",
       "      <td>-0.005042</td>\n",
       "      <td>-0.002764</td>\n",
       "      <td>...</td>\n",
       "      <td>-0.299076</td>\n",
       "      <td>0.007629</td>\n",
       "      <td>0.058229</td>\n",
       "      <td>-0.157682</td>\n",
       "      <td>-0.071728</td>\n",
       "      <td>0.159348</td>\n",
       "      <td>-0.147805</td>\n",
       "      <td>-0.151338</td>\n",
       "      <td>1.000000</td>\n",
       "      <td>-0.049119</td>\n",
       "    </tr>\n",
       "    <tr>\n",
       "      <th>Z10</th>\n",
       "      <td>-0.568864</td>\n",
       "      <td>-0.036324</td>\n",
       "      <td>-0.038211</td>\n",
       "      <td>-0.080287</td>\n",
       "      <td>-0.113697</td>\n",
       "      <td>0.021817</td>\n",
       "      <td>-0.119482</td>\n",
       "      <td>-0.127608</td>\n",
       "      <td>0.048540</td>\n",
       "      <td>-0.133651</td>\n",
       "      <td>...</td>\n",
       "      <td>0.176663</td>\n",
       "      <td>-0.088801</td>\n",
       "      <td>0.082716</td>\n",
       "      <td>0.284370</td>\n",
       "      <td>-0.088315</td>\n",
       "      <td>0.043135</td>\n",
       "      <td>0.344573</td>\n",
       "      <td>-0.600165</td>\n",
       "      <td>-0.049119</td>\n",
       "      <td>1.000000</td>\n",
       "    </tr>\n",
       "  </tbody>\n",
       "</table>\n",
       "<p>35 rows × 35 columns</p>\n",
       "</div>"
      ],
      "text/plain": [
       "          Class      User        X0        Y0        Z0        X1        Y1  \\\n",
       "Class  1.000000 -0.030714  0.079492  0.081539  0.051954 -0.011153  0.144365   \n",
       "User  -0.030714  1.000000 -0.013231  0.070051  0.192333 -0.042888  0.041542   \n",
       "X0     0.079492 -0.013231  1.000000 -0.288949 -0.240624  0.124712 -0.010227   \n",
       "Y0     0.081539  0.070051 -0.288949  1.000000  0.555375 -0.002696  0.128295   \n",
       "Z0     0.051954  0.192333 -0.240624  0.555375  1.000000  0.014514  0.211108   \n",
       "X1    -0.011153 -0.042888  0.124712 -0.002696  0.014514  1.000000 -0.296224   \n",
       "Y1     0.144365  0.041542 -0.010227  0.128295  0.211108 -0.296224  1.000000   \n",
       "Z1     0.090015  0.183486  0.032423  0.227348  0.464517 -0.264209  0.575463   \n",
       "X2    -0.052879 -0.059910  0.106485  0.004414  0.008465  0.139583 -0.028562   \n",
       "Y2     0.169339  0.000721 -0.013941  0.077050  0.150829 -0.052785  0.104067   \n",
       "Z2     0.095621  0.155744  0.022939  0.189486  0.420615 -0.012371  0.185373   \n",
       "X3    -0.054366 -0.049245  0.089857  0.011171  0.014813  0.129295 -0.035403   \n",
       "Y3     0.173513 -0.012056 -0.013307  0.057397  0.127526 -0.047886  0.098440   \n",
       "Z3     0.088043  0.133490  0.022778  0.165584  0.393927 -0.012409  0.181988   \n",
       "X4    -0.051445 -0.033558  0.077359  0.006399  0.006405  0.110258 -0.031861   \n",
       "Y4     0.179552 -0.025579 -0.003677  0.035324  0.106985 -0.047375  0.082637   \n",
       "Z4     0.070761  0.100618  0.031688  0.136379  0.350148 -0.004286  0.162041   \n",
       "X5    -0.037048  0.015378  0.043756  0.026316  0.052275  0.065726 -0.005935   \n",
       "Y5     0.171517 -0.027016 -0.000319  0.021536  0.094657 -0.046324  0.063127   \n",
       "Z5     0.057716  0.040078  0.054101  0.103507  0.289958  0.030850  0.128218   \n",
       "X6     0.068716  0.002985  0.038284  0.078645  0.111470  0.046609  0.068005   \n",
       "Y6     0.241140 -0.020565  0.015476  0.029317  0.110379 -0.026475  0.062275   \n",
       "Z6     0.112857  0.052681  0.079102  0.113402  0.274078  0.050924  0.130414   \n",
       "X7     0.158396 -0.064276  0.026371  0.104540  0.141594  0.022582  0.102343   \n",
       "Y7    -0.112596  0.014936 -0.074228 -0.082933 -0.069391 -0.094038 -0.047133   \n",
       "Z7    -0.431328  0.062294 -0.068560 -0.072656 -0.019553 -0.039657 -0.069511   \n",
       "X8     0.110273 -0.044811  0.003422  0.150770  0.173141 -0.012231  0.151247   \n",
       "Y8    -0.102678 -0.024825 -0.080222 -0.156867 -0.182350 -0.099358 -0.116476   \n",
       "Z8    -0.396517  0.024816 -0.028358 -0.149771 -0.129421 -0.004662 -0.160806   \n",
       "X9    -0.067164 -0.032268 -0.059965  0.098634  0.159868 -0.067531  0.109433   \n",
       "Y9    -0.057630 -0.061731 -0.033867 -0.165979 -0.185470 -0.061544 -0.122891   \n",
       "Z9    -0.393111 -0.058102 -0.034120 -0.122814 -0.163213  0.001212 -0.134045   \n",
       "X10    0.261075  0.035874  0.036841  0.056732  0.080115 -0.007722  0.105224   \n",
       "Y10    0.603951 -0.108520  0.066446 -0.058891 -0.102461  0.025880 -0.009098   \n",
       "Z10   -0.568864 -0.036324 -0.038211 -0.080287 -0.113697  0.021817 -0.119482   \n",
       "\n",
       "             Z1        X2        Y2  ...        Z7        X8        Y8  \\\n",
       "Class  0.090015 -0.052879  0.169339  ... -0.431328  0.110273 -0.102678   \n",
       "User   0.183486 -0.059910  0.000721  ...  0.062294 -0.044811 -0.024825   \n",
       "X0     0.032423  0.106485 -0.013941  ... -0.068560  0.003422 -0.080222   \n",
       "Y0     0.227348  0.004414  0.077050  ... -0.072656  0.150770 -0.156867   \n",
       "Z0     0.464517  0.008465  0.150829  ... -0.019553  0.173141 -0.182350   \n",
       "X1    -0.264209  0.139583 -0.052785  ... -0.039657 -0.012231 -0.099358   \n",
       "Y1     0.575463 -0.028562  0.104067  ... -0.069511  0.151247 -0.116476   \n",
       "Z1     1.000000 -0.009361  0.176062  ... -0.007667  0.200909 -0.143638   \n",
       "X2    -0.009361  1.000000 -0.318468  ... -0.017741 -0.015018 -0.104503   \n",
       "Y2     0.176062 -0.318468  1.000000  ... -0.041489  0.162980 -0.085041   \n",
       "Z2     0.455648 -0.301777  0.590496  ...  0.019882  0.222509 -0.117396   \n",
       "X3    -0.017089  0.140937 -0.059965  ... -0.012429 -0.026218 -0.106799   \n",
       "Y3     0.157434 -0.063461  0.130361  ... -0.034133  0.161894 -0.066120   \n",
       "Z3     0.436193 -0.027557  0.192623  ...  0.035858  0.221631 -0.098052   \n",
       "X4    -0.010989  0.121748 -0.059179  ... -0.008241 -0.028804 -0.090854   \n",
       "Y4     0.137075 -0.062357  0.139162  ... -0.033748  0.167766 -0.049131   \n",
       "Z4     0.385170 -0.016288  0.184262  ...  0.049314  0.216459 -0.095355   \n",
       "X5     0.034173  0.066343 -0.016372  ...  0.004766 -0.033179 -0.066482   \n",
       "Y5     0.117911 -0.047757  0.107309  ... -0.024721  0.177283 -0.037163   \n",
       "Z5     0.317028  0.034462  0.146793  ...  0.055980  0.220839 -0.106214   \n",
       "X6     0.103014  0.038092  0.066598  ... -0.010497  0.018825 -0.067853   \n",
       "Y6     0.136131 -0.056458  0.109287  ... -0.061266  0.187721 -0.047442   \n",
       "Z6     0.298614  0.040571  0.146770  ...  0.025320  0.226220 -0.132778   \n",
       "X7     0.151623  0.009504  0.103420  ... -0.422814  0.066189 -0.081497   \n",
       "Y7    -0.033360 -0.101857  0.005090  ...  0.580776  0.082939  0.167189   \n",
       "Z7    -0.007667 -0.017741 -0.041489  ...  1.000000  0.048177  0.077581   \n",
       "X8     0.200909 -0.015018  0.162980  ...  0.048177  1.000000 -0.383797   \n",
       "Y8    -0.143638 -0.104503 -0.085041  ...  0.077581 -0.383797  1.000000   \n",
       "Z8    -0.125252  0.009064 -0.172913  ...  0.157479 -0.487649  0.569590   \n",
       "X9     0.167363 -0.061802  0.117642  ...  0.126398  0.184867  0.033907   \n",
       "Y9    -0.142913 -0.093003 -0.104867  ...  0.042654 -0.066200  0.285767   \n",
       "Z9    -0.157053  0.005331 -0.133687  ...  0.156045 -0.079227  0.131794   \n",
       "X10    0.114214 -0.031895  0.137774  ...  0.014066  0.087279 -0.004685   \n",
       "Y10   -0.073331 -0.005042 -0.002764  ... -0.299076  0.007629  0.058229   \n",
       "Z10   -0.127608  0.048540 -0.133651  ...  0.176663 -0.088801  0.082716   \n",
       "\n",
       "             Z8        X9        Y9        Z9       X10       Y10       Z10  \n",
       "Class -0.396517 -0.067164 -0.057630 -0.393111  0.261075  0.603951 -0.568864  \n",
       "User   0.024816 -0.032268 -0.061731 -0.058102  0.035874 -0.108520 -0.036324  \n",
       "X0    -0.028358 -0.059965 -0.033867 -0.034120  0.036841  0.066446 -0.038211  \n",
       "Y0    -0.149771  0.098634 -0.165979 -0.122814  0.056732 -0.058891 -0.080287  \n",
       "Z0    -0.129421  0.159868 -0.185470 -0.163213  0.080115 -0.102461 -0.113697  \n",
       "X1    -0.004662 -0.067531 -0.061544  0.001212 -0.007722  0.025880  0.021817  \n",
       "Y1    -0.160806  0.109433 -0.122891 -0.134045  0.105224 -0.009098 -0.119482  \n",
       "Z1    -0.125252  0.167363 -0.142913 -0.157053  0.114214 -0.073331 -0.127608  \n",
       "X2     0.009064 -0.061802 -0.093003  0.005331 -0.031895 -0.005042  0.048540  \n",
       "Y2    -0.172913  0.117642 -0.104867 -0.133687  0.137774 -0.002764 -0.133651  \n",
       "Z2    -0.123108  0.176739 -0.117221 -0.136910  0.138299 -0.070214 -0.129556  \n",
       "X3     0.014357 -0.072687 -0.094109  0.008627 -0.043553 -0.009020  0.050004  \n",
       "Y3    -0.173380  0.133122 -0.086169 -0.130150  0.148057  0.004181 -0.131037  \n",
       "Z3    -0.114994  0.194607 -0.102990 -0.123940  0.146299 -0.067792 -0.119923  \n",
       "X4     0.023051 -0.067325 -0.087019  0.015805 -0.047194 -0.001591  0.046214  \n",
       "Y4    -0.177923  0.144809 -0.055996 -0.119971  0.153902  0.020140 -0.139688  \n",
       "Z4    -0.108845  0.194025 -0.092235 -0.108394  0.146386 -0.080666 -0.109756  \n",
       "X5     0.019363 -0.062019 -0.085870  0.010868 -0.051325  0.000771  0.049093  \n",
       "Y5    -0.167512  0.177164 -0.021852 -0.120951  0.168271  0.023259 -0.150218  \n",
       "Z5    -0.097665  0.218061 -0.073806 -0.104930  0.154915 -0.085076 -0.112670  \n",
       "X6    -0.051392 -0.064395 -0.109817 -0.023048 -0.017233  0.023699 -0.001866  \n",
       "Y6    -0.174314  0.211223 -0.000099 -0.157147  0.197720  0.084676 -0.194723  \n",
       "Z6    -0.101353  0.236010 -0.088295 -0.138530  0.171447 -0.043470 -0.144369  \n",
       "X7    -0.073328 -0.043532 -0.111763 -0.052719 -0.010053  0.052773 -0.026276  \n",
       "Y7     0.012667  0.207712  0.183759  0.053972  0.129945 -0.041325 -0.014412  \n",
       "Z7     0.157479  0.126398  0.042654  0.156045  0.014066 -0.299076  0.176663  \n",
       "X8    -0.487649  0.184867 -0.066200 -0.079227  0.087279  0.007629 -0.088801  \n",
       "Y8     0.569590  0.033907  0.285767  0.131794 -0.004685  0.058229  0.082716  \n",
       "Z8     1.000000 -0.029334  0.164041  0.248650 -0.168984 -0.157682  0.284370  \n",
       "X9    -0.029334  1.000000 -0.167534 -0.361123  0.130400 -0.071728 -0.088315  \n",
       "Y9     0.164041 -0.167534  1.000000  0.510928  0.011077  0.159348  0.043135  \n",
       "Z9     0.248650 -0.361123  0.510928  1.000000 -0.158966 -0.147805  0.344573  \n",
       "X10   -0.168984  0.130400  0.011077 -0.158966  1.000000 -0.151338 -0.600165  \n",
       "Y10   -0.157682 -0.071728  0.159348 -0.147805 -0.151338  1.000000 -0.049119  \n",
       "Z10    0.284370 -0.088315  0.043135  0.344573 -0.600165 -0.049119  1.000000  \n",
       "\n",
       "[35 rows x 35 columns]"
      ]
     },
     "execution_count": 6,
     "metadata": {},
     "output_type": "execute_result"
    }
   ],
   "source": [
    "# Finding the correlation\n",
    "df.corr()"
   ]
  },
  {
   "cell_type": "code",
   "execution_count": 7,
   "id": "591cd764",
   "metadata": {},
   "outputs": [
    {
     "data": {
      "text/plain": [
       "<AxesSubplot:>"
      ]
     },
     "execution_count": 7,
     "metadata": {},
     "output_type": "execute_result"
    },
    {
     "data": {
      "image/png": "[encoded data removed]",
      "text/plain": [
       "<Figure size 1008x720 with 2 Axes>"
      ]
     },
     "metadata": {
      "needs_background": "light"
     },
     "output_type": "display_data"
    }
   ],
   "source": [
    "plt.figure(figsize = (14,10))\n",
    "sns.heatmap(df.corr())"
   ]
  },
  {
   "cell_type": "code",
   "execution_count": 8,
   "id": "5863de45",
   "metadata": {},
   "outputs": [],
   "source": [
    "X=df.drop(['Class', 'User'],axis=1)\n",
    "y=df['Class']\n",
    "X_train, X_test, y_train, y_test = train_test_split(X, y, test_size = 0.3, random_state = 42)"
   ]
  },
  {
   "cell_type": "markdown",
   "id": "36c9e93d",
   "metadata": {},
   "source": [
    "# Scaling the data using Standard Scaler"
   ]
  },
  {
   "cell_type": "code",
   "execution_count": 9,
   "id": "53e67449",
   "metadata": {},
   "outputs": [],
   "source": [
    "# Scaling the data using standard scaler\n",
    "scaler = StandardScaler()\n",
    "X_train_scaled = scaler.fit_transform(X_train)\n",
    "X_test_scaled = scaler.transform(X_test)"
   ]
  },
  {
   "cell_type": "markdown",
   "id": "7cd9e821",
   "metadata": {},
   "source": [
    "# Taking the empty lists to get the accuracy, precision, recall and f1_score"
   ]
  },
  {
   "cell_type": "code",
   "execution_count": 10,
   "id": "bd88b8fe",
   "metadata": {},
   "outputs": [],
   "source": [
    "accuracy = []\n",
    "precision=[]\n",
    "recall=[]\n",
    "f1_score=[]"
   ]
  },
  {
   "cell_type": "markdown",
   "id": "29598fdc",
   "metadata": {},
   "source": [
    "# A comparison with a naive classification technique (baseline)"
   ]
  },
  {
   "cell_type": "code",
   "execution_count": 11,
   "id": "215052c6",
   "metadata": {},
   "outputs": [],
   "source": [
    "from sklearn.dummy import DummyClassifier"
   ]
  },
  {
   "cell_type": "code",
   "execution_count": 12,
   "id": "2107c3b4",
   "metadata": {},
   "outputs": [],
   "source": [
    "baseline_clf = DummyClassifier(strategy=\"most_frequent\")"
   ]
  },
  {
   "cell_type": "code",
   "execution_count": 13,
   "id": "7f55229b",
   "metadata": {},
   "outputs": [
    {
     "data": {
      "text/plain": [
       "DummyClassifier(strategy='most_frequent')"
      ]
     },
     "execution_count": 13,
     "metadata": {},
     "output_type": "execute_result"
    }
   ],
   "source": [
    "baseline_clf.fit(X_train_scaled, y_train)"
   ]
  },
  {
   "cell_type": "code",
   "execution_count": 14,
   "id": "40d31d26",
   "metadata": {},
   "outputs": [],
   "source": [
    "baseline_pred = baseline_clf.predict(X_test_scaled)"
   ]
  },
  {
   "cell_type": "code",
   "execution_count": 15,
   "id": "4441168b",
   "metadata": {},
   "outputs": [
    {
     "name": "stdout",
     "output_type": "stream",
     "text": [
      "Baseline accuracy: 0.2071791369670067\n"
     ]
    }
   ],
   "source": [
    "baseline_accuracy = np.mean(baseline_pred == y_test)\n",
    "print(\"Baseline accuracy:\", baseline_accuracy)\n",
    "accuracy.append(baseline_accuracy)"
   ]
  },
  {
   "cell_type": "code",
   "execution_count": 16,
   "id": "bdd8eb16",
   "metadata": {},
   "outputs": [
    {
     "name": "stdout",
     "output_type": "stream",
     "text": [
      "              precision    recall  f1-score   support\n",
      "\n",
      "           1       0.00      0.00      0.00      4898\n",
      "           2       0.00      0.00      0.00      4485\n",
      "           3       0.21      1.00      0.34      4854\n",
      "           4       0.00      0.00      0.00      4496\n",
      "           5       0.00      0.00      0.00      4696\n",
      "\n",
      "    accuracy                           0.21     23429\n",
      "   macro avg       0.04      0.20      0.07     23429\n",
      "weighted avg       0.04      0.21      0.07     23429\n",
      "\n"
     ]
    }
   ],
   "source": [
    "cl_report_naive = classification_report(y_test, baseline_pred, output_dict = True)\n",
    "precision.append(cl_report_naive['weighted avg']['precision'])\n",
    "recall.append(cl_report_naive['weighted avg']['recall'])\n",
    "f1_score.append(cl_report_naive['weighted avg']['f1-score'])\n",
    "print(classification_report(y_test, baseline_pred))"
   ]
  },
  {
   "cell_type": "code",
   "execution_count": 17,
   "id": "db24d5df",
   "metadata": {},
   "outputs": [
    {
     "data": {
      "text/plain": [
       "array([[   0,    0, 4898,    0,    0],\n",
       "       [   0,    0, 4485,    0,    0],\n",
       "       [   0,    0, 4854,    0,    0],\n",
       "       [   0,    0, 4496,    0,    0],\n",
       "       [   0,    0, 4696,    0,    0]], dtype=int64)"
      ]
     },
     "execution_count": 17,
     "metadata": {},
     "output_type": "execute_result"
    }
   ],
   "source": [
    "conf_matrix_baseline = confusion_matrix(y_test, baseline_pred)\n",
    "conf_matrix_baseline"
   ]
  },
  {
   "cell_type": "code",
   "execution_count": 18,
   "id": "019d3647",
   "metadata": {},
   "outputs": [
    {
     "data": {
      "image/png": "[encoded data removed]",
      "text/plain": [
       "<Figure size 576x432 with 2 Axes>"
      ]
     },
     "metadata": {
      "needs_background": "light"
     },
     "output_type": "display_data"
    }
   ],
   "source": [
    "plt.figure(figsize = (8,6))\n",
    "\n",
    "sns.heatmap(conf_matrix_baseline, \n",
    "            annot=True, \n",
    "            cmap=\"Spectral\", fmt = \"g\")\n",
    "plt.title(\"Naive Confusion Matrix\")\n",
    "plt.xlabel('Predicted', fontsize=15)\n",
    "plt.ylabel('Actual/Observed', fontsize=15);"
   ]
  },
  {
   "cell_type": "markdown",
   "id": "3fb6f5cf",
   "metadata": {},
   "source": [
    "# Training the models using the best hyper parameters that we obtained in all the 4 models and predicting the test data."
   ]
  },
  {
   "cell_type": "markdown",
   "id": "e4b058e9",
   "metadata": {},
   "source": [
    "# Linear Classifier using the best hyper parameters"
   ]
  },
  {
   "cell_type": "code",
   "execution_count": 19,
   "id": "541ee713",
   "metadata": {},
   "outputs": [],
   "source": [
    "from sklearn.linear_model import SGDClassifier"
   ]
  },
  {
   "cell_type": "code",
   "execution_count": 20,
   "id": "677f3294",
   "metadata": {},
   "outputs": [],
   "source": [
    "SGD_linear = SGDClassifier(loss='hinge', alpha= 0.1, learning_rate='optimal', random_state=0)"
   ]
  },
  {
   "cell_type": "code",
   "execution_count": 21,
   "id": "d400ea9a",
   "metadata": {},
   "outputs": [
    {
     "data": {
      "text/plain": [
       "SGDClassifier(alpha=0.1, random_state=0)"
      ]
     },
     "execution_count": 21,
     "metadata": {},
     "output_type": "execute_result"
    }
   ],
   "source": [
    "SGD_linear.fit(X_train_scaled, y_train)"
   ]
  },
  {
   "cell_type": "code",
   "execution_count": 22,
   "id": "d1ebc8d1",
   "metadata": {},
   "outputs": [
    {
     "name": "stdout",
     "output_type": "stream",
     "text": [
      "Accuracy of Linear model for test data is 0.9518545392462333\n"
     ]
    }
   ],
   "source": [
    "y_pred_linear = SGD_linear.predict(X_test_scaled)\n",
    "linear_acc = accuracy_score(y_test, y_pred_linear)\n",
    "accuracy.append(linear_acc)\n",
    "print(\"Accuracy of Linear model for test data is\",linear_acc)"
   ]
  },
  {
   "cell_type": "code",
   "execution_count": 23,
   "id": "10580834",
   "metadata": {},
   "outputs": [
    {
     "name": "stdout",
     "output_type": "stream",
     "text": [
      "              precision    recall  f1-score   support\n",
      "\n",
      "           1       0.97      0.99      0.98      4898\n",
      "           2       0.90      0.95      0.93      4485\n",
      "           3       0.97      0.96      0.96      4854\n",
      "           4       0.95      0.97      0.96      4496\n",
      "           5       0.97      0.88      0.92      4696\n",
      "\n",
      "    accuracy                           0.95     23429\n",
      "   macro avg       0.95      0.95      0.95     23429\n",
      "weighted avg       0.95      0.95      0.95     23429\n",
      "\n"
     ]
    }
   ],
   "source": [
    "cl_report_linear = classification_report(y_test, y_pred_linear, output_dict=True)\n",
    "precision.append(cl_report_linear['weighted avg']['precision'])\n",
    "recall.append(cl_report_linear['weighted avg']['recall'])\n",
    "f1_score.append(cl_report_linear['weighted avg']['f1-score'])\n",
    "print(classification_report(y_test, y_pred_linear))"
   ]
  },
  {
   "cell_type": "code",
   "execution_count": 24,
   "id": "8dd1771e",
   "metadata": {},
   "outputs": [
    {
     "data": {
      "text/plain": [
       "array([[4872,   15,   10,    0,    1],\n",
       "       [  54, 4277,   39,   49,   66],\n",
       "       [  29,   91, 4644,   27,   63],\n",
       "       [   0,   90,   40, 4366,    0],\n",
       "       [  44,  283,   74,  153, 4142]], dtype=int64)"
      ]
     },
     "execution_count": 24,
     "metadata": {},
     "output_type": "execute_result"
    }
   ],
   "source": [
    "conf_matrix_linear = confusion_matrix(y_test, y_pred_linear)\n",
    "conf_matrix_linear"
   ]
  },
  {
   "cell_type": "code",
   "execution_count": 25,
   "id": "effb61f9",
   "metadata": {},
   "outputs": [
    {
     "data": {
      "image/png": "[encoded data removed]",
      "text/plain": [
       "<Figure size 576x432 with 2 Axes>"
      ]
     },
     "metadata": {
      "needs_background": "light"
     },
     "output_type": "display_data"
    }
   ],
   "source": [
    "plt.figure(figsize = (8,6))\n",
    "\n",
    "sns.heatmap(conf_matrix_linear, \n",
    "            annot=True, \n",
    "            cmap=\"Spectral\", fmt = \"g\")\n",
    "plt.title(\"Linear Confusion Matrix\")\n",
    "plt.xlabel('Predicted', fontsize=15)\n",
    "plt.ylabel('Actual/Observed', fontsize=15);"
   ]
  },
  {
   "cell_type": "markdown",
   "id": "322b8fcb",
   "metadata": {},
   "source": [
    "# KNN using the best hyper parameters"
   ]
  },
  {
   "cell_type": "code",
   "execution_count": 26,
   "id": "f6a6eba4",
   "metadata": {},
   "outputs": [],
   "source": [
    "from sklearn.neighbors import KNeighborsClassifier"
   ]
  },
  {
   "cell_type": "code",
   "execution_count": 27,
   "id": "13c3ffc1",
   "metadata": {},
   "outputs": [],
   "source": [
    "#Train Model and Predict\n",
    "knn = KNeighborsClassifier(n_neighbors= 5)"
   ]
  },
  {
   "cell_type": "code",
   "execution_count": 28,
   "id": "82d166b5",
   "metadata": {},
   "outputs": [
    {
     "data": {
      "text/plain": [
       "KNeighborsClassifier()"
      ]
     },
     "execution_count": 28,
     "metadata": {},
     "output_type": "execute_result"
    }
   ],
   "source": [
    "knn.fit(X_train_scaled,y_train)"
   ]
  },
  {
   "cell_type": "code",
   "execution_count": 29,
   "id": "d7671475",
   "metadata": {},
   "outputs": [
    {
     "name": "stdout",
     "output_type": "stream",
     "text": [
      "Accuracy of knn model for test data is 0.9790430662853729\n"
     ]
    }
   ],
   "source": [
    "y_pred_knn = knn.predict(X_test_scaled)\n",
    "knn_acc = accuracy_score(y_test, y_pred_knn)\n",
    "accuracy.append(knn_acc)\n",
    "print(\"Accuracy of knn model for test data is\",knn_acc)"
   ]
  },
  {
   "cell_type": "code",
   "execution_count": 30,
   "id": "7733c537",
   "metadata": {},
   "outputs": [
    {
     "name": "stdout",
     "output_type": "stream",
     "text": [
      "              precision    recall  f1-score   support\n",
      "\n",
      "           1       0.99      1.00      1.00      4898\n",
      "           2       0.96      0.98      0.97      4485\n",
      "           3       0.96      0.99      0.98      4854\n",
      "           4       0.99      0.98      0.98      4496\n",
      "           5       0.99      0.95      0.97      4696\n",
      "\n",
      "    accuracy                           0.98     23429\n",
      "   macro avg       0.98      0.98      0.98     23429\n",
      "weighted avg       0.98      0.98      0.98     23429\n",
      "\n"
     ]
    }
   ],
   "source": [
    "cl_report_knn = classification_report(y_test, y_pred_knn, output_dict=True)\n",
    "precision.append(cl_report_knn['weighted avg']['precision'])\n",
    "recall.append(cl_report_knn['weighted avg']['recall'])\n",
    "f1_score.append(cl_report_knn['weighted avg']['f1-score'])\n",
    "print(classification_report(y_test, y_pred_knn))"
   ]
  },
  {
   "cell_type": "code",
   "execution_count": 31,
   "id": "ab2ace00",
   "metadata": {},
   "outputs": [
    {
     "data": {
      "text/plain": [
       "array([[4881,   17,    0,    0,    0],\n",
       "       [  20, 4382,   46,    7,   30],\n",
       "       [   6,    0, 4811,   36,    1],\n",
       "       [   1,    0,  104, 4391,    0],\n",
       "       [   5,  183,   25,   10, 4473]], dtype=int64)"
      ]
     },
     "execution_count": 31,
     "metadata": {},
     "output_type": "execute_result"
    }
   ],
   "source": [
    "conf_matrix_knn = confusion_matrix(y_test, y_pred_knn)\n",
    "conf_matrix_knn"
   ]
  },
  {
   "cell_type": "code",
   "execution_count": 32,
   "id": "dbcc93d8",
   "metadata": {},
   "outputs": [
    {
     "data": {
      "image/png": "[encoded data removed]",
      "text/plain": [
       "<Figure size 576x432 with 2 Axes>"
      ]
     },
     "metadata": {
      "needs_background": "light"
     },
     "output_type": "display_data"
    }
   ],
   "source": [
    "plt.figure(figsize = (8,6))\n",
    "\n",
    "sns.heatmap(conf_matrix_knn,\n",
    "            annot=True, \n",
    "            cmap=\"Spectral\", fmt = \"g\")\n",
    "plt.title(\"KNN Confusion Matrix\")\n",
    "plt.xlabel('Predicted', fontsize=15)\n",
    "plt.ylabel('Actual/Observed', fontsize=15);"
   ]
  },
  {
   "cell_type": "markdown",
   "id": "a1dedac1",
   "metadata": {},
   "source": [
    "# Random Forest Classifier using the best hyper parameters"
   ]
  },
  {
   "cell_type": "code",
   "execution_count": 33,
   "id": "eff7584f",
   "metadata": {},
   "outputs": [],
   "source": [
    "from sklearn.ensemble import RandomForestClassifier"
   ]
  },
  {
   "cell_type": "code",
   "execution_count": 34,
   "id": "1bfeed3a",
   "metadata": {},
   "outputs": [],
   "source": [
    "rfc=RandomForestClassifier(criterion= 'gini', max_depth= 8, max_features= 'auto', n_estimators= 201, random_state=42)"
   ]
  },
  {
   "cell_type": "code",
   "execution_count": 35,
   "id": "9cb0964a",
   "metadata": {},
   "outputs": [
    {
     "data": {
      "text/plain": [
       "RandomForestClassifier(max_depth=8, n_estimators=201, random_state=42)"
      ]
     },
     "execution_count": 35,
     "metadata": {},
     "output_type": "execute_result"
    }
   ],
   "source": [
    "rfc.fit(X_train_scaled, y_train)"
   ]
  },
  {
   "cell_type": "code",
   "execution_count": 36,
   "id": "db7847ce",
   "metadata": {},
   "outputs": [],
   "source": [
    "y_pred_rfc = rfc.predict(X_test_scaled)\n",
    "acc_rfc = accuracy_score(y_test,y_pred_rfc)\n",
    "accuracy.append(acc_rfc)"
   ]
  },
  {
   "cell_type": "code",
   "execution_count": 37,
   "id": "0868e853",
   "metadata": {},
   "outputs": [
    {
     "name": "stdout",
     "output_type": "stream",
     "text": [
      "Accuracy for Random Forest for test data 0.9938537709676043\n"
     ]
    }
   ],
   "source": [
    "print(\"Accuracy for Random Forest for test data\",acc_rfc)"
   ]
  },
  {
   "cell_type": "code",
   "execution_count": 38,
   "id": "0d8fef18",
   "metadata": {},
   "outputs": [
    {
     "name": "stdout",
     "output_type": "stream",
     "text": [
      "              precision    recall  f1-score   support\n",
      "\n",
      "           1       1.00      1.00      1.00      4898\n",
      "           2       0.98      0.99      0.98      4485\n",
      "           3       1.00      1.00      1.00      4854\n",
      "           4       1.00      1.00      1.00      4496\n",
      "           5       0.99      0.98      0.99      4696\n",
      "\n",
      "    accuracy                           0.99     23429\n",
      "   macro avg       0.99      0.99      0.99     23429\n",
      "weighted avg       0.99      0.99      0.99     23429\n",
      "\n"
     ]
    }
   ],
   "source": [
    "cl_report_rfc = classification_report(y_test, y_pred_rfc, output_dict=True)\n",
    "precision.append(cl_report_rfc['weighted avg']['precision'])\n",
    "recall.append(cl_report_rfc['weighted avg']['recall'])\n",
    "f1_score.append(cl_report_rfc['weighted avg']['f1-score'])\n",
    "print(classification_report(y_test, y_pred_rfc))"
   ]
  },
  {
   "cell_type": "code",
   "execution_count": 39,
   "id": "95cd67df",
   "metadata": {},
   "outputs": [
    {
     "data": {
      "text/plain": [
       "array([[4881,   16,    0,    0,    1],\n",
       "       [   0, 4455,    0,    0,   30],\n",
       "       [   0,    0, 4854,    0,    0],\n",
       "       [   0,    0,    0, 4496,    0],\n",
       "       [   0,   97,    0,    0, 4599]], dtype=int64)"
      ]
     },
     "execution_count": 39,
     "metadata": {},
     "output_type": "execute_result"
    }
   ],
   "source": [
    "conf_matrix_rfc = confusion_matrix(y_test, y_pred_rfc)\n",
    "conf_matrix_rfc"
   ]
  },
  {
   "cell_type": "code",
   "execution_count": 40,
   "id": "3d5fa1fb",
   "metadata": {},
   "outputs": [
    {
     "data": {
      "image/png": "[encoded data removed]",
      "text/plain": [
       "<Figure size 576x432 with 2 Axes>"
      ]
     },
     "metadata": {
      "needs_background": "light"
     },
     "output_type": "display_data"
    }
   ],
   "source": [
    "plt.figure(figsize = (8,6))\n",
    "\n",
    "sns.heatmap(conf_matrix_rfc, \n",
    "            annot=True, \n",
    "            cmap=\"Spectral\", fmt = \"g\")\n",
    "plt.title(\"RFC Confusion Matrix\")\n",
    "plt.xlabel('Predicted', fontsize=15)\n",
    "plt.ylabel('Actual/Observed', fontsize=15);"
   ]
  },
  {
   "cell_type": "markdown",
   "id": "a63c945f",
   "metadata": {},
   "source": [
    "# Decision Tree using the best hyper parameters"
   ]
  },
  {
   "cell_type": "code",
   "execution_count": 41,
   "id": "0b43c1eb",
   "metadata": {},
   "outputs": [],
   "source": [
    "from sklearn.tree import DecisionTreeClassifier"
   ]
  },
  {
   "cell_type": "code",
   "execution_count": 42,
   "id": "13181060",
   "metadata": {},
   "outputs": [
    {
     "data": {
      "text/plain": [
       "DecisionTreeClassifier(max_depth=10, min_samples_split=8, random_state=42)"
      ]
     },
     "execution_count": 42,
     "metadata": {},
     "output_type": "execute_result"
    }
   ],
   "source": [
    "dec_tree = DecisionTreeClassifier(criterion= 'gini', max_depth= 10, min_samples_leaf= 1, min_samples_split= 8, random_state=42)\n",
    "dec_tree.fit(X_train_scaled, y_train)"
   ]
  },
  {
   "cell_type": "code",
   "execution_count": 43,
   "id": "375a382e",
   "metadata": {},
   "outputs": [],
   "source": [
    "y_pred_tree = dec_tree.predict(X_test_scaled)\n",
    "acc_tree = accuracy_score(y_test, y_pred_tree)\n",
    "accuracy.append(acc_tree)"
   ]
  },
  {
   "cell_type": "code",
   "execution_count": 44,
   "id": "cd85de90",
   "metadata": {},
   "outputs": [
    {
     "name": "stdout",
     "output_type": "stream",
     "text": [
      "Best Accuracy for Decision Tree for test data 0.9911647957659311\n"
     ]
    }
   ],
   "source": [
    "print(\"Best Accuracy for Decision Tree for test data\",acc_tree)"
   ]
  },
  {
   "cell_type": "code",
   "execution_count": 45,
   "id": "5973df85",
   "metadata": {},
   "outputs": [
    {
     "name": "stdout",
     "output_type": "stream",
     "text": [
      "              precision    recall  f1-score   support\n",
      "\n",
      "           1       1.00      1.00      1.00      4898\n",
      "           2       0.97      0.99      0.98      4485\n",
      "           3       1.00      1.00      1.00      4854\n",
      "           4       1.00      1.00      1.00      4496\n",
      "           5       0.99      0.97      0.98      4696\n",
      "\n",
      "    accuracy                           0.99     23429\n",
      "   macro avg       0.99      0.99      0.99     23429\n",
      "weighted avg       0.99      0.99      0.99     23429\n",
      "\n"
     ]
    }
   ],
   "source": [
    "cl_report_tree = classification_report(y_test, y_pred_tree, output_dict=True)\n",
    "precision.append(cl_report_tree['weighted avg']['precision'])\n",
    "recall.append(cl_report_tree['weighted avg']['recall'])\n",
    "f1_score.append(cl_report_tree['weighted avg']['f1-score'])\n",
    "print(classification_report(y_test, y_pred_tree))"
   ]
  },
  {
   "cell_type": "code",
   "execution_count": 46,
   "id": "e5dd7fde",
   "metadata": {},
   "outputs": [
    {
     "data": {
      "text/plain": [
       "array([[4882,   15,    0,    0,    1],\n",
       "       [   1, 4423,    0,    0,   61],\n",
       "       [   0,    0, 4854,    0,    0],\n",
       "       [   0,    0,    0, 4496,    0],\n",
       "       [   1,  128,    0,    0, 4567]], dtype=int64)"
      ]
     },
     "execution_count": 46,
     "metadata": {},
     "output_type": "execute_result"
    }
   ],
   "source": [
    "conf_matrix_tree = confusion_matrix(y_test, y_pred_tree)\n",
    "conf_matrix_tree"
   ]
  },
  {
   "cell_type": "code",
   "execution_count": 47,
   "id": "94b69943",
   "metadata": {},
   "outputs": [
    {
     "data": {
      "image/png": "[encoded data removed]",
      "text/plain": [
       "<Figure size 576x432 with 2 Axes>"
      ]
     },
     "metadata": {
      "needs_background": "light"
     },
     "output_type": "display_data"
    }
   ],
   "source": [
    "plt.figure(figsize = (8,6))\n",
    "sns.heatmap(conf_matrix_tree, \n",
    "            annot=True, \n",
    "            cmap=\"Spectral\", fmt = \"g\")\n",
    "plt.title(\"Decision Tree Confusion Matrix\")\n",
    "plt.xlabel('Predicted', fontsize=15)\n",
    "plt.ylabel('Actual/Observed', fontsize=15);"
   ]
  },
  {
   "cell_type": "markdown",
   "id": "c812c193",
   "metadata": {},
   "source": [
    "# Part - 3"
   ]
  },
  {
   "cell_type": "markdown",
   "id": "7e166064",
   "metadata": {},
   "source": [
    "# Support Vector Linear Classifier using the best hyper parameters"
   ]
  },
  {
   "cell_type": "code",
   "execution_count": 48,
   "id": "8cf120dd",
   "metadata": {},
   "outputs": [],
   "source": [
    "from sklearn.svm import LinearSVC"
   ]
  },
  {
   "cell_type": "code",
   "execution_count": 49,
   "id": "7c49b57d",
   "metadata": {},
   "outputs": [
    {
     "data": {
      "text/plain": [
       "LinearSVC(C=0.01)"
      ]
     },
     "execution_count": 49,
     "metadata": {},
     "output_type": "execute_result"
    }
   ],
   "source": [
    "clf_svc_lin = LinearSVC(C= 0.01)\n",
    "clf_svc_lin.fit(X_train_scaled, y_train)"
   ]
  },
  {
   "cell_type": "code",
   "execution_count": 50,
   "id": "ae4d89e4",
   "metadata": {},
   "outputs": [],
   "source": [
    "# Predict target values using testing data\n",
    "y_pred_svc_lin = clf_svc_lin.predict(X_test_scaled)"
   ]
  },
  {
   "cell_type": "code",
   "execution_count": 51,
   "id": "7dfa732b",
   "metadata": {},
   "outputs": [
    {
     "name": "stdout",
     "output_type": "stream",
     "text": [
      "Accuracy: 0.9646165009176662\n"
     ]
    }
   ],
   "source": [
    "# Calculate accuracy of SVM classifier\n",
    "acc_svlin = accuracy_score(y_test, y_pred_svc_lin)\n",
    "accuracy.append(acc_svlin)\n",
    "print(\"Accuracy:\", acc_svlin)"
   ]
  },
  {
   "cell_type": "code",
   "execution_count": 52,
   "id": "38a6815b",
   "metadata": {},
   "outputs": [],
   "source": [
    "cl_report_svlin = classification_report(y_test, y_pred_svc_lin, output_dict=True)\n",
    "precision.append(cl_report_svlin['weighted avg']['precision'])\n",
    "recall.append(cl_report_svlin['weighted avg']['recall'])\n",
    "f1_score.append(cl_report_svlin['weighted avg']['f1-score'])"
   ]
  },
  {
   "cell_type": "code",
   "execution_count": 53,
   "id": "4882b211",
   "metadata": {},
   "outputs": [
    {
     "name": "stdout",
     "output_type": "stream",
     "text": [
      "              precision    recall  f1-score   support\n",
      "\n",
      "           1       0.99      1.00      0.99      4898\n",
      "           2       0.93      0.95      0.94      4485\n",
      "           3       0.96      0.98      0.97      4854\n",
      "           4       0.98      0.99      0.98      4496\n",
      "           5       0.97      0.91      0.94      4696\n",
      "\n",
      "    accuracy                           0.96     23429\n",
      "   macro avg       0.96      0.96      0.96     23429\n",
      "weighted avg       0.96      0.96      0.96     23429\n",
      "\n"
     ]
    }
   ],
   "source": [
    "print(classification_report(y_test, y_pred_svc_lin))"
   ]
  },
  {
   "cell_type": "code",
   "execution_count": 54,
   "id": "646afa9b",
   "metadata": {},
   "outputs": [
    {
     "data": {
      "text/plain": [
       "array([[4882,   15,    0,    0,    1],\n",
       "       [  25, 4253,   56,   35,  116],\n",
       "       [   6,   53, 4758,    0,   37],\n",
       "       [   0,   18,   31, 4447,    0],\n",
       "       [  16,  222,  123,   75, 4260]], dtype=int64)"
      ]
     },
     "execution_count": 54,
     "metadata": {},
     "output_type": "execute_result"
    }
   ],
   "source": [
    "conf_matrix_svc_lin = confusion_matrix(y_test, y_pred_svc_lin)\n",
    "conf_matrix_svc_lin"
   ]
  },
  {
   "cell_type": "code",
   "execution_count": 55,
   "id": "c3cf52dd",
   "metadata": {},
   "outputs": [
    {
     "data": {
      "image/png": "[encoded data removed]",
      "text/plain": [
       "<Figure size 576x432 with 2 Axes>"
      ]
     },
     "metadata": {
      "needs_background": "light"
     },
     "output_type": "display_data"
    }
   ],
   "source": [
    "plt.figure(figsize = (8,6))\n",
    "sns.heatmap(conf_matrix_svc_lin, \n",
    "            annot=True, \n",
    "            cmap=\"Spectral\", fmt = \"g\")\n",
    "plt.title(\"Support Vector Linear Confusion Matrix\")\n",
    "plt.xlabel('Predicted', fontsize=15)\n",
    "plt.ylabel('Actual/Observed', fontsize=15);"
   ]
  },
  {
   "cell_type": "markdown",
   "id": "b3709ea6",
   "metadata": {},
   "source": [
    "# Support Vector Non-Linear Classifier using the best hyper parameters"
   ]
  },
  {
   "cell_type": "code",
   "execution_count": 56,
   "id": "a999b865",
   "metadata": {},
   "outputs": [],
   "source": [
    "from sklearn.svm import SVC"
   ]
  },
  {
   "cell_type": "code",
   "execution_count": 57,
   "id": "6f3097d1",
   "metadata": {},
   "outputs": [
    {
     "data": {
      "text/plain": [
       "SVC(C=100, gamma=0.01, kernel='poly')"
      ]
     },
     "execution_count": 57,
     "metadata": {},
     "output_type": "execute_result"
    }
   ],
   "source": [
    "clf_svc = SVC(C=100, gamma=0.01, kernel='poly')\n",
    "clf_svc.fit(X_train_scaled, y_train)"
   ]
  },
  {
   "cell_type": "code",
   "execution_count": 58,
   "id": "e7fdbb55",
   "metadata": {},
   "outputs": [],
   "source": [
    "# Predict target values using testing data\n",
    "y_pred_svc = clf_svc.predict(X_test_scaled)"
   ]
  },
  {
   "cell_type": "code",
   "execution_count": 59,
   "id": "29d6fbed",
   "metadata": {},
   "outputs": [
    {
     "name": "stdout",
     "output_type": "stream",
     "text": [
      "Accuracy: 0.9945793674505954\n"
     ]
    }
   ],
   "source": [
    "# Calculate accuracy of SVM classifier\n",
    "acc_svc = accuracy_score(y_test, y_pred_svc)\n",
    "accuracy.append(acc_svc)\n",
    "print(\"Accuracy:\", acc_svc)"
   ]
  },
  {
   "cell_type": "code",
   "execution_count": 60,
   "id": "20e1ff20",
   "metadata": {},
   "outputs": [],
   "source": [
    "cl_report_svc = classification_report(y_test, y_pred_svc, output_dict=True)\n",
    "precision.append(cl_report_svc['weighted avg']['precision'])\n",
    "recall.append(cl_report_svc['weighted avg']['recall'])\n",
    "f1_score.append(cl_report_svc['weighted avg']['f1-score'])"
   ]
  },
  {
   "cell_type": "code",
   "execution_count": 61,
   "id": "a3184369",
   "metadata": {},
   "outputs": [
    {
     "name": "stdout",
     "output_type": "stream",
     "text": [
      "              precision    recall  f1-score   support\n",
      "\n",
      "           1       1.00      1.00      1.00      4898\n",
      "           2       0.99      0.99      0.99      4485\n",
      "           3       1.00      1.00      1.00      4854\n",
      "           4       1.00      1.00      1.00      4496\n",
      "           5       0.99      0.99      0.99      4696\n",
      "\n",
      "    accuracy                           0.99     23429\n",
      "   macro avg       0.99      0.99      0.99     23429\n",
      "weighted avg       0.99      0.99      0.99     23429\n",
      "\n"
     ]
    }
   ],
   "source": [
    "print(classification_report(y_test,y_pred_svc))"
   ]
  },
  {
   "cell_type": "code",
   "execution_count": 62,
   "id": "45b9482a",
   "metadata": {},
   "outputs": [
    {
     "data": {
      "text/plain": [
       "array([[4881,   16,    0,    1,    0],\n",
       "       [   5, 4432,    7,    2,   39],\n",
       "       [   1,    0, 4853,    0,    0],\n",
       "       [   0,    0,    1, 4495,    0],\n",
       "       [   2,   42,    7,    4, 4641]], dtype=int64)"
      ]
     },
     "execution_count": 62,
     "metadata": {},
     "output_type": "execute_result"
    }
   ],
   "source": [
    "conf_matrix_svc = confusion_matrix(y_test, y_pred_svc)\n",
    "conf_matrix_svc"
   ]
  },
  {
   "cell_type": "code",
   "execution_count": 63,
   "id": "6e0a0437",
   "metadata": {},
   "outputs": [
    {
     "data": {
      "image/png": "[encoded data removed]",
      "text/plain": [
       "<Figure size 576x432 with 2 Axes>"
      ]
     },
     "metadata": {
      "needs_background": "light"
     },
     "output_type": "display_data"
    }
   ],
   "source": [
    "plt.figure(figsize = (8,6))\n",
    "sns.heatmap(conf_matrix_svc, \n",
    "            annot=True, \n",
    "            cmap=\"Spectral\", fmt = \"g\")\n",
    "plt.title(\"Support Vector Non Linear Confusion Matrix\")\n",
    "plt.xlabel('Predicted', fontsize=15)\n",
    "plt.ylabel('Actual/Observed', fontsize=15);"
   ]
  },
  {
   "cell_type": "markdown",
   "id": "5883d907",
   "metadata": {},
   "source": [
    "# MLP - Multi Layer Perceptron Classifier using the best hyper parameters"
   ]
  },
  {
   "cell_type": "code",
   "execution_count": 64,
   "id": "396f1391",
   "metadata": {},
   "outputs": [],
   "source": [
    "# Importing the deep learning model\n",
    "from sklearn.neural_network import MLPClassifier"
   ]
  },
  {
   "cell_type": "code",
   "execution_count": 65,
   "id": "45319ff7",
   "metadata": {},
   "outputs": [
    {
     "data": {
      "text/plain": [
       "MLPClassifier(alpha=0.001, hidden_layer_sizes=1000, learning_rate='adaptive')"
      ]
     },
     "execution_count": 65,
     "metadata": {},
     "output_type": "execute_result"
    }
   ],
   "source": [
    "# Taking MLP model\n",
    "mlp = MLPClassifier(learning_rate= 'adaptive', hidden_layer_sizes= 1000, alpha= 0.001)\n",
    "mlp.fit(X_train_scaled, y_train)"
   ]
  },
  {
   "cell_type": "code",
   "execution_count": 66,
   "id": "2d1b10f1",
   "metadata": {},
   "outputs": [],
   "source": [
    "# finding accuracy for the random model\n",
    "y_pred_mlp  = mlp.predict(X_test_scaled)"
   ]
  },
  {
   "cell_type": "code",
   "execution_count": 67,
   "id": "71d712d1",
   "metadata": {},
   "outputs": [
    {
     "name": "stdout",
     "output_type": "stream",
     "text": [
      " The testing data accuracy for the MLP model is 0.9969268854838021\n"
     ]
    }
   ],
   "source": [
    "acc_mlp = accuracy_score(y_test,y_pred_mlp)\n",
    "accuracy.append(acc_mlp)\n",
    "print(f\" The testing data accuracy for the MLP model is {acc_mlp}\")"
   ]
  },
  {
   "cell_type": "code",
   "execution_count": 68,
   "id": "caad63f6",
   "metadata": {},
   "outputs": [],
   "source": [
    "cl_report_mlp = classification_report(y_test, y_pred_mlp, output_dict=True)\n",
    "precision.append(cl_report_mlp['weighted avg']['precision'])\n",
    "recall.append(cl_report_mlp['weighted avg']['recall'])\n",
    "f1_score.append(cl_report_mlp['weighted avg']['f1-score'])"
   ]
  },
  {
   "cell_type": "code",
   "execution_count": 69,
   "id": "847cf7ed",
   "metadata": {},
   "outputs": [
    {
     "name": "stdout",
     "output_type": "stream",
     "text": [
      "              precision    recall  f1-score   support\n",
      "\n",
      "           1       1.00      1.00      1.00      4898\n",
      "           2       0.99      0.99      0.99      4485\n",
      "           3       1.00      1.00      1.00      4854\n",
      "           4       1.00      1.00      1.00      4496\n",
      "           5       0.99      0.99      0.99      4696\n",
      "\n",
      "    accuracy                           1.00     23429\n",
      "   macro avg       1.00      1.00      1.00     23429\n",
      "weighted avg       1.00      1.00      1.00     23429\n",
      "\n"
     ]
    }
   ],
   "source": [
    "print(classification_report(y_test,y_pred_mlp))"
   ]
  },
  {
   "cell_type": "code",
   "execution_count": 70,
   "id": "3b1d9a49",
   "metadata": {},
   "outputs": [
    {
     "data": {
      "text/plain": [
       "array([[4882,   15,    0,    0,    1],\n",
       "       [   1, 4457,    1,    1,   25],\n",
       "       [   0,    0, 4854,    0,    0],\n",
       "       [   0,    0,    0, 4496,    0],\n",
       "       [   0,   27,    1,    0, 4668]], dtype=int64)"
      ]
     },
     "execution_count": 70,
     "metadata": {},
     "output_type": "execute_result"
    }
   ],
   "source": [
    "conf_matrix_mlp = confusion_matrix(y_test, y_pred_mlp)\n",
    "conf_matrix_mlp"
   ]
  },
  {
   "cell_type": "code",
   "execution_count": 71,
   "id": "ef89cde5",
   "metadata": {},
   "outputs": [
    {
     "data": {
      "image/png": "[encoded data removed]",
      "text/plain": [
       "<Figure size 576x432 with 2 Axes>"
      ]
     },
     "metadata": {
      "needs_background": "light"
     },
     "output_type": "display_data"
    }
   ],
   "source": [
    "plt.figure(figsize = (8,6))\n",
    "sns.heatmap(conf_matrix_mlp, \n",
    "            annot=True, \n",
    "            cmap=\"Spectral\", fmt = \"g\")\n",
    "plt.title(\"MLP Confusion Matrix\")\n",
    "plt.xlabel('Predicted', fontsize=15)\n",
    "plt.ylabel('Actual/Observed', fontsize=15);"
   ]
  },
  {
   "cell_type": "markdown",
   "id": "e4b8ff01",
   "metadata": {},
   "source": [
    "# Best Models by using the variable selection using LASSO"
   ]
  },
  {
   "cell_type": "markdown",
   "id": "46854473",
   "metadata": {},
   "source": [
    "# MLP using variable selection with Lasso"
   ]
  },
  {
   "cell_type": "code",
   "execution_count": 72,
   "id": "0a02d05f",
   "metadata": {},
   "outputs": [],
   "source": [
    "features_lasso = ['Y2', 'Y3', 'Y4', 'Y6', 'Z7', 'Z8', 'X9', 'Z9', 'Y10', 'Z10']"
   ]
  },
  {
   "cell_type": "code",
   "execution_count": 73,
   "id": "6a489f78",
   "metadata": {},
   "outputs": [],
   "source": [
    "X_best = df[features_lasso]"
   ]
  },
  {
   "cell_type": "code",
   "execution_count": 74,
   "id": "32e9f189",
   "metadata": {},
   "outputs": [],
   "source": [
    "X_train_b, X_test_b, y_train, y_test = train_test_split(X_best, y, test_size=0.3, random_state=42)"
   ]
  },
  {
   "cell_type": "code",
   "execution_count": 75,
   "id": "5d68f157",
   "metadata": {},
   "outputs": [],
   "source": [
    "X_train_b = scaler.fit_transform(X_train_b)\n",
    "X_test_b = scaler.transform(X_test_b)"
   ]
  },
  {
   "cell_type": "code",
   "execution_count": 76,
   "id": "cde1f0f3",
   "metadata": {},
   "outputs": [],
   "source": [
    "rfc_lasso = RandomForestClassifier(criterion= 'gini', max_depth= 8, max_features= 'auto', n_estimators= 201, random_state=42)"
   ]
  },
  {
   "cell_type": "code",
   "execution_count": 77,
   "id": "2a0f71a3",
   "metadata": {},
   "outputs": [
    {
     "data": {
      "text/plain": [
       "RandomForestClassifier(max_depth=8, n_estimators=201, random_state=42)"
      ]
     },
     "execution_count": 77,
     "metadata": {},
     "output_type": "execute_result"
    }
   ],
   "source": [
    "rfc_lasso.fit(X_train_b, y_train)"
   ]
  },
  {
   "cell_type": "code",
   "execution_count": 79,
   "id": "7a5b2518",
   "metadata": {},
   "outputs": [],
   "source": [
    "y_pred_rfc_lasso = rfc_lasso.predict(X_test_b)"
   ]
  },
  {
   "cell_type": "code",
   "execution_count": 80,
   "id": "4b67ac17",
   "metadata": {},
   "outputs": [
    {
     "name": "stdout",
     "output_type": "stream",
     "text": [
      " The testing data accuracy for the MLP model is 0.9812198557343463\n"
     ]
    }
   ],
   "source": [
    "acc_rfc_lasso = accuracy_score(y_test, y_pred_rfc_lasso)\n",
    "accuracy.append(acc_rfc_lasso)\n",
    "print(f\" The testing data accuracy for the MLP model is {acc_rfc_lasso}\")"
   ]
  },
  {
   "cell_type": "code",
   "execution_count": 81,
   "id": "ce0d5acb",
   "metadata": {},
   "outputs": [],
   "source": [
    "cl_report_rfc_lasso = classification_report(y_test, y_pred_rfc_lasso, output_dict=True)\n",
    "precision.append(cl_report_rfc_lasso['weighted avg']['precision'])\n",
    "recall.append(cl_report_rfc_lasso['weighted avg']['recall'])\n",
    "f1_score.append(cl_report_rfc_lasso['weighted avg']['f1-score'])"
   ]
  },
  {
   "cell_type": "code",
   "execution_count": 82,
   "id": "3c4cea35",
   "metadata": {},
   "outputs": [
    {
     "name": "stdout",
     "output_type": "stream",
     "text": [
      "              precision    recall  f1-score   support\n",
      "\n",
      "           1       1.00      1.00      1.00      4898\n",
      "           2       0.92      0.98      0.95      4485\n",
      "           3       1.00      1.00      1.00      4854\n",
      "           4       1.00      1.00      1.00      4496\n",
      "           5       0.98      0.92      0.95      4696\n",
      "\n",
      "    accuracy                           0.98     23429\n",
      "   macro avg       0.98      0.98      0.98     23429\n",
      "weighted avg       0.98      0.98      0.98     23429\n",
      "\n"
     ]
    }
   ],
   "source": [
    "print(classification_report(y_test, y_pred_rfc_lasso))"
   ]
  },
  {
   "cell_type": "code",
   "execution_count": 83,
   "id": "2710f749",
   "metadata": {},
   "outputs": [
    {
     "data": {
      "text/plain": [
       "array([[4881,   16,    0,    0,    1],\n",
       "       [   0, 4417,    0,    0,   68],\n",
       "       [   0,    0, 4854,    0,    0],\n",
       "       [   0,    0,    0, 4496,    0],\n",
       "       [   0,  355,    0,    0, 4341]], dtype=int64)"
      ]
     },
     "execution_count": 83,
     "metadata": {},
     "output_type": "execute_result"
    }
   ],
   "source": [
    "# getting the confusion matrix on test data based on true positive values\n",
    "conf_matrix_rfc_lasso = confusion_matrix(y_test, y_pred_rfc_lasso)\n",
    "conf_matrix_rfc_lasso"
   ]
  },
  {
   "cell_type": "code",
   "execution_count": 127,
   "id": "aa5df8d1",
   "metadata": {},
   "outputs": [
    {
     "data": {
      "image/png": "[encoded data removed]",
      "text/plain": [
       "<Figure size 576x432 with 2 Axes>"
      ]
     },
     "metadata": {
      "needs_background": "light"
     },
     "output_type": "display_data"
    }
   ],
   "source": [
    "# Confusion matrix heat map\n",
    "plt.figure(figsize = (8,6))\n",
    "sns.heatmap(conf_matrix_rfc_lasso, \n",
    "            annot=True, \n",
    "            cmap=\"Spectral\", fmt = \"g\")\n",
    "plt.title(\"RFC lasso Confusion Matrix\")\n",
    "plt.xlabel('Predicted', fontsize=15)\n",
    "plt.ylabel('Actual/Observed', fontsize=15);"
   ]
  },
  {
   "cell_type": "markdown",
   "id": "de2ea4e0",
   "metadata": {},
   "source": [
    "# MLP using variable selection with Lasso"
   ]
  },
  {
   "cell_type": "code",
   "execution_count": 85,
   "id": "5d6eaf42",
   "metadata": {},
   "outputs": [
    {
     "data": {
      "text/plain": [
       "MLPClassifier(alpha=0.001, hidden_layer_sizes=1000, learning_rate='adaptive')"
      ]
     },
     "execution_count": 85,
     "metadata": {},
     "output_type": "execute_result"
    }
   ],
   "source": [
    "mlp_lasso = MLPClassifier(learning_rate= 'adaptive', hidden_layer_sizes= 1000, alpha= 0.001)\n",
    "mlp_lasso.fit(X_train_b, y_train)"
   ]
  },
  {
   "cell_type": "code",
   "execution_count": 87,
   "id": "b0a8e49c",
   "metadata": {},
   "outputs": [],
   "source": [
    "y_pred_mlp_lasso = mlp_lasso.predict(X_test_b)"
   ]
  },
  {
   "cell_type": "code",
   "execution_count": 88,
   "id": "e0211a1f",
   "metadata": {},
   "outputs": [
    {
     "name": "stdout",
     "output_type": "stream",
     "text": [
      " The testing data accuracy for the MLP model is 0.9827137308463869\n"
     ]
    }
   ],
   "source": [
    "acc_mlp_lasso = accuracy_score(y_test, y_pred_mlp_lasso)\n",
    "accuracy.append(acc_mlp_lasso)\n",
    "print(f\" The testing data accuracy for the MLP model is {acc_mlp_lasso}\")"
   ]
  },
  {
   "cell_type": "code",
   "execution_count": 89,
   "id": "5da57e14",
   "metadata": {},
   "outputs": [],
   "source": [
    "cl_report_mlp_lasso = classification_report(y_test, y_pred_mlp_lasso, output_dict=True)\n",
    "precision.append(cl_report_mlp_lasso['weighted avg']['precision'])\n",
    "recall.append(cl_report_mlp_lasso['weighted avg']['recall'])\n",
    "f1_score.append(cl_report_mlp_lasso['weighted avg']['f1-score'])"
   ]
  },
  {
   "cell_type": "code",
   "execution_count": 90,
   "id": "9744fdde",
   "metadata": {},
   "outputs": [
    {
     "name": "stdout",
     "output_type": "stream",
     "text": [
      "              precision    recall  f1-score   support\n",
      "\n",
      "           1       1.00      1.00      1.00      4898\n",
      "           2       0.95      0.96      0.96      4485\n",
      "           3       1.00      1.00      1.00      4854\n",
      "           4       1.00      1.00      1.00      4496\n",
      "           5       0.96      0.96      0.96      4696\n",
      "\n",
      "    accuracy                           0.98     23429\n",
      "   macro avg       0.98      0.98      0.98     23429\n",
      "weighted avg       0.98      0.98      0.98     23429\n",
      "\n"
     ]
    }
   ],
   "source": [
    "print(classification_report(y_test, y_pred_mlp_lasso))"
   ]
  },
  {
   "cell_type": "code",
   "execution_count": 91,
   "id": "8b9b2357",
   "metadata": {},
   "outputs": [
    {
     "data": {
      "text/plain": [
       "array([[4881,   15,    0,    0,    2],\n",
       "       [   2, 4307,    0,    0,  176],\n",
       "       [   0,    0, 4854,    0,    0],\n",
       "       [   0,    0,    0, 4496,    0],\n",
       "       [   0,  207,    2,    1, 4486]], dtype=int64)"
      ]
     },
     "execution_count": 91,
     "metadata": {},
     "output_type": "execute_result"
    }
   ],
   "source": [
    "# getting the confusion matrix on test data based on true positive values\n",
    "conf_matrix_mlp_lasso = confusion_matrix(y_test, y_pred_mlp_lasso)\n",
    "conf_matrix_mlp_lasso"
   ]
  },
  {
   "cell_type": "code",
   "execution_count": 126,
   "id": "cdcea750",
   "metadata": {},
   "outputs": [
    {
     "data": {
      "image/png": "[encoded data removed]",
      "text/plain": [
       "<Figure size 576x432 with 2 Axes>"
      ]
     },
     "metadata": {
      "needs_background": "light"
     },
     "output_type": "display_data"
    }
   ],
   "source": [
    "# Confusion matrix heat map\n",
    "plt.figure(figsize = (8,6))\n",
    "sns.heatmap(conf_matrix_mlp_lasso, \n",
    "            annot=True, \n",
    "            cmap=\"Spectral\", fmt = \"g\")\n",
    "plt.title(\"MLP lasso Confusion Matrix\")\n",
    "plt.xlabel('Predicted', fontsize=15)\n",
    "plt.ylabel('Actual/Observed', fontsize=15);"
   ]
  },
  {
   "cell_type": "markdown",
   "id": "87373786",
   "metadata": {},
   "source": [
    "# Best Models by using the variable selection as Bidirectional elimination as the wrapper method"
   ]
  },
  {
   "cell_type": "markdown",
   "id": "2736990f",
   "metadata": {},
   "source": [
    "# RFC using Bidirectional features"
   ]
  },
  {
   "cell_type": "code",
   "execution_count": 93,
   "id": "933ebacc",
   "metadata": {},
   "outputs": [],
   "source": [
    "features_wrapper = ['X0','Y0','Z0','X1','Y1','Z1','X2','X3','Z4','Z8','X9','Y9','Z9','X10','Y10','Z10']"
   ]
  },
  {
   "cell_type": "code",
   "execution_count": 94,
   "id": "1a148d96",
   "metadata": {},
   "outputs": [],
   "source": [
    "X_w = df[features_wrapper]"
   ]
  },
  {
   "cell_type": "code",
   "execution_count": 95,
   "id": "30b11e8a",
   "metadata": {},
   "outputs": [],
   "source": [
    "X_train_w, X_test_w, y_train, y_test = train_test_split(X_w, y, test_size=0.3, random_state=42)"
   ]
  },
  {
   "cell_type": "code",
   "execution_count": 96,
   "id": "ef38bf6f",
   "metadata": {},
   "outputs": [],
   "source": [
    "X_train_w = scaler.fit_transform(X_train_w)\n",
    "X_test_w = scaler.transform(X_test_w)"
   ]
  },
  {
   "cell_type": "code",
   "execution_count": 97,
   "id": "2e43436e",
   "metadata": {},
   "outputs": [],
   "source": [
    "rfc_w = RandomForestClassifier(criterion= 'gini', max_depth= 8, max_features= 'auto', n_estimators= 201, random_state=42)"
   ]
  },
  {
   "cell_type": "code",
   "execution_count": 98,
   "id": "ba3c92f4",
   "metadata": {},
   "outputs": [
    {
     "data": {
      "text/plain": [
       "RandomForestClassifier(max_depth=8, n_estimators=201, random_state=42)"
      ]
     },
     "execution_count": 98,
     "metadata": {},
     "output_type": "execute_result"
    }
   ],
   "source": [
    "rfc_w.fit(X_train_w, y_train)"
   ]
  },
  {
   "cell_type": "code",
   "execution_count": 99,
   "id": "42eb8e0d",
   "metadata": {},
   "outputs": [],
   "source": [
    "y_pred_rfc_w = rfc_w.predict(X_test_w)"
   ]
  },
  {
   "cell_type": "code",
   "execution_count": 100,
   "id": "3c4b9e46",
   "metadata": {},
   "outputs": [
    {
     "name": "stdout",
     "output_type": "stream",
     "text": [
      " The testing data accuracy for the MLP model is 0.9912074779119894\n"
     ]
    }
   ],
   "source": [
    "acc_rfc_w = accuracy_score(y_test, y_pred_rfc_w)\n",
    "accuracy.append(acc_rfc_w)\n",
    "print(f\" The testing data accuracy for the MLP model is {acc_rfc_w}\")"
   ]
  },
  {
   "cell_type": "code",
   "execution_count": 101,
   "id": "4d6f1504",
   "metadata": {},
   "outputs": [],
   "source": [
    "cl_report_rfc_w = classification_report(y_test, y_pred_rfc_w, output_dict=True)\n",
    "precision.append(cl_report_rfc_w['weighted avg']['precision'])\n",
    "recall.append(cl_report_rfc_w['weighted avg']['recall'])\n",
    "f1_score.append(cl_report_rfc_w['weighted avg']['f1-score'])"
   ]
  },
  {
   "cell_type": "code",
   "execution_count": 102,
   "id": "9a79312e",
   "metadata": {},
   "outputs": [
    {
     "name": "stdout",
     "output_type": "stream",
     "text": [
      "              precision    recall  f1-score   support\n",
      "\n",
      "           1       1.00      1.00      1.00      4898\n",
      "           2       0.97      0.99      0.98      4485\n",
      "           3       1.00      1.00      1.00      4854\n",
      "           4       1.00      1.00      1.00      4496\n",
      "           5       0.99      0.97      0.98      4696\n",
      "\n",
      "    accuracy                           0.99     23429\n",
      "   macro avg       0.99      0.99      0.99     23429\n",
      "weighted avg       0.99      0.99      0.99     23429\n",
      "\n"
     ]
    }
   ],
   "source": [
    "print(classification_report(y_test, y_pred_rfc_w))"
   ]
  },
  {
   "cell_type": "code",
   "execution_count": 103,
   "id": "39781dfb",
   "metadata": {},
   "outputs": [
    {
     "data": {
      "text/plain": [
       "array([[4881,   16,    0,    0,    1],\n",
       "       [   0, 4441,    0,    0,   44],\n",
       "       [   0,    0, 4854,    0,    0],\n",
       "       [   0,    0,    0, 4496,    0],\n",
       "       [   0,  145,    0,    0, 4551]], dtype=int64)"
      ]
     },
     "execution_count": 103,
     "metadata": {},
     "output_type": "execute_result"
    }
   ],
   "source": [
    "# getting the confusion matrix on test data based on true positive values\n",
    "conf_matrix_rfc_w = confusion_matrix(y_test, y_pred_rfc_w)\n",
    "conf_matrix_rfc_w"
   ]
  },
  {
   "cell_type": "code",
   "execution_count": 125,
   "id": "947bc4ee",
   "metadata": {},
   "outputs": [
    {
     "data": {
      "image/png": "[encoded data removed]",
      "text/plain": [
       "<Figure size 576x432 with 2 Axes>"
      ]
     },
     "metadata": {
      "needs_background": "light"
     },
     "output_type": "display_data"
    }
   ],
   "source": [
    "# Confusion matrix heat map\n",
    "plt.figure(figsize = (8,6))\n",
    "sns.heatmap(conf_matrix_rfc_w, \n",
    "            annot=True, \n",
    "            cmap=\"Spectral\", fmt = \"g\")\n",
    "plt.title(\"rfc bidirectional Confusion Matrix\")\n",
    "plt.xlabel('Predicted', fontsize=15)\n",
    "plt.ylabel('Actual/Observed', fontsize=15);"
   ]
  },
  {
   "cell_type": "markdown",
   "id": "f8b06deb",
   "metadata": {},
   "source": [
    "# MLP using Bidirectional features"
   ]
  },
  {
   "cell_type": "code",
   "execution_count": 105,
   "id": "acb29240",
   "metadata": {},
   "outputs": [
    {
     "data": {
      "text/plain": [
       "MLPClassifier(alpha=0.001, hidden_layer_sizes=1000, learning_rate='adaptive')"
      ]
     },
     "execution_count": 105,
     "metadata": {},
     "output_type": "execute_result"
    }
   ],
   "source": [
    "mlp_w = MLPClassifier(learning_rate= 'adaptive', hidden_layer_sizes= 1000, alpha= 0.001)\n",
    "mlp_w.fit(X_train_w, y_train)"
   ]
  },
  {
   "cell_type": "code",
   "execution_count": 106,
   "id": "1fd11bc3",
   "metadata": {},
   "outputs": [],
   "source": [
    "y_pred_mlp_w = mlp_w.predict(X_test_w)"
   ]
  },
  {
   "cell_type": "code",
   "execution_count": 107,
   "id": "f37b1111",
   "metadata": {},
   "outputs": [
    {
     "name": "stdout",
     "output_type": "stream",
     "text": [
      " The testing data accuracy for the MLP model is 0.9936403602373127\n"
     ]
    }
   ],
   "source": [
    "acc_mlp_w = accuracy_score(y_test, y_pred_mlp_w)\n",
    "accuracy.append(acc_mlp_w)\n",
    "print(f\" The testing data accuracy for the MLP model is {acc_mlp_w}\")"
   ]
  },
  {
   "cell_type": "code",
   "execution_count": 108,
   "id": "12576ebd",
   "metadata": {},
   "outputs": [],
   "source": [
    "cl_report_mlp_w = classification_report(y_test, y_pred_mlp_w, output_dict=True)\n",
    "precision.append(cl_report_mlp_w['weighted avg']['precision'])\n",
    "recall.append(cl_report_mlp_w['weighted avg']['recall'])\n",
    "f1_score.append(cl_report_mlp_w['weighted avg']['f1-score'])"
   ]
  },
  {
   "cell_type": "code",
   "execution_count": 109,
   "id": "1aa085a1",
   "metadata": {},
   "outputs": [
    {
     "name": "stdout",
     "output_type": "stream",
     "text": [
      "              precision    recall  f1-score   support\n",
      "\n",
      "           1       1.00      1.00      1.00      4898\n",
      "           2       0.98      0.98      0.98      4485\n",
      "           3       1.00      1.00      1.00      4854\n",
      "           4       1.00      1.00      1.00      4496\n",
      "           5       0.98      0.99      0.99      4696\n",
      "\n",
      "    accuracy                           0.99     23429\n",
      "   macro avg       0.99      0.99      0.99     23429\n",
      "weighted avg       0.99      0.99      0.99     23429\n",
      "\n"
     ]
    }
   ],
   "source": [
    "print(classification_report(y_test, y_pred_mlp_w))"
   ]
  },
  {
   "cell_type": "code",
   "execution_count": 110,
   "id": "3ce2113c",
   "metadata": {},
   "outputs": [
    {
     "data": {
      "text/plain": [
       "array([[4882,   14,    0,    0,    2],\n",
       "       [   6, 4409,    0,    1,   69],\n",
       "       [   0,    0, 4854,    0,    0],\n",
       "       [   0,    0,    0, 4496,    0],\n",
       "       [   0,   57,    0,    0, 4639]], dtype=int64)"
      ]
     },
     "execution_count": 110,
     "metadata": {},
     "output_type": "execute_result"
    }
   ],
   "source": [
    "# getting the confusion matrix on test data based on true positive values\n",
    "conf_matrix_mlp_w = confusion_matrix(y_test, y_pred_mlp_w)\n",
    "conf_matrix_mlp_w"
   ]
  },
  {
   "cell_type": "code",
   "execution_count": 124,
   "id": "ef73f610",
   "metadata": {},
   "outputs": [
    {
     "data": {
      "image/png": "[encoded data removed]",
      "text/plain": [
       "<Figure size 576x432 with 2 Axes>"
      ]
     },
     "metadata": {
      "needs_background": "light"
     },
     "output_type": "display_data"
    }
   ],
   "source": [
    "# Confusion matrix heat map\n",
    "plt.figure(figsize = (8,6))\n",
    "sns.heatmap(conf_matrix_mlp_w, \n",
    "            annot=True, \n",
    "            cmap=\"Spectral\", fmt = \"g\")\n",
    "plt.title(\"MLP bidirectional Confusion Matrix\")\n",
    "plt.xlabel('Predicted', fontsize=15)\n",
    "plt.ylabel('Actual/Observed', fontsize=15);"
   ]
  },
  {
   "cell_type": "markdown",
   "id": "7893040f",
   "metadata": {},
   "source": [
    "# Plotting the accuracy graph for all the models"
   ]
  },
  {
   "cell_type": "code",
   "execution_count": 112,
   "id": "2e0c6bd9",
   "metadata": {},
   "outputs": [
    {
     "data": {
      "text/plain": [
       "[0.2071791369670067,\n",
       " 0.9518545392462333,\n",
       " 0.9790430662853729,\n",
       " 0.9938537709676043,\n",
       " 0.9911647957659311,\n",
       " 0.9646165009176662,\n",
       " 0.9945793674505954,\n",
       " 0.9969268854838021,\n",
       " 0.9812198557343463,\n",
       " 0.9827137308463869,\n",
       " 0.9912074779119894,\n",
       " 0.9936403602373127]"
      ]
     },
     "execution_count": 112,
     "metadata": {},
     "output_type": "execute_result"
    }
   ],
   "source": [
    "accuracy"
   ]
  },
  {
   "cell_type": "code",
   "execution_count": 115,
   "id": "2849936d",
   "metadata": {},
   "outputs": [],
   "source": [
    "models = [\"Naive\", \"Linear Classifier\",\"KNN\", \"Random Forest\", \"Decision Tree\", \"SVC Linear\", \"SVC non-Linear\", \"MLP\", \"Lasso_RFC\", \"LASSO_MLP\",\"Bi_RFC\", \"Bi_MLP\"]"
   ]
  },
  {
   "cell_type": "code",
   "execution_count": 116,
   "id": "e12a449d",
   "metadata": {
    "scrolled": false
   },
   "outputs": [
    {
     "data": {
      "image/png": "[encoded data removed]",
      "text/plain": [
       "<Figure size 720x576 with 1 Axes>"
      ]
     },
     "metadata": {
      "needs_background": "light"
     },
     "output_type": "display_data"
    }
   ],
   "source": [
    "fig = plt.figure(figsize=(10, 8))\n",
    "plt.plot(models,accuracy, marker='o')\n",
    "plt.title('Accuracy Scores on Respective model on Test Data', fontsize=15)\n",
    "plt.grid()\n",
    "plt.show()"
   ]
  },
  {
   "cell_type": "code",
   "execution_count": 118,
   "id": "504d8a15",
   "metadata": {},
   "outputs": [
    {
     "data": {
      "image/png": "[encoded data removed]",
      "text/plain": [
       "<Figure size 1080x432 with 1 Axes>"
      ]
     },
     "metadata": {
      "needs_background": "light"
     },
     "output_type": "display_data"
    }
   ],
   "source": [
    "# sns.set(style=\"whitegrid\")\n",
    "fig, ax = plt.subplots(figsize=(15, 6))\n",
    "ax = sns.barplot(x=models, y=accuracy)\n",
    "for i in ax.containers:\n",
    "    ax.bar_label(i, label_type='edge', fontsize=10)\n",
    "plt.xticks(range(len(models)), models)\n",
    "plt.title(f\"Accuracy plot for {len(accuracy)} models\")\n",
    "plt.xlabel(\"Model\")\n",
    "plt.ylabel(\"Accuracy\")\n",
    "plt.show()"
   ]
  },
  {
   "cell_type": "code",
   "execution_count": 119,
   "id": "7dd92d33",
   "metadata": {},
   "outputs": [
    {
     "name": "stdout",
     "output_type": "stream",
     "text": [
      "[0.04292319479439372, 0.9527208651383577, 0.979342822026067, 0.9939225445174426, 0.9912345245056244, 0.964696760886239, 0.9945780441228822, 0.9969319045605846, 0.982030954809999, 0.9827534423377533, 0.9913403947273653, 0.993645471282584] [0.2071791369670067, 0.9518545392462333, 0.9790430662853729, 0.9938537709676043, 0.9911647957659311, 0.9646165009176662, 0.9945793674505954, 0.9969268854838021, 0.9812198557343463, 0.9827137308463869, 0.9912074779119894, 0.9936403602373127] [0.07111321506472797, 0.9516723739853756, 0.9790435135124657, 0.9938617877285427, 0.9911741113549136, 0.9644264603618383, 0.9945773787666786, 0.9969284227539928, 0.9812411554414605, 0.982726480165553, 0.9912195390789224, 0.9936421990117902]\n"
     ]
    }
   ],
   "source": [
    "print(precision,recall,f1_score)"
   ]
  },
  {
   "cell_type": "code",
   "execution_count": 121,
   "id": "41cf8ffa",
   "metadata": {},
   "outputs": [
    {
     "data": {
      "text/plain": [
       "<matplotlib.legend.Legend at 0x16724d77a90>"
      ]
     },
     "execution_count": 121,
     "metadata": {},
     "output_type": "execute_result"
    },
    {
     "data": {
      "image/png": "[encoded data removed]",
      "text/plain": [
       "<Figure size 1080x432 with 1 Axes>"
      ]
     },
     "metadata": {
      "needs_background": "light"
     },
     "output_type": "display_data"
    }
   ],
   "source": [
    "fig, ax = plt.subplots(figsize=(15,6))\n",
    "x_pos = np.arange(len(accuracy))\n",
    "bar_width = 0.2\n",
    "ax.bar(x_pos,precision, width=bar_width, color='b')\n",
    "ax.bar(x_pos+bar_width, recall, width=bar_width, color='g')\n",
    "ax.bar(x_pos+2*bar_width, f1_score, width=bar_width, color='r')\n",
    "\n",
    "ax.set_xticks(x_pos+1*bar_width)\n",
    "ax.set_xticklabels(models)\n",
    "ax.legend(['precision','recall','F1-score'])"
   ]
  },
  {
   "cell_type": "code",
   "execution_count": 122,
   "id": "a9a4cb33",
   "metadata": {},
   "outputs": [],
   "source": [
    "# Load the results dataframe\n",
    "final_results = pd.DataFrame({\n",
    "    'Classifier': models,\n",
    "    'Accuracy': accuracy,\n",
    "    'Precision': precision,\n",
    "    'Recall': recall,\n",
    "    'F1-Score': f1_score\n",
    "})"
   ]
  },
  {
   "cell_type": "code",
   "execution_count": 123,
   "id": "6d00e7ea",
   "metadata": {},
   "outputs": [
    {
     "data": {
      "text/html": [
       "<div>\n",
       "<style scoped>\n",
       "    .dataframe tbody tr th:only-of-type {\n",
       "        vertical-align: middle;\n",
       "    }\n",
       "\n",
       "    .dataframe tbody tr th {\n",
       "        vertical-align: top;\n",
       "    }\n",
       "\n",
       "    .dataframe thead th {\n",
       "        text-align: right;\n",
       "    }\n",
       "</style>\n",
       "<table border=\"1\" class=\"dataframe\">\n",
       "  <thead>\n",
       "    <tr style=\"text-align: right;\">\n",
       "      <th></th>\n",
       "      <th>Classifier</th>\n",
       "      <th>Accuracy</th>\n",
       "      <th>Precision</th>\n",
       "      <th>Recall</th>\n",
       "      <th>F1-Score</th>\n",
       "    </tr>\n",
       "  </thead>\n",
       "  <tbody>\n",
       "    <tr>\n",
       "      <th>0</th>\n",
       "      <td>Naive</td>\n",
       "      <td>0.207179</td>\n",
       "      <td>0.042923</td>\n",
       "      <td>0.207179</td>\n",
       "      <td>0.071113</td>\n",
       "    </tr>\n",
       "    <tr>\n",
       "      <th>1</th>\n",
       "      <td>Linear Classifier</td>\n",
       "      <td>0.951855</td>\n",
       "      <td>0.952721</td>\n",
       "      <td>0.951855</td>\n",
       "      <td>0.951672</td>\n",
       "    </tr>\n",
       "    <tr>\n",
       "      <th>2</th>\n",
       "      <td>KNN</td>\n",
       "      <td>0.979043</td>\n",
       "      <td>0.979343</td>\n",
       "      <td>0.979043</td>\n",
       "      <td>0.979044</td>\n",
       "    </tr>\n",
       "    <tr>\n",
       "      <th>3</th>\n",
       "      <td>Random Forest</td>\n",
       "      <td>0.993854</td>\n",
       "      <td>0.993923</td>\n",
       "      <td>0.993854</td>\n",
       "      <td>0.993862</td>\n",
       "    </tr>\n",
       "    <tr>\n",
       "      <th>4</th>\n",
       "      <td>Decision Tree</td>\n",
       "      <td>0.991165</td>\n",
       "      <td>0.991235</td>\n",
       "      <td>0.991165</td>\n",
       "      <td>0.991174</td>\n",
       "    </tr>\n",
       "    <tr>\n",
       "      <th>5</th>\n",
       "      <td>SVC Linear</td>\n",
       "      <td>0.964617</td>\n",
       "      <td>0.964697</td>\n",
       "      <td>0.964617</td>\n",
       "      <td>0.964426</td>\n",
       "    </tr>\n",
       "    <tr>\n",
       "      <th>6</th>\n",
       "      <td>SVC non-Linear</td>\n",
       "      <td>0.994579</td>\n",
       "      <td>0.994578</td>\n",
       "      <td>0.994579</td>\n",
       "      <td>0.994577</td>\n",
       "    </tr>\n",
       "    <tr>\n",
       "      <th>7</th>\n",
       "      <td>MLP</td>\n",
       "      <td>0.996927</td>\n",
       "      <td>0.996932</td>\n",
       "      <td>0.996927</td>\n",
       "      <td>0.996928</td>\n",
       "    </tr>\n",
       "    <tr>\n",
       "      <th>8</th>\n",
       "      <td>Lasso_RFC</td>\n",
       "      <td>0.981220</td>\n",
       "      <td>0.982031</td>\n",
       "      <td>0.981220</td>\n",
       "      <td>0.981241</td>\n",
       "    </tr>\n",
       "    <tr>\n",
       "      <th>9</th>\n",
       "      <td>LASSO_MLP</td>\n",
       "      <td>0.982714</td>\n",
       "      <td>0.982753</td>\n",
       "      <td>0.982714</td>\n",
       "      <td>0.982726</td>\n",
       "    </tr>\n",
       "    <tr>\n",
       "      <th>10</th>\n",
       "      <td>Bi_RFC</td>\n",
       "      <td>0.991207</td>\n",
       "      <td>0.991340</td>\n",
       "      <td>0.991207</td>\n",
       "      <td>0.991220</td>\n",
       "    </tr>\n",
       "    <tr>\n",
       "      <th>11</th>\n",
       "      <td>Bi_MLP</td>\n",
       "      <td>0.993640</td>\n",
       "      <td>0.993645</td>\n",
       "      <td>0.993640</td>\n",
       "      <td>0.993642</td>\n",
       "    </tr>\n",
       "  </tbody>\n",
       "</table>\n",
       "</div>"
      ],
      "text/plain": [
       "           Classifier  Accuracy  Precision    Recall  F1-Score\n",
       "0               Naive  0.207179   0.042923  0.207179  0.071113\n",
       "1   Linear Classifier  0.951855   0.952721  0.951855  0.951672\n",
       "2                 KNN  0.979043   0.979343  0.979043  0.979044\n",
       "3       Random Forest  0.993854   0.993923  0.993854  0.993862\n",
       "4       Decision Tree  0.991165   0.991235  0.991165  0.991174\n",
       "5          SVC Linear  0.964617   0.964697  0.964617  0.964426\n",
       "6      SVC non-Linear  0.994579   0.994578  0.994579  0.994577\n",
       "7                 MLP  0.996927   0.996932  0.996927  0.996928\n",
       "8           Lasso_RFC  0.981220   0.982031  0.981220  0.981241\n",
       "9           LASSO_MLP  0.982714   0.982753  0.982714  0.982726\n",
       "10             Bi_RFC  0.991207   0.991340  0.991207  0.991220\n",
       "11             Bi_MLP  0.993640   0.993645  0.993640  0.993642"
      ]
     },
     "execution_count": 123,
     "metadata": {},
     "output_type": "execute_result"
    }
   ],
   "source": [
    "final_results"
   ]
  }
 ],
 "metadata": {
  "kernelspec": {
   "display_name": "Python 3 (ipykernel)",
   "language": "python",
   "name": "python3"
  },
  "language_info": {
   "codemirror_mode": {
    "name": "ipython",
    "version": 3
   },
   "file_extension": ".py",
   "mimetype": "text/x-python",
   "name": "python",
   "nbconvert_exporter": "python",
   "pygments_lexer": "ipython3",
   "version": "3.9.12"
  }
 },
 "nbformat": 4,
 "nbformat_minor": 5
}
